{
 "cells": [
  {
   "cell_type": "markdown",
   "id": "cd70a326",
   "metadata": {},
   "source": [
    "**Desafio 1**"
   ]
  },
  {
   "cell_type": "markdown",
   "id": "385a1629",
   "metadata": {},
   "source": [
    "No es posible rechazar la Hipotesis nula con un 95% de confianza. La maxima confianza con la que seria posible rechazar la hipotesis nula seria con un 88,17%."
   ]
  },
  {
   "cell_type": "markdown",
   "id": "4c6f14fc",
   "metadata": {},
   "source": [
    "**Desafio 2**"
   ]
  },
  {
   "cell_type": "code",
   "execution_count": 140,
   "id": "b6673636",
   "metadata": {},
   "outputs": [],
   "source": [
    "import pandas as pd\n",
    "import numpy as np\n",
    "import matplotlib.pyplot as plt\n",
    "import seaborn as sns\n",
    "from scipy import stats"
   ]
  },
  {
   "cell_type": "code",
   "execution_count": 141,
   "id": "594ff00b",
   "metadata": {},
   "outputs": [],
   "source": [
    "df = pd.read_csv('nations.csv')"
   ]
  },
  {
   "cell_type": "code",
   "execution_count": 142,
   "id": "da2bed53",
   "metadata": {},
   "outputs": [
    {
     "data": {
      "text/plain": [
       "array(['Africa', 'Americas', 'Asia', 'Europe', 'Oceania'], dtype=object)"
      ]
     },
     "execution_count": 142,
     "metadata": {},
     "output_type": "execute_result"
    }
   ],
   "source": [
    "df['region'].unique()"
   ]
  },
  {
   "cell_type": "code",
   "execution_count": 143,
   "id": "7eb2159f",
   "metadata": {},
   "outputs": [],
   "source": [
    "for region in df['region'].unique():\n",
    "    df[region]=np.where(df['region']== region, 1, 0)\n",
    "                                            "
   ]
  },
  {
   "cell_type": "code",
   "execution_count": 144,
   "id": "e8ce41bb",
   "metadata": {},
   "outputs": [
    {
     "data": {
      "text/html": [
       "<div>\n",
       "<style scoped>\n",
       "    .dataframe tbody tr th:only-of-type {\n",
       "        vertical-align: middle;\n",
       "    }\n",
       "\n",
       "    .dataframe tbody tr th {\n",
       "        vertical-align: top;\n",
       "    }\n",
       "\n",
       "    .dataframe thead th {\n",
       "        text-align: right;\n",
       "    }\n",
       "</style>\n",
       "<table border=\"1\" class=\"dataframe\">\n",
       "  <thead>\n",
       "    <tr style=\"text-align: right;\">\n",
       "      <th></th>\n",
       "      <th>Unnamed: 0</th>\n",
       "      <th>country</th>\n",
       "      <th>region</th>\n",
       "      <th>gdp</th>\n",
       "      <th>school</th>\n",
       "      <th>adfert</th>\n",
       "      <th>chldmort</th>\n",
       "      <th>life</th>\n",
       "      <th>pop</th>\n",
       "      <th>urban</th>\n",
       "      <th>femlab</th>\n",
       "      <th>literacy</th>\n",
       "      <th>co2</th>\n",
       "      <th>gini</th>\n",
       "      <th>Africa</th>\n",
       "      <th>Americas</th>\n",
       "      <th>Asia</th>\n",
       "      <th>Europe</th>\n",
       "      <th>Oceania</th>\n",
       "    </tr>\n",
       "  </thead>\n",
       "  <tbody>\n",
       "    <tr>\n",
       "      <th>0</th>\n",
       "      <td>1</td>\n",
       "      <td>Algeria</td>\n",
       "      <td>Africa</td>\n",
       "      <td>7300.399902</td>\n",
       "      <td>6.716667</td>\n",
       "      <td>7.300000</td>\n",
       "      <td>34.75</td>\n",
       "      <td>72.316666</td>\n",
       "      <td>34172236</td>\n",
       "      <td>64.933334</td>\n",
       "      <td>0.4522</td>\n",
       "      <td>72.599998</td>\n",
       "      <td>15.00</td>\n",
       "      <td>NaN</td>\n",
       "      <td>1</td>\n",
       "      <td>0</td>\n",
       "      <td>0</td>\n",
       "      <td>0</td>\n",
       "      <td>0</td>\n",
       "    </tr>\n",
       "    <tr>\n",
       "      <th>1</th>\n",
       "      <td>2</td>\n",
       "      <td>Benin</td>\n",
       "      <td>Africa</td>\n",
       "      <td>1338.800049</td>\n",
       "      <td>3.100000</td>\n",
       "      <td>111.699997</td>\n",
       "      <td>122.75</td>\n",
       "      <td>54.733334</td>\n",
       "      <td>8237634</td>\n",
       "      <td>41.000000</td>\n",
       "      <td>0.8482</td>\n",
       "      <td>41.700001</td>\n",
       "      <td>1.20</td>\n",
       "      <td>NaN</td>\n",
       "      <td>1</td>\n",
       "      <td>0</td>\n",
       "      <td>0</td>\n",
       "      <td>0</td>\n",
       "      <td>0</td>\n",
       "    </tr>\n",
       "    <tr>\n",
       "      <th>2</th>\n",
       "      <td>3</td>\n",
       "      <td>Botswana</td>\n",
       "      <td>Africa</td>\n",
       "      <td>12307.400391</td>\n",
       "      <td>8.600000</td>\n",
       "      <td>52.099998</td>\n",
       "      <td>60.25</td>\n",
       "      <td>52.250000</td>\n",
       "      <td>1941233</td>\n",
       "      <td>59.250000</td>\n",
       "      <td>0.8870</td>\n",
       "      <td>84.099998</td>\n",
       "      <td>9.20</td>\n",
       "      <td>NaN</td>\n",
       "      <td>1</td>\n",
       "      <td>0</td>\n",
       "      <td>0</td>\n",
       "      <td>0</td>\n",
       "      <td>0</td>\n",
       "    </tr>\n",
       "    <tr>\n",
       "      <th>3</th>\n",
       "      <td>4</td>\n",
       "      <td>Burkina Faso</td>\n",
       "      <td>Africa</td>\n",
       "      <td>1063.400024</td>\n",
       "      <td>1.300000</td>\n",
       "      <td>124.800003</td>\n",
       "      <td>170.50</td>\n",
       "      <td>53.783333</td>\n",
       "      <td>15308383</td>\n",
       "      <td>23.583334</td>\n",
       "      <td>0.8584</td>\n",
       "      <td>23.600000</td>\n",
       "      <td>0.20</td>\n",
       "      <td>NaN</td>\n",
       "      <td>1</td>\n",
       "      <td>0</td>\n",
       "      <td>0</td>\n",
       "      <td>0</td>\n",
       "      <td>0</td>\n",
       "    </tr>\n",
       "    <tr>\n",
       "      <th>4</th>\n",
       "      <td>5</td>\n",
       "      <td>Burundi</td>\n",
       "      <td>Africa</td>\n",
       "      <td>349.200012</td>\n",
       "      <td>2.483333</td>\n",
       "      <td>18.600000</td>\n",
       "      <td>168.50</td>\n",
       "      <td>48.866665</td>\n",
       "      <td>7821783</td>\n",
       "      <td>10.250000</td>\n",
       "      <td>1.0344</td>\n",
       "      <td>66.599998</td>\n",
       "      <td>0.10</td>\n",
       "      <td>33.299999</td>\n",
       "      <td>1</td>\n",
       "      <td>0</td>\n",
       "      <td>0</td>\n",
       "      <td>0</td>\n",
       "      <td>0</td>\n",
       "    </tr>\n",
       "    <tr>\n",
       "      <th>...</th>\n",
       "      <td>...</td>\n",
       "      <td>...</td>\n",
       "      <td>...</td>\n",
       "      <td>...</td>\n",
       "      <td>...</td>\n",
       "      <td>...</td>\n",
       "      <td>...</td>\n",
       "      <td>...</td>\n",
       "      <td>...</td>\n",
       "      <td>...</td>\n",
       "      <td>...</td>\n",
       "      <td>...</td>\n",
       "      <td>...</td>\n",
       "      <td>...</td>\n",
       "      <td>...</td>\n",
       "      <td>...</td>\n",
       "      <td>...</td>\n",
       "      <td>...</td>\n",
       "      <td>...</td>\n",
       "    </tr>\n",
       "    <tr>\n",
       "      <th>189</th>\n",
       "      <td>190</td>\n",
       "      <td>Samoa</td>\n",
       "      <td>Oceania</td>\n",
       "      <td>4012.600098</td>\n",
       "      <td>10.300000</td>\n",
       "      <td>28.299999</td>\n",
       "      <td>26.75</td>\n",
       "      <td>71.533333</td>\n",
       "      <td>181600</td>\n",
       "      <td>20.666668</td>\n",
       "      <td>0.5010</td>\n",
       "      <td>98.800003</td>\n",
       "      <td>3.10</td>\n",
       "      <td>NaN</td>\n",
       "      <td>0</td>\n",
       "      <td>0</td>\n",
       "      <td>0</td>\n",
       "      <td>0</td>\n",
       "      <td>1</td>\n",
       "    </tr>\n",
       "    <tr>\n",
       "      <th>190</th>\n",
       "      <td>191</td>\n",
       "      <td>Solomon Islands</td>\n",
       "      <td>Oceania</td>\n",
       "      <td>2249.199951</td>\n",
       "      <td>4.500000</td>\n",
       "      <td>70.300003</td>\n",
       "      <td>36.00</td>\n",
       "      <td>66.500000</td>\n",
       "      <td>503617</td>\n",
       "      <td>17.766666</td>\n",
       "      <td>0.4858</td>\n",
       "      <td>NaN</td>\n",
       "      <td>1.40</td>\n",
       "      <td>NaN</td>\n",
       "      <td>0</td>\n",
       "      <td>0</td>\n",
       "      <td>0</td>\n",
       "      <td>0</td>\n",
       "      <td>1</td>\n",
       "    </tr>\n",
       "    <tr>\n",
       "      <th>191</th>\n",
       "      <td>192</td>\n",
       "      <td>Tonga</td>\n",
       "      <td>Oceania</td>\n",
       "      <td>4072.199951</td>\n",
       "      <td>10.133333</td>\n",
       "      <td>22.299999</td>\n",
       "      <td>19.25</td>\n",
       "      <td>71.833336</td>\n",
       "      <td>102550</td>\n",
       "      <td>23.266666</td>\n",
       "      <td>0.7150</td>\n",
       "      <td>99.000000</td>\n",
       "      <td>4.85</td>\n",
       "      <td>NaN</td>\n",
       "      <td>0</td>\n",
       "      <td>0</td>\n",
       "      <td>0</td>\n",
       "      <td>0</td>\n",
       "      <td>1</td>\n",
       "    </tr>\n",
       "    <tr>\n",
       "      <th>192</th>\n",
       "      <td>193</td>\n",
       "      <td>Tuvalu</td>\n",
       "      <td>Oceania</td>\n",
       "      <td>NaN</td>\n",
       "      <td>NaN</td>\n",
       "      <td>23.299999</td>\n",
       "      <td>36.50</td>\n",
       "      <td>66.033333</td>\n",
       "      <td>9767</td>\n",
       "      <td>49.233334</td>\n",
       "      <td>NaN</td>\n",
       "      <td>NaN</td>\n",
       "      <td>NaN</td>\n",
       "      <td>NaN</td>\n",
       "      <td>0</td>\n",
       "      <td>0</td>\n",
       "      <td>0</td>\n",
       "      <td>0</td>\n",
       "      <td>1</td>\n",
       "    </tr>\n",
       "    <tr>\n",
       "      <th>193</th>\n",
       "      <td>194</td>\n",
       "      <td>Vanuatu</td>\n",
       "      <td>Oceania</td>\n",
       "      <td>3809.800049</td>\n",
       "      <td>6.700000</td>\n",
       "      <td>54.000000</td>\n",
       "      <td>17.75</td>\n",
       "      <td>69.966667</td>\n",
       "      <td>225317</td>\n",
       "      <td>24.500000</td>\n",
       "      <td>0.8988</td>\n",
       "      <td>82.000000</td>\n",
       "      <td>1.50</td>\n",
       "      <td>NaN</td>\n",
       "      <td>0</td>\n",
       "      <td>0</td>\n",
       "      <td>0</td>\n",
       "      <td>0</td>\n",
       "      <td>1</td>\n",
       "    </tr>\n",
       "  </tbody>\n",
       "</table>\n",
       "<p>194 rows × 19 columns</p>\n",
       "</div>"
      ],
      "text/plain": [
       "     Unnamed: 0          country   region           gdp     school  \\\n",
       "0             1          Algeria   Africa   7300.399902   6.716667   \n",
       "1             2            Benin   Africa   1338.800049   3.100000   \n",
       "2             3         Botswana   Africa  12307.400391   8.600000   \n",
       "3             4     Burkina Faso   Africa   1063.400024   1.300000   \n",
       "4             5          Burundi   Africa    349.200012   2.483333   \n",
       "..          ...              ...      ...           ...        ...   \n",
       "189         190            Samoa  Oceania   4012.600098  10.300000   \n",
       "190         191  Solomon Islands  Oceania   2249.199951   4.500000   \n",
       "191         192            Tonga  Oceania   4072.199951  10.133333   \n",
       "192         193           Tuvalu  Oceania           NaN        NaN   \n",
       "193         194          Vanuatu  Oceania   3809.800049   6.700000   \n",
       "\n",
       "         adfert  chldmort       life       pop      urban  femlab   literacy  \\\n",
       "0      7.300000     34.75  72.316666  34172236  64.933334  0.4522  72.599998   \n",
       "1    111.699997    122.75  54.733334   8237634  41.000000  0.8482  41.700001   \n",
       "2     52.099998     60.25  52.250000   1941233  59.250000  0.8870  84.099998   \n",
       "3    124.800003    170.50  53.783333  15308383  23.583334  0.8584  23.600000   \n",
       "4     18.600000    168.50  48.866665   7821783  10.250000  1.0344  66.599998   \n",
       "..          ...       ...        ...       ...        ...     ...        ...   \n",
       "189   28.299999     26.75  71.533333    181600  20.666668  0.5010  98.800003   \n",
       "190   70.300003     36.00  66.500000    503617  17.766666  0.4858        NaN   \n",
       "191   22.299999     19.25  71.833336    102550  23.266666  0.7150  99.000000   \n",
       "192   23.299999     36.50  66.033333      9767  49.233334     NaN        NaN   \n",
       "193   54.000000     17.75  69.966667    225317  24.500000  0.8988  82.000000   \n",
       "\n",
       "       co2       gini  Africa  Americas  Asia  Europe  Oceania  \n",
       "0    15.00        NaN       1         0     0       0        0  \n",
       "1     1.20        NaN       1         0     0       0        0  \n",
       "2     9.20        NaN       1         0     0       0        0  \n",
       "3     0.20        NaN       1         0     0       0        0  \n",
       "4     0.10  33.299999       1         0     0       0        0  \n",
       "..     ...        ...     ...       ...   ...     ...      ...  \n",
       "189   3.10        NaN       0         0     0       0        1  \n",
       "190   1.40        NaN       0         0     0       0        1  \n",
       "191   4.85        NaN       0         0     0       0        1  \n",
       "192    NaN        NaN       0         0     0       0        1  \n",
       "193   1.50        NaN       0         0     0       0        1  \n",
       "\n",
       "[194 rows x 19 columns]"
      ]
     },
     "execution_count": 144,
     "metadata": {},
     "output_type": "execute_result"
    }
   ],
   "source": [
    "df"
   ]
  },
  {
   "cell_type": "markdown",
   "id": "3bb2e2c7",
   "metadata": {},
   "source": [
    "**Desafio 3**"
   ]
  },
  {
   "cell_type": "code",
   "execution_count": 145,
   "id": "ca96c50d",
   "metadata": {},
   "outputs": [],
   "source": [
    "def prueba_hipotesis(dataframe, variable, binarize):\n",
    "\n",
    "    hist_0=df.query(binarize +' == 0')[variable].dropna()\n",
    "    hist_1=df.query(binarize +' == 1')[variable].dropna()\n",
    "    \n",
    "    statistic, pvalue = stats.ttest_ind(hist_1, hist_0)\n",
    "    media_hist_0 = hist_0.mean()\n",
    "    media_hist_1 = hist_1.mean()\n",
    "    \n",
    "    diferencia = abs(media_hist_1 - media_hist_0)\n",
    "    print(f'Analisis para la variable \\'{variable}\\'')\n",
    "    print(f'La media entre los paises pertenecientes a {binarize} es de {media_hist_1}')\n",
    "    print(f'La media entre los paises que no pertenecen a {binarize} es de {media_hist_0}')\n",
    "    print(f'La diferencia entre ambas medias es de (diferencia)')\n",
    "    print(f'El valor estadistico es {statistic}')\n",
    "    print(f'El valor de pvalue es {pvalue}')"
   ]
  },
  {
   "cell_type": "code",
   "execution_count": 146,
   "id": "582cb0c1",
   "metadata": {},
   "outputs": [
    {
     "name": "stdout",
     "output_type": "stream",
     "text": [
      "Analisis para la variable 'femlab'\n",
      "La media entre los paises pertenecientes a Africa es de 0.7299098010156669\n",
      "La media entre los paises que no pertenecen a Africa es de 0.6761015881858174\n",
      "La diferencia entre ambas medias es de (diferencia)\n",
      "El valor estadistico es 1.783872878266046\n",
      "El valor de pvalue es 0.0761771840435915\n",
      "\n",
      "\n",
      "Analisis para la variable 'literacy'\n",
      "La media entre los paises pertenecientes a Africa es de 65.30851067887976\n",
      "La media entre los paises que no pertenecen a Africa es de 90.19857935471968\n",
      "La diferencia entre ambas medias es de (diferencia)\n",
      "El valor estadistico es -8.909991173873896\n",
      "El valor de pvalue es 3.3857112156459963e-15\n",
      "\n",
      "\n",
      "Analisis para la variable 'school'\n",
      "La media entre los paises pertenecientes a Africa es de 4.522875827901504\n",
      "La media entre los paises que no pertenecen a Africa es de 8.5523114274018\n",
      "La diferencia entre ambas medias es de (diferencia)\n",
      "El valor estadistico es -10.415811831777058\n",
      "El valor de pvalue es 2.6352830456717332e-20\n"
     ]
    }
   ],
   "source": [
    "prueba_hipotesis(df, 'femlab', 'Africa')\n",
    "print('\\n')\n",
    "prueba_hipotesis(df, 'literacy', 'Africa')\n",
    "print('\\n')\n",
    "prueba_hipotesis(df, 'school', 'Africa')"
   ]
  },
  {
   "cell_type": "markdown",
   "id": "72a560ae",
   "metadata": {},
   "source": [
    "**Desafio 4**"
   ]
  },
  {
   "cell_type": "code",
   "execution_count": 147,
   "id": "76a311b2",
   "metadata": {},
   "outputs": [],
   "source": [
    "def prueba_hipotesis(dataframe, variable, binarize):\n",
    "\n",
    "    hist_0=df.query(binarize +' == 0')[variable].dropna()\n",
    "    hist_1=df.query(binarize +' == 1')[variable].dropna()\n",
    "    \n",
    "    statistic, pvalue = stats.ttest_ind(hist_1, hist_0)\n",
    "    media_hist_0 = hist_0.mean()\n",
    "    media_hist_1 = hist_1.mean()\n",
    "    \n",
    "    diferencia = abs(media_hist_1 - media_hist_0)\n",
    "    print(f'Analisis para la variable \\'{variable}\\'')\n",
    "    print(f'La media entre los paises pertenecientes a {binarize} es de {media_hist_1}')\n",
    "    print(f'La media entre los paises que no pertenecen a {binarize} es de {media_hist_0}')\n",
    "    print(f'La diferencia entre ambas medias es de {diferencia}')\n",
    "    print(f'El valor estadistico es {statistic}')\n",
    "    print(f'El valor de pvalue es {pvalue}')\n",
    "    \n",
    "    plt.hist(hist_1, label=binarize, color='red', alpha= 0.7)\n",
    "    plt.hist(hist_0, label='El resto del mundo', color = 'blue', alpha=0.2)\n",
    "    plt.legend()\n",
    "    plt.show()"
   ]
  },
  {
   "cell_type": "code",
   "execution_count": 148,
   "id": "71b4d27c",
   "metadata": {},
   "outputs": [
    {
     "name": "stdout",
     "output_type": "stream",
     "text": [
      "Analisis para la variable 'femlab'\n",
      "La media entre los paises pertenecientes a Africa es de 0.7299098010156669\n",
      "La media entre los paises que no pertenecen a Africa es de 0.6761015881858174\n",
      "La diferencia entre ambas medias es de 0.05380821282984949\n",
      "El valor estadistico es 1.783872878266046\n",
      "El valor de pvalue es 0.0761771840435915\n"
     ]
    },
    {
     "data": {
      "image/png": "[encoded data removed]",
      "text/plain": [
       "<Figure size 432x288 with 1 Axes>"
      ]
     },
     "metadata": {
      "needs_background": "light"
     },
     "output_type": "display_data"
    },
    {
     "name": "stdout",
     "output_type": "stream",
     "text": [
      "\n",
      "\n",
      "Analisis para la variable 'literacy'\n",
      "La media entre los paises pertenecientes a Africa es de 65.30851067887976\n",
      "La media entre los paises que no pertenecen a Africa es de 90.19857935471968\n",
      "La diferencia entre ambas medias es de 24.890068675839927\n",
      "El valor estadistico es -8.909991173873896\n",
      "El valor de pvalue es 3.3857112156459963e-15\n"
     ]
    },
    {
     "data": {
      "image/png": "[encoded data removed]",
      "text/plain": [
       "<Figure size 432x288 with 1 Axes>"
      ]
     },
     "metadata": {
      "needs_background": "light"
     },
     "output_type": "display_data"
    },
    {
     "name": "stdout",
     "output_type": "stream",
     "text": [
      "\n",
      "\n",
      "Analisis para la variable 'school'\n",
      "La media entre los paises pertenecientes a Africa es de 4.522875827901504\n",
      "La media entre los paises que no pertenecen a Africa es de 8.5523114274018\n",
      "La diferencia entre ambas medias es de 4.029435599500297\n",
      "El valor estadistico es -10.415811831777058\n",
      "El valor de pvalue es 2.6352830456717332e-20\n"
     ]
    },
    {
     "data": {
      "image/png": "[encoded data removed]",
      "text/plain": [
       "<Figure size 432x288 with 1 Axes>"
      ]
     },
     "metadata": {
      "needs_background": "light"
     },
     "output_type": "display_data"
    }
   ],
   "source": [
    "region = 'Africa'\n",
    "prueba_hipotesis(df, 'femlab', region)\n",
    "print('\\n')\n",
    "prueba_hipotesis(df, 'literacy', region)\n",
    "print('\\n')\n",
    "prueba_hipotesis(df, 'school', region)"
   ]
  },
  {
   "cell_type": "markdown",
   "id": "37c7b449",
   "metadata": {},
   "source": [
    "Para la variable femlab. Se puede rechazar la hipotesis nula (el valor de femlab es similar para **africa** y el resto del mundo) con un 90% de confianza.  "
   ]
  },
  {
   "cell_type": "markdown",
   "id": "3267253f",
   "metadata": {},
   "source": [
    "Para la variable literacy. Se puede rechazar la hipotesis nula (el valor de literacy es similar para **africa** y el resto del mundo) con un 99% de confianza.  "
   ]
  },
  {
   "cell_type": "markdown",
   "id": "41662ab1",
   "metadata": {},
   "source": [
    "Para la variable school. Se puede rechazar la hipotesis nula (el valor de school es similar para **africa** y el resto del mundo) con un 99% de confianza. "
   ]
  },
  {
   "cell_type": "code",
   "execution_count": 149,
   "id": "1bb540b9",
   "metadata": {},
   "outputs": [
    {
     "name": "stdout",
     "output_type": "stream",
     "text": [
      "Analisis para la variable 'femlab'\n",
      "La media entre los paises pertenecientes a Americas es de 0.6507483913052466\n",
      "La media entre los paises que no pertenecen a Americas es de 0.700280820772256\n",
      "La diferencia entre ambas medias es de 0.04953242946700931\n",
      "El valor estadistico es -1.3731113408683462\n",
      "El valor de pvalue es 0.1714745430099794\n"
     ]
    },
    {
     "data": {
      "image/png": "[encoded data removed]",
      "text/plain": [
       "<Figure size 432x288 with 1 Axes>"
      ]
     },
     "metadata": {
      "needs_background": "light"
     },
     "output_type": "display_data"
    },
    {
     "name": "stdout",
     "output_type": "stream",
     "text": [
      "\n",
      "\n",
      "Analisis para la variable 'literacy'\n",
      "La media entre los paises pertenecientes a Americas es de 89.30124988555909\n",
      "La media entre los paises que no pertenecen a Americas es de 80.18217380357825\n",
      "La diferencia entre ambas medias es de 9.119076081980836\n",
      "El valor estadistico es 1.953805549546212\n",
      "El valor de pvalue es 0.05282297025501065\n"
     ]
    },
    {
     "data": {
      "image/png": "[encoded data removed]",
      "text/plain": [
       "<Figure size 432x288 with 1 Axes>"
      ]
     },
     "metadata": {
      "needs_background": "light"
     },
     "output_type": "display_data"
    },
    {
     "name": "stdout",
     "output_type": "stream",
     "text": [
      "\n",
      "\n",
      "Analisis para la variable 'school'\n",
      "La media entre los paises pertenecientes a Americas es de 8.072857080187116\n",
      "La media entre los paises que no pertenecen a Americas es de 7.318845326604408\n",
      "La diferencia entre ambas medias es de 0.7540117535827084\n",
      "El valor estadistico es 1.362827174571195\n",
      "El valor de pvalue es 0.17458464986808925\n"
     ]
    },
    {
     "data": {
      "image/png": "[encoded data removed]",
      "text/plain": [
       "<Figure size 432x288 with 1 Axes>"
      ]
     },
     "metadata": {
      "needs_background": "light"
     },
     "output_type": "display_data"
    }
   ],
   "source": [
    "region = 'Americas'\n",
    "prueba_hipotesis(df, 'femlab', region)\n",
    "print('\\n')\n",
    "prueba_hipotesis(df, 'literacy', region)\n",
    "print('\\n')\n",
    "prueba_hipotesis(df, 'school', region)"
   ]
  },
  {
   "cell_type": "markdown",
   "id": "fdc28661",
   "metadata": {},
   "source": [
    "Para la variable femlab. No se puede rechazar la hipotesis nula (el valor de femlab es similar para **America** y el resto del mundo) ya que la confianza no alcanza el 90%.\n",
    "\n",
    "Para la variable literacy. Se puede rechazar la hipotesis nula (el valor de literacy es similar para **America** y el resto del mundo) con un 90% de confianza.\n",
    "\n",
    "Para la variable school. No se puede rechazar la hipotesis nula (el valor de school es similar para **America** y el resto del mundo) ya que la confianza no alcanza el 90%.\n"
   ]
  },
  {
   "cell_type": "code",
   "execution_count": 150,
   "id": "41998159",
   "metadata": {},
   "outputs": [
    {
     "name": "stdout",
     "output_type": "stream",
     "text": [
      "Analisis para la variable 'femlab'\n",
      "La media entre los paises pertenecientes a Asia es de 0.6113142879033575\n",
      "La media entre los paises que no pertenecen a Asia es de 0.7223421863745898\n",
      "La diferencia entre ambas medias es de 0.11102789847123229\n",
      "El valor estadistico es -3.7455196595318414\n",
      "El valor de pvalue es 0.00024413257519365062\n"
     ]
    },
    {
     "data": {
      "image/png": "[encoded data removed]",
      "text/plain": [
       "<Figure size 432x288 with 1 Axes>"
      ]
     },
     "metadata": {
      "needs_background": "light"
     },
     "output_type": "display_data"
    },
    {
     "name": "stdout",
     "output_type": "stream",
     "text": [
      "\n",
      "\n",
      "Analisis para la variable 'literacy'\n",
      "La media entre los paises pertenecientes a Asia es de 87.3573166451803\n",
      "La media entre los paises que no pertenecen a Asia es de 78.99281917734349\n",
      "La diferencia entre ambas medias es de 8.364497467836813\n",
      "El valor estadistico es 2.3336279461015885\n",
      "El valor de pvalue es 0.021114460773250368\n"
     ]
    },
    {
     "data": {
      "image/png": "[encoded data removed]",
      "text/plain": [
       "<Figure size 432x288 with 1 Axes>"
      ]
     },
     "metadata": {
      "needs_background": "light"
     },
     "output_type": "display_data"
    },
    {
     "name": "stdout",
     "output_type": "stream",
     "text": [
      "\n",
      "\n",
      "Analisis para la variable 'school'\n",
      "La media entre los paises pertenecientes a Asia es de 7.261111130317052\n",
      "La media entre los paises que no pertenecen a Asia es de 7.52714284658432\n",
      "La diferencia entre ambas medias es de 0.2660317162672685\n",
      "El valor estadistico es -0.5363879996523622\n",
      "El valor de pvalue es 0.5923313578645575\n"
     ]
    },
    {
     "data": {
      "image/png": "[encoded data removed]",
      "text/plain": [
       "<Figure size 432x288 with 1 Axes>"
      ]
     },
     "metadata": {
      "needs_background": "light"
     },
     "output_type": "display_data"
    }
   ],
   "source": [
    "region = 'Asia'\n",
    "prueba_hipotesis(df, 'femlab', region)\n",
    "print('\\n')\n",
    "prueba_hipotesis(df, 'literacy', region)\n",
    "print('\\n')\n",
    "prueba_hipotesis(df, 'school', region)"
   ]
  },
  {
   "cell_type": "markdown",
   "id": "b253dd62",
   "metadata": {},
   "source": [
    "Para la variable femlab. Se puede rechazar la hipotesis nula (el valor de femlab es similar para **Asia** y el resto del mundo) con un 99% de confianza.\n",
    "\n",
    "Para la variable literacy. Se puede rechazar la hipotesis nula (el valor de literacy es similar para **Asia** y el resto del mundo) con un 95% de confianza.\n",
    "\n",
    "Para la variable school. No se puede rechazar la hipotesis nula (el valor de school es similar para **Asia** y el resto del mundo) ya que la confianza no alcanza el 90%.\n"
   ]
  },
  {
   "cell_type": "code",
   "execution_count": 151,
   "id": "a7bc27ed",
   "metadata": {},
   "outputs": [
    {
     "name": "stdout",
     "output_type": "stream",
     "text": [
      "Analisis para la variable 'femlab'\n",
      "La media entre los paises pertenecientes a Europe es de 0.7716324264938766\n",
      "La media entre los paises que no pertenecen a Europe es de 0.6704557155924183\n",
      "La diferencia entre ambas medias es de 0.1011767109014583\n",
      "El valor estadistico es 3.063523760334362\n",
      "El valor de pvalue es 0.0025335604834548654\n"
     ]
    },
    {
     "data": {
      "image/png": "[encoded data removed]",
      "text/plain": [
       "<Figure size 432x288 with 1 Axes>"
      ]
     },
     "metadata": {
      "needs_background": "light"
     },
     "output_type": "display_data"
    },
    {
     "name": "stdout",
     "output_type": "stream",
     "text": [
      "\n",
      "\n",
      "Analisis para la variable 'literacy'\n",
      "La media entre los paises pertenecientes a Europe es de 98.17727279663086\n",
      "La media entre los paises que no pertenecen a Europe es de 78.2926989698832\n",
      "La diferencia entre ambas medias es de 19.884573826747655\n",
      "El valor estadistico es 4.71843149821332\n",
      "El valor de pvalue es 5.935608765865936e-06\n"
     ]
    },
    {
     "data": {
      "image/png": "[encoded data removed]",
      "text/plain": [
       "<Figure size 432x288 with 1 Axes>"
      ]
     },
     "metadata": {
      "needs_background": "light"
     },
     "output_type": "display_data"
    },
    {
     "name": "stdout",
     "output_type": "stream",
     "text": [
      "\n",
      "\n",
      "Analisis para la variable 'school'\n",
      "La media entre los paises pertenecientes a Europe es de 10.421544679781281\n",
      "La media entre los paises que no pertenecen a Europe es de 6.632993203442113\n",
      "La diferencia entre ambas medias es de 3.788551476339168\n",
      "El valor estadistico es 8.524346217730443\n",
      "El valor de pvalue es 5.20910302336092e-15\n"
     ]
    },
    {
     "data": {
      "image/png": "[encoded data removed]",
      "text/plain": [
       "<Figure size 432x288 with 1 Axes>"
      ]
     },
     "metadata": {
      "needs_background": "light"
     },
     "output_type": "display_data"
    }
   ],
   "source": [
    "region = 'Europe'\n",
    "prueba_hipotesis(df, 'femlab', region)\n",
    "print('\\n')\n",
    "prueba_hipotesis(df, 'literacy', region)\n",
    "print('\\n')\n",
    "prueba_hipotesis(df, 'school', region)"
   ]
  },
  {
   "cell_type": "markdown",
   "id": "31bc8108",
   "metadata": {},
   "source": [
    "Para la variable femlab. Se puede rechazar la hipotesis nula (el valor de femlab es similar para **Europa** y el resto del mundo) con un 99% de confianza.\n",
    "\n",
    "Para la variable literacy. Se puede rechazar la hipotesis nula (el valor de literacy es similar para **Europa** y el resto del mundo) con un 99% de confianza.\n",
    "\n",
    "Para la variable school. Se puede rechazar la hipotesis nula (el valor de school es similar para **Europa** y el resto del mundo) con un 99% de confianza.\n"
   ]
  },
  {
   "cell_type": "code",
   "execution_count": 152,
   "id": "74df6596",
   "metadata": {},
   "outputs": [
    {
     "name": "stdout",
     "output_type": "stream",
     "text": [
      "Analisis para la variable 'femlab'\n",
      "La media entre los paises pertenecientes a Oceania es de 0.7234222326013777\n",
      "La media entre los paises que no pertenecen a Oceania es de 0.6899011897011882\n",
      "La diferencia entre ambas medias es de 0.033521042900189535\n",
      "El valor estadistico es 0.5346624412260647\n",
      "El valor de pvalue es 0.5935619441213259\n"
     ]
    },
    {
     "data": {
      "image/png": "[encoded data removed]",
      "text/plain": [
       "<Figure size 432x288 with 1 Axes>"
      ]
     },
     "metadata": {
      "needs_background": "light"
     },
     "output_type": "display_data"
    },
    {
     "name": "stdout",
     "output_type": "stream",
     "text": [
      "\n",
      "\n",
      "Analisis para la variable 'literacy'\n",
      "La media entre los paises pertenecientes a Oceania es de 81.98000030517578\n",
      "La media entre los paises que no pertenecen a Oceania es de 81.51596141228309\n",
      "La diferencia entre ambas medias es de 0.4640388928926882\n",
      "El valor estadistico es 0.05211194697890982\n",
      "El valor de pvalue es 0.9585176817316319\n"
     ]
    },
    {
     "data": {
      "image/png": "[encoded data removed]",
      "text/plain": [
       "<Figure size 432x288 with 1 Axes>"
      ]
     },
     "metadata": {
      "needs_background": "light"
     },
     "output_type": "display_data"
    },
    {
     "name": "stdout",
     "output_type": "stream",
     "text": [
      "\n",
      "\n",
      "Analisis para la variable 'school'\n",
      "La media entre los paises pertenecientes a Oceania es de 8.715384740095876\n",
      "La media entre los paises que no pertenecen a Oceania es de 7.365904749461583\n",
      "La diferencia entre ambas medias es de 1.3494799906342934\n",
      "El valor estadistico es 1.592662858961424\n",
      "El valor de pvalue es 0.11293383755111722\n"
     ]
    },
    {
     "data": {
      "image/png": "[encoded data removed]",
      "text/plain": [
       "<Figure size 432x288 with 1 Axes>"
      ]
     },
     "metadata": {
      "needs_background": "light"
     },
     "output_type": "display_data"
    }
   ],
   "source": [
    "region = 'Oceania'\n",
    "prueba_hipotesis(df, 'femlab', region)\n",
    "print('\\n')\n",
    "prueba_hipotesis(df, 'literacy', region)\n",
    "print('\\n')\n",
    "prueba_hipotesis(df, 'school', region)"
   ]
  },
  {
   "cell_type": "markdown",
   "id": "47d7575a",
   "metadata": {},
   "source": [
    "Para la variable femlab. No se puede rechazar la hipotesis nula (el valor de femlab es similar para **Oceania** y el resto del mundo) ya que pvalue es de 0.59 lo que significa que la confianza para rechazar la hipotesis nula es de 41% aprox.\n",
    "\n",
    "Para la variable literacy. No se observa evidencia suficiente para rechazar la hipotesis nula (el valor de literacy es similar para **Oceania** y el resto del mundo) ya que el valor de pvalue es de 0.95 por lo que la confianza para rechazarla seria de 5% aprox. Por lo que se falla en rechazar la hipotesis nula.\n",
    "\n",
    "Para la variable school. No se puede rechazar la hipotesis nula (el valor de school es similar para **Oceania** y el resto del mundo) ya que la confianza no alcanza el 90%.\n"
   ]
  },
  {
   "cell_type": "code",
   "execution_count": null,
   "id": "9c6152a1",
   "metadata": {},
   "outputs": [],
   "source": []
  }
 ],
 "metadata": {
  "kernelspec": {
   "display_name": "Python 3",
   "language": "python",
   "name": "python3"
  },
  "language_info": {
   "codemirror_mode": {
    "name": "ipython",
    "version": 3
   },
   "file_extension": ".py",
   "mimetype": "text/x-python",
   "name": "python",
   "nbconvert_exporter": "python",
   "pygments_lexer": "ipython3",
   "version": "3.8.8"
  }
 },
 "nbformat": 4,
 "nbformat_minor": 5
}
