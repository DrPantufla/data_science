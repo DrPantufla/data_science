{
 "cells": [
  {
   "cell_type": "markdown",
   "id": "c6686377",
   "metadata": {},
   "source": [
    "**Desafio 1**"
   ]
  },
  {
   "cell_type": "code",
   "execution_count": 192,
   "id": "48e06dd1",
   "metadata": {},
   "outputs": [],
   "source": [
    "import warnings\n",
    "warnings.filterwarnings(\"ignore\", category=DeprecationWarning)\n",
    "import pandas as pd\n",
    "import numpy as np\n",
    "from scipy import stats\n",
    "import matplotlib.pyplot as plt\n",
    "import seaborn as sns\n",
    "from sklearn import linear_model\n",
    "from sklearn.metrics import mean_squared_error, r2_score\n",
    "from sklearn.model_selection import train_test_split"
   ]
  },
  {
   "cell_type": "code",
   "execution_count": 193,
   "id": "63236835",
   "metadata": {},
   "outputs": [],
   "source": [
    "df = pd.read_csv('boston.csv').drop('Unnamed: 0', axis=1)"
   ]
  },
  {
   "cell_type": "code",
   "execution_count": 194,
   "id": "7106a879",
   "metadata": {},
   "outputs": [
    {
     "data": {
      "text/html": [
       "<div>\n",
       "<style scoped>\n",
       "    .dataframe tbody tr th:only-of-type {\n",
       "        vertical-align: middle;\n",
       "    }\n",
       "\n",
       "    .dataframe tbody tr th {\n",
       "        vertical-align: top;\n",
       "    }\n",
       "\n",
       "    .dataframe thead th {\n",
       "        text-align: right;\n",
       "    }\n",
       "</style>\n",
       "<table border=\"1\" class=\"dataframe\">\n",
       "  <thead>\n",
       "    <tr style=\"text-align: right;\">\n",
       "      <th></th>\n",
       "      <th>crim</th>\n",
       "      <th>zn</th>\n",
       "      <th>indus</th>\n",
       "      <th>chas</th>\n",
       "      <th>nox</th>\n",
       "      <th>rm</th>\n",
       "      <th>age</th>\n",
       "      <th>dis</th>\n",
       "      <th>rad</th>\n",
       "      <th>tax</th>\n",
       "      <th>ptratio</th>\n",
       "      <th>black</th>\n",
       "      <th>lstat</th>\n",
       "      <th>medv</th>\n",
       "    </tr>\n",
       "  </thead>\n",
       "  <tbody>\n",
       "    <tr>\n",
       "      <th>0</th>\n",
       "      <td>0.00632</td>\n",
       "      <td>18.0</td>\n",
       "      <td>2.31</td>\n",
       "      <td>0</td>\n",
       "      <td>0.538</td>\n",
       "      <td>6.575</td>\n",
       "      <td>65.2</td>\n",
       "      <td>4.0900</td>\n",
       "      <td>1</td>\n",
       "      <td>296</td>\n",
       "      <td>15.3</td>\n",
       "      <td>396.90</td>\n",
       "      <td>4.98</td>\n",
       "      <td>24.0</td>\n",
       "    </tr>\n",
       "    <tr>\n",
       "      <th>1</th>\n",
       "      <td>0.02731</td>\n",
       "      <td>0.0</td>\n",
       "      <td>7.07</td>\n",
       "      <td>0</td>\n",
       "      <td>0.469</td>\n",
       "      <td>6.421</td>\n",
       "      <td>78.9</td>\n",
       "      <td>4.9671</td>\n",
       "      <td>2</td>\n",
       "      <td>242</td>\n",
       "      <td>17.8</td>\n",
       "      <td>396.90</td>\n",
       "      <td>9.14</td>\n",
       "      <td>21.6</td>\n",
       "    </tr>\n",
       "    <tr>\n",
       "      <th>2</th>\n",
       "      <td>0.02729</td>\n",
       "      <td>0.0</td>\n",
       "      <td>7.07</td>\n",
       "      <td>0</td>\n",
       "      <td>0.469</td>\n",
       "      <td>7.185</td>\n",
       "      <td>61.1</td>\n",
       "      <td>4.9671</td>\n",
       "      <td>2</td>\n",
       "      <td>242</td>\n",
       "      <td>17.8</td>\n",
       "      <td>392.83</td>\n",
       "      <td>4.03</td>\n",
       "      <td>34.7</td>\n",
       "    </tr>\n",
       "    <tr>\n",
       "      <th>3</th>\n",
       "      <td>0.03237</td>\n",
       "      <td>0.0</td>\n",
       "      <td>2.18</td>\n",
       "      <td>0</td>\n",
       "      <td>0.458</td>\n",
       "      <td>6.998</td>\n",
       "      <td>45.8</td>\n",
       "      <td>6.0622</td>\n",
       "      <td>3</td>\n",
       "      <td>222</td>\n",
       "      <td>18.7</td>\n",
       "      <td>394.63</td>\n",
       "      <td>2.94</td>\n",
       "      <td>33.4</td>\n",
       "    </tr>\n",
       "    <tr>\n",
       "      <th>4</th>\n",
       "      <td>0.06905</td>\n",
       "      <td>0.0</td>\n",
       "      <td>2.18</td>\n",
       "      <td>0</td>\n",
       "      <td>0.458</td>\n",
       "      <td>7.147</td>\n",
       "      <td>54.2</td>\n",
       "      <td>6.0622</td>\n",
       "      <td>3</td>\n",
       "      <td>222</td>\n",
       "      <td>18.7</td>\n",
       "      <td>396.90</td>\n",
       "      <td>5.33</td>\n",
       "      <td>36.2</td>\n",
       "    </tr>\n",
       "    <tr>\n",
       "      <th>...</th>\n",
       "      <td>...</td>\n",
       "      <td>...</td>\n",
       "      <td>...</td>\n",
       "      <td>...</td>\n",
       "      <td>...</td>\n",
       "      <td>...</td>\n",
       "      <td>...</td>\n",
       "      <td>...</td>\n",
       "      <td>...</td>\n",
       "      <td>...</td>\n",
       "      <td>...</td>\n",
       "      <td>...</td>\n",
       "      <td>...</td>\n",
       "      <td>...</td>\n",
       "    </tr>\n",
       "    <tr>\n",
       "      <th>501</th>\n",
       "      <td>0.06263</td>\n",
       "      <td>0.0</td>\n",
       "      <td>11.93</td>\n",
       "      <td>0</td>\n",
       "      <td>0.573</td>\n",
       "      <td>6.593</td>\n",
       "      <td>69.1</td>\n",
       "      <td>2.4786</td>\n",
       "      <td>1</td>\n",
       "      <td>273</td>\n",
       "      <td>21.0</td>\n",
       "      <td>391.99</td>\n",
       "      <td>9.67</td>\n",
       "      <td>22.4</td>\n",
       "    </tr>\n",
       "    <tr>\n",
       "      <th>502</th>\n",
       "      <td>0.04527</td>\n",
       "      <td>0.0</td>\n",
       "      <td>11.93</td>\n",
       "      <td>0</td>\n",
       "      <td>0.573</td>\n",
       "      <td>6.120</td>\n",
       "      <td>76.7</td>\n",
       "      <td>2.2875</td>\n",
       "      <td>1</td>\n",
       "      <td>273</td>\n",
       "      <td>21.0</td>\n",
       "      <td>396.90</td>\n",
       "      <td>9.08</td>\n",
       "      <td>20.6</td>\n",
       "    </tr>\n",
       "    <tr>\n",
       "      <th>503</th>\n",
       "      <td>0.06076</td>\n",
       "      <td>0.0</td>\n",
       "      <td>11.93</td>\n",
       "      <td>0</td>\n",
       "      <td>0.573</td>\n",
       "      <td>6.976</td>\n",
       "      <td>91.0</td>\n",
       "      <td>2.1675</td>\n",
       "      <td>1</td>\n",
       "      <td>273</td>\n",
       "      <td>21.0</td>\n",
       "      <td>396.90</td>\n",
       "      <td>5.64</td>\n",
       "      <td>23.9</td>\n",
       "    </tr>\n",
       "    <tr>\n",
       "      <th>504</th>\n",
       "      <td>0.10959</td>\n",
       "      <td>0.0</td>\n",
       "      <td>11.93</td>\n",
       "      <td>0</td>\n",
       "      <td>0.573</td>\n",
       "      <td>6.794</td>\n",
       "      <td>89.3</td>\n",
       "      <td>2.3889</td>\n",
       "      <td>1</td>\n",
       "      <td>273</td>\n",
       "      <td>21.0</td>\n",
       "      <td>393.45</td>\n",
       "      <td>6.48</td>\n",
       "      <td>22.0</td>\n",
       "    </tr>\n",
       "    <tr>\n",
       "      <th>505</th>\n",
       "      <td>0.04741</td>\n",
       "      <td>0.0</td>\n",
       "      <td>11.93</td>\n",
       "      <td>0</td>\n",
       "      <td>0.573</td>\n",
       "      <td>6.030</td>\n",
       "      <td>80.8</td>\n",
       "      <td>2.5050</td>\n",
       "      <td>1</td>\n",
       "      <td>273</td>\n",
       "      <td>21.0</td>\n",
       "      <td>396.90</td>\n",
       "      <td>7.88</td>\n",
       "      <td>11.9</td>\n",
       "    </tr>\n",
       "  </tbody>\n",
       "</table>\n",
       "<p>506 rows × 14 columns</p>\n",
       "</div>"
      ],
      "text/plain": [
       "        crim    zn  indus  chas    nox     rm   age     dis  rad  tax  \\\n",
       "0    0.00632  18.0   2.31     0  0.538  6.575  65.2  4.0900    1  296   \n",
       "1    0.02731   0.0   7.07     0  0.469  6.421  78.9  4.9671    2  242   \n",
       "2    0.02729   0.0   7.07     0  0.469  7.185  61.1  4.9671    2  242   \n",
       "3    0.03237   0.0   2.18     0  0.458  6.998  45.8  6.0622    3  222   \n",
       "4    0.06905   0.0   2.18     0  0.458  7.147  54.2  6.0622    3  222   \n",
       "..       ...   ...    ...   ...    ...    ...   ...     ...  ...  ...   \n",
       "501  0.06263   0.0  11.93     0  0.573  6.593  69.1  2.4786    1  273   \n",
       "502  0.04527   0.0  11.93     0  0.573  6.120  76.7  2.2875    1  273   \n",
       "503  0.06076   0.0  11.93     0  0.573  6.976  91.0  2.1675    1  273   \n",
       "504  0.10959   0.0  11.93     0  0.573  6.794  89.3  2.3889    1  273   \n",
       "505  0.04741   0.0  11.93     0  0.573  6.030  80.8  2.5050    1  273   \n",
       "\n",
       "     ptratio   black  lstat  medv  \n",
       "0       15.3  396.90   4.98  24.0  \n",
       "1       17.8  396.90   9.14  21.6  \n",
       "2       17.8  392.83   4.03  34.7  \n",
       "3       18.7  394.63   2.94  33.4  \n",
       "4       18.7  396.90   5.33  36.2  \n",
       "..       ...     ...    ...   ...  \n",
       "501     21.0  391.99   9.67  22.4  \n",
       "502     21.0  396.90   9.08  20.6  \n",
       "503     21.0  396.90   5.64  23.9  \n",
       "504     21.0  393.45   6.48  22.0  \n",
       "505     21.0  396.90   7.88  11.9  \n",
       "\n",
       "[506 rows x 14 columns]"
      ]
     },
     "execution_count": 194,
     "metadata": {},
     "output_type": "execute_result"
    }
   ],
   "source": [
    "df"
   ]
  },
  {
   "cell_type": "code",
   "execution_count": 195,
   "id": "11d79f49",
   "metadata": {},
   "outputs": [
    {
     "data": {
      "text/html": [
       "<div>\n",
       "<style scoped>\n",
       "    .dataframe tbody tr th:only-of-type {\n",
       "        vertical-align: middle;\n",
       "    }\n",
       "\n",
       "    .dataframe tbody tr th {\n",
       "        vertical-align: top;\n",
       "    }\n",
       "\n",
       "    .dataframe thead th {\n",
       "        text-align: right;\n",
       "    }\n",
       "</style>\n",
       "<table border=\"1\" class=\"dataframe\">\n",
       "  <thead>\n",
       "    <tr style=\"text-align: right;\">\n",
       "      <th></th>\n",
       "      <th>crim</th>\n",
       "      <th>zn</th>\n",
       "      <th>indus</th>\n",
       "      <th>chas</th>\n",
       "      <th>nox</th>\n",
       "      <th>rm</th>\n",
       "      <th>age</th>\n",
       "      <th>dis</th>\n",
       "      <th>rad</th>\n",
       "      <th>tax</th>\n",
       "      <th>ptratio</th>\n",
       "      <th>black</th>\n",
       "      <th>lstat</th>\n",
       "      <th>medv</th>\n",
       "    </tr>\n",
       "  </thead>\n",
       "  <tbody>\n",
       "    <tr>\n",
       "      <th>count</th>\n",
       "      <td>506.000000</td>\n",
       "      <td>506.000000</td>\n",
       "      <td>506.000000</td>\n",
       "      <td>506.000000</td>\n",
       "      <td>506.000000</td>\n",
       "      <td>506.000000</td>\n",
       "      <td>506.000000</td>\n",
       "      <td>506.000000</td>\n",
       "      <td>506.000000</td>\n",
       "      <td>506.000000</td>\n",
       "      <td>506.000000</td>\n",
       "      <td>506.000000</td>\n",
       "      <td>506.000000</td>\n",
       "      <td>506.000000</td>\n",
       "    </tr>\n",
       "    <tr>\n",
       "      <th>mean</th>\n",
       "      <td>3.613524</td>\n",
       "      <td>11.363636</td>\n",
       "      <td>11.136779</td>\n",
       "      <td>0.069170</td>\n",
       "      <td>0.554695</td>\n",
       "      <td>6.284634</td>\n",
       "      <td>68.574901</td>\n",
       "      <td>3.795043</td>\n",
       "      <td>9.549407</td>\n",
       "      <td>408.237154</td>\n",
       "      <td>18.455534</td>\n",
       "      <td>356.674032</td>\n",
       "      <td>12.653063</td>\n",
       "      <td>22.532806</td>\n",
       "    </tr>\n",
       "    <tr>\n",
       "      <th>std</th>\n",
       "      <td>8.601545</td>\n",
       "      <td>23.322453</td>\n",
       "      <td>6.860353</td>\n",
       "      <td>0.253994</td>\n",
       "      <td>0.115878</td>\n",
       "      <td>0.702617</td>\n",
       "      <td>28.148861</td>\n",
       "      <td>2.105710</td>\n",
       "      <td>8.707259</td>\n",
       "      <td>168.537116</td>\n",
       "      <td>2.164946</td>\n",
       "      <td>91.294864</td>\n",
       "      <td>7.141062</td>\n",
       "      <td>9.197104</td>\n",
       "    </tr>\n",
       "    <tr>\n",
       "      <th>min</th>\n",
       "      <td>0.006320</td>\n",
       "      <td>0.000000</td>\n",
       "      <td>0.460000</td>\n",
       "      <td>0.000000</td>\n",
       "      <td>0.385000</td>\n",
       "      <td>3.561000</td>\n",
       "      <td>2.900000</td>\n",
       "      <td>1.129600</td>\n",
       "      <td>1.000000</td>\n",
       "      <td>187.000000</td>\n",
       "      <td>12.600000</td>\n",
       "      <td>0.320000</td>\n",
       "      <td>1.730000</td>\n",
       "      <td>5.000000</td>\n",
       "    </tr>\n",
       "    <tr>\n",
       "      <th>25%</th>\n",
       "      <td>0.082045</td>\n",
       "      <td>0.000000</td>\n",
       "      <td>5.190000</td>\n",
       "      <td>0.000000</td>\n",
       "      <td>0.449000</td>\n",
       "      <td>5.885500</td>\n",
       "      <td>45.025000</td>\n",
       "      <td>2.100175</td>\n",
       "      <td>4.000000</td>\n",
       "      <td>279.000000</td>\n",
       "      <td>17.400000</td>\n",
       "      <td>375.377500</td>\n",
       "      <td>6.950000</td>\n",
       "      <td>17.025000</td>\n",
       "    </tr>\n",
       "    <tr>\n",
       "      <th>50%</th>\n",
       "      <td>0.256510</td>\n",
       "      <td>0.000000</td>\n",
       "      <td>9.690000</td>\n",
       "      <td>0.000000</td>\n",
       "      <td>0.538000</td>\n",
       "      <td>6.208500</td>\n",
       "      <td>77.500000</td>\n",
       "      <td>3.207450</td>\n",
       "      <td>5.000000</td>\n",
       "      <td>330.000000</td>\n",
       "      <td>19.050000</td>\n",
       "      <td>391.440000</td>\n",
       "      <td>11.360000</td>\n",
       "      <td>21.200000</td>\n",
       "    </tr>\n",
       "    <tr>\n",
       "      <th>75%</th>\n",
       "      <td>3.677083</td>\n",
       "      <td>12.500000</td>\n",
       "      <td>18.100000</td>\n",
       "      <td>0.000000</td>\n",
       "      <td>0.624000</td>\n",
       "      <td>6.623500</td>\n",
       "      <td>94.075000</td>\n",
       "      <td>5.188425</td>\n",
       "      <td>24.000000</td>\n",
       "      <td>666.000000</td>\n",
       "      <td>20.200000</td>\n",
       "      <td>396.225000</td>\n",
       "      <td>16.955000</td>\n",
       "      <td>25.000000</td>\n",
       "    </tr>\n",
       "    <tr>\n",
       "      <th>max</th>\n",
       "      <td>88.976200</td>\n",
       "      <td>100.000000</td>\n",
       "      <td>27.740000</td>\n",
       "      <td>1.000000</td>\n",
       "      <td>0.871000</td>\n",
       "      <td>8.780000</td>\n",
       "      <td>100.000000</td>\n",
       "      <td>12.126500</td>\n",
       "      <td>24.000000</td>\n",
       "      <td>711.000000</td>\n",
       "      <td>22.000000</td>\n",
       "      <td>396.900000</td>\n",
       "      <td>37.970000</td>\n",
       "      <td>50.000000</td>\n",
       "    </tr>\n",
       "  </tbody>\n",
       "</table>\n",
       "</div>"
      ],
      "text/plain": [
       "             crim          zn       indus        chas         nox          rm  \\\n",
       "count  506.000000  506.000000  506.000000  506.000000  506.000000  506.000000   \n",
       "mean     3.613524   11.363636   11.136779    0.069170    0.554695    6.284634   \n",
       "std      8.601545   23.322453    6.860353    0.253994    0.115878    0.702617   \n",
       "min      0.006320    0.000000    0.460000    0.000000    0.385000    3.561000   \n",
       "25%      0.082045    0.000000    5.190000    0.000000    0.449000    5.885500   \n",
       "50%      0.256510    0.000000    9.690000    0.000000    0.538000    6.208500   \n",
       "75%      3.677083   12.500000   18.100000    0.000000    0.624000    6.623500   \n",
       "max     88.976200  100.000000   27.740000    1.000000    0.871000    8.780000   \n",
       "\n",
       "              age         dis         rad         tax     ptratio       black  \\\n",
       "count  506.000000  506.000000  506.000000  506.000000  506.000000  506.000000   \n",
       "mean    68.574901    3.795043    9.549407  408.237154   18.455534  356.674032   \n",
       "std     28.148861    2.105710    8.707259  168.537116    2.164946   91.294864   \n",
       "min      2.900000    1.129600    1.000000  187.000000   12.600000    0.320000   \n",
       "25%     45.025000    2.100175    4.000000  279.000000   17.400000  375.377500   \n",
       "50%     77.500000    3.207450    5.000000  330.000000   19.050000  391.440000   \n",
       "75%     94.075000    5.188425   24.000000  666.000000   20.200000  396.225000   \n",
       "max    100.000000   12.126500   24.000000  711.000000   22.000000  396.900000   \n",
       "\n",
       "            lstat        medv  \n",
       "count  506.000000  506.000000  \n",
       "mean    12.653063   22.532806  \n",
       "std      7.141062    9.197104  \n",
       "min      1.730000    5.000000  \n",
       "25%      6.950000   17.025000  \n",
       "50%     11.360000   21.200000  \n",
       "75%     16.955000   25.000000  \n",
       "max     37.970000   50.000000  "
      ]
     },
     "execution_count": 195,
     "metadata": {},
     "output_type": "execute_result"
    }
   ],
   "source": [
    "df.describe()"
   ]
  },
  {
   "cell_type": "markdown",
   "id": "7305b499",
   "metadata": {},
   "source": [
    "**Desafio 2**"
   ]
  },
  {
   "cell_type": "code",
   "execution_count": 196,
   "id": "ccfc0f1e",
   "metadata": {},
   "outputs": [],
   "source": [
    "y_vec = df.loc[:,'medv']"
   ]
  },
  {
   "cell_type": "code",
   "execution_count": 197,
   "id": "56c22fc2",
   "metadata": {},
   "outputs": [],
   "source": [
    "x_mat = df.loc[:, 'crim':'lstat']"
   ]
  },
  {
   "cell_type": "code",
   "execution_count": 198,
   "id": "d4785b69",
   "metadata": {},
   "outputs": [],
   "source": [
    "x_train, x_test, y_train, y_test = train_test_split(x_mat, y_vec, test_size=.33, random_state=1)"
   ]
  },
  {
   "cell_type": "markdown",
   "id": "a095cf06",
   "metadata": {},
   "source": [
    "**Desafio 3**"
   ]
  },
  {
   "cell_type": "code",
   "execution_count": 199,
   "id": "b5f7dee6",
   "metadata": {},
   "outputs": [],
   "source": [
    "normalizado = linear_model.LinearRegression(fit_intercept=True, normalize=True)"
   ]
  },
  {
   "cell_type": "code",
   "execution_count": 200,
   "id": "eb3d268f",
   "metadata": {},
   "outputs": [],
   "source": [
    "no_normalizado =linear_model.LinearRegression(fit_intercept=False, normalize=False)"
   ]
  },
  {
   "cell_type": "code",
   "execution_count": 201,
   "id": "50108f53",
   "metadata": {},
   "outputs": [
    {
     "data": {
      "text/plain": [
       "LinearRegression(fit_intercept=False)"
      ]
     },
     "execution_count": 201,
     "metadata": {},
     "output_type": "execute_result"
    }
   ],
   "source": [
    "normalizado.fit(x_train, y_train)\n",
    "no_normalizado.fit(x_train, y_train)"
   ]
  },
  {
   "cell_type": "code",
   "execution_count": 202,
   "id": "e08ca608",
   "metadata": {},
   "outputs": [],
   "source": [
    "normalizado_yhat = normalizado.predict(x_test)"
   ]
  },
  {
   "cell_type": "code",
   "execution_count": 203,
   "id": "68e602e3",
   "metadata": {},
   "outputs": [],
   "source": [
    "no_normalizado_yhat = no_normalizado.predict(x_test)"
   ]
  },
  {
   "cell_type": "code",
   "execution_count": 204,
   "id": "c1113fc2",
   "metadata": {},
   "outputs": [
    {
     "data": {
      "text/plain": [
       "array([32.45826885, 28.03728153, 17.93647207, 21.2832492 , 18.42483932,\n",
       "       20.26442416, 32.68163869, 17.8901368 , 25.20430254, 26.50324837,\n",
       "       27.44636554, 28.774597  , 20.69904879, 26.7287059 , 23.07228784,\n",
       "       20.56904299, 17.81703559, 38.5881921 , 30.29195442,  8.25216261,\n",
       "       20.43766045, 15.8309292 , 25.0960829 , 24.69781835, 31.35504827,\n",
       "       11.02487322, 13.75508415, 16.41703401, 36.08411878, 14.56147642,\n",
       "       21.26785937, 13.91919838, 43.63932825, 18.10575644, 21.28183801,\n",
       "       20.21300053, 17.73731543, 27.11063697,  9.14209558, 20.08335439,\n",
       "       23.80093981, 21.00996159, 29.24165661, 16.69939026, 19.58780033,\n",
       "       15.07888798, 40.4624702 , 18.18519341, 25.86761534, 20.18871144,\n",
       "       25.57539383, 24.3975141 , 24.70488287, 26.68612166,  4.91985574,\n",
       "       24.11824423, 11.13097254, 26.53644504, 16.68591392, 36.09153573,\n",
       "       19.74807439, 27.27509711, 16.58472307, 19.1454264 , 11.11861779,\n",
       "       31.97778822, 36.95035276, 21.38382008, 24.64454259, 25.02781395,\n",
       "       23.28226998,  6.86412458, 16.1341216 , 20.44352604, 20.55125924,\n",
       "       21.6712626 , 34.93308609, 27.86297977, 24.87776418, 35.08048807,\n",
       "       19.06712412, 23.55090525, 34.54640342, 13.76875852, 20.67587175,\n",
       "       29.96729424, 17.37524311, 24.19178531, 18.85568011, 17.4336205 ,\n",
       "       27.08134493, 41.77678781, 14.58355606, 22.93835525, 15.21603527,\n",
       "       21.58743079, 23.06371993, 29.43441696, 37.29103807, 20.33988008,\n",
       "       17.59950188, 17.95238063, 24.87619934, 21.92962636,  8.48492984,\n",
       "       21.47167685, 16.02306977, 33.24467943, 24.15955639, 25.13972947,\n",
       "       38.37955969, 28.484507  , 14.94509097, 35.1098432 , 35.50564811,\n",
       "       32.98900869, 20.77301548, 16.2128677 , 34.67677778, 39.62863978,\n",
       "       20.89409427, 15.95777436, 27.4612379 , 18.8439911 , 27.48891316,\n",
       "       20.93752583, 25.92227008, 22.0885568 , 22.68639361, 28.33089338,\n",
       "       20.24253874, 23.90652556, 29.58640223, 10.38220221, 27.06907968,\n",
       "       32.75881449, 14.49880539, 13.57079663, 33.56172028, 14.9271579 ,\n",
       "       17.79111202, 16.66356978, 17.08462745, 28.53372442, 34.21841243,\n",
       "       20.2795369 , 24.49010528, 17.52631114, 28.10477086, 21.003699  ,\n",
       "       33.80365834, 13.66399597, 19.29354499, 18.90110745, 20.16112854,\n",
       "       31.98584947, 15.32090321, 28.41074001, 23.73388509, 29.93587831,\n",
       "       34.02982724, 36.9430092 , 24.0610287 , 18.36515222, 19.28278599,\n",
       "       21.2063508 , 26.32553203])"
      ]
     },
     "execution_count": 204,
     "metadata": {},
     "output_type": "execute_result"
    }
   ],
   "source": [
    "normalizado_yhat "
   ]
  },
  {
   "cell_type": "code",
   "execution_count": 205,
   "id": "656c9663",
   "metadata": {},
   "outputs": [
    {
     "data": {
      "text/plain": [
       "array([31.90168984, 28.78043826, 17.59932888, 20.46834675, 17.4695444 ,\n",
       "       22.68559168, 32.60056732, 19.31417928, 23.52878503, 25.75577693,\n",
       "       26.95140696, 30.21735025, 19.15613749, 24.08166486, 22.15766492,\n",
       "       18.32420499, 20.06640163, 41.84841963, 27.77160905,  8.60020462,\n",
       "       19.36742264, 15.0431124 , 25.64691009, 25.3138286 , 29.41154311,\n",
       "        9.83613071, 15.18778089, 17.33917905, 36.17911192, 13.92662472,\n",
       "       23.63968795, 13.85945435, 44.05116711, 19.95761222, 20.55647257,\n",
       "       20.54808091, 19.37129259, 29.18878029,  5.06413192, 19.71250501,\n",
       "       23.18903555, 22.85747982, 27.96143379, 16.23119929, 19.48473495,\n",
       "       16.81237801, 40.98769912, 18.38482688, 22.2566794 , 19.42073718,\n",
       "       26.90469186, 23.47313674, 24.92685608, 23.96916874,  5.3733516 ,\n",
       "       24.92217467, 12.42629852, 25.44910113, 18.34873539, 38.58927412,\n",
       "       20.92103334, 27.10195432, 16.53342099, 17.16694482, 10.83606977,\n",
       "       31.8003432 , 39.60907138, 22.41895433, 22.00673113, 21.99492579,\n",
       "       24.08760295,  5.71099998, 13.3376736 , 23.39308509, 21.09098669,\n",
       "       19.63171414, 34.98327602, 26.73039192, 26.42392156, 36.1129803 ,\n",
       "       21.94315597, 22.18554244, 33.78113538, 15.75528263, 23.43129714,\n",
       "       27.77902476, 18.96731073, 25.27122902, 18.91874222, 20.40598289,\n",
       "       29.82169722, 44.42628115, 16.29311178, 21.28785125, 14.55579114,\n",
       "       20.21725407, 25.6586179 , 28.25327386, 39.40469827, 21.55403433,\n",
       "       14.11230277, 20.52731038, 24.00276573, 22.5817975 ,  8.92358682,\n",
       "       21.04242317, 11.72459857, 29.95278745, 22.96715145, 27.06846211,\n",
       "       37.46460229, 26.57128434, 14.5536362 , 35.79127192, 34.95662275,\n",
       "       32.9199963 , 21.34525122, 15.79705179, 35.39854692, 40.8984426 ,\n",
       "       19.40577546, 16.74964432, 28.01122657, 20.54697015, 26.88937829,\n",
       "       21.22848557, 23.57752952, 23.30185507, 19.29748485, 28.82923746,\n",
       "       18.95100008, 24.27426427, 27.82952814,  9.60333146, 27.18647388,\n",
       "       33.75195405, 15.83665017, 12.48114293, 35.3606714 , 20.05140286,\n",
       "       20.77126281, 19.15690622, 17.48004595, 27.26957623, 34.50630312,\n",
       "       20.73748968, 25.05706626, 16.62026595, 27.17200932, 20.65782501,\n",
       "       33.47209136, 15.31820627, 20.54226234, 18.86907525, 22.49836325,\n",
       "       31.86672802,  8.43516662, 28.03248849, 23.51539196, 29.5091241 ,\n",
       "       36.09875709, 43.1382586 , 25.78609784, 18.52943688, 16.8893566 ,\n",
       "       22.2128976 , 27.56109982])"
      ]
     },
     "execution_count": 205,
     "metadata": {},
     "output_type": "execute_result"
    }
   ],
   "source": [
    "no_normalizado_yhat"
   ]
  },
  {
   "cell_type": "markdown",
   "id": "ac1e6199",
   "metadata": {},
   "source": [
    "**Desafio 4**"
   ]
  },
  {
   "cell_type": "code",
   "execution_count": 206,
   "id": "650f32db",
   "metadata": {},
   "outputs": [],
   "source": [
    "def report_scores(datos_predic, datos_validar):\n",
    "    mse = mean_squared_error(datos_validar,datos_predic).round(2)\n",
    "    r2 = r2_score(datos_validar, datos_predic).round(2)\n",
    "    print(f'El promedio del Error Cuadratico es: {mse}')\n",
    "    print(f'El valos de  R-cuadrado es: {r2}')    \n",
    "    return "
   ]
  },
  {
   "cell_type": "markdown",
   "id": "bba9009f",
   "metadata": {},
   "source": [
    "Metrica para modelo con intercepto y atributos normalizados"
   ]
  },
  {
   "cell_type": "code",
   "execution_count": 207,
   "id": "ee29a9e1",
   "metadata": {},
   "outputs": [
    {
     "name": "stdout",
     "output_type": "stream",
     "text": [
      "El promedio del Error Cuadratico es: 20.7\n",
      "El valos de  R-cuadrado es: 0.76\n"
     ]
    }
   ],
   "source": [
    "report_scores(normalizado_yhat, y_test)"
   ]
  },
  {
   "cell_type": "markdown",
   "id": "a1b17c0b",
   "metadata": {},
   "source": [
    "Metrica para modelo sin intercepto y atributos no normalizados"
   ]
  },
  {
   "cell_type": "code",
   "execution_count": 208,
   "id": "6a25fbf8",
   "metadata": {},
   "outputs": [
    {
     "name": "stdout",
     "output_type": "stream",
     "text": [
      "El promedio del Error Cuadratico es: 22.27\n",
      "El valos de  R-cuadrado es: 0.75\n"
     ]
    }
   ],
   "source": [
    "report_scores(no_normalizado_yhat, y_test)"
   ]
  },
  {
   "cell_type": "markdown",
   "id": "56fed2b9",
   "metadata": {},
   "source": [
    "En base al reporte generado, se observa que el error promedio de error cuadratico es menor en el ***modelo normalizado***. R-cuadrado es exactamente igual en los 2, por lo que ambos son capaces de explicar un 75% de la variabilidad de nuestra variable objetivo.\n",
    "El mejor modelo  es el con ***intercepto y atributos normalizados***"
   ]
  },
  {
   "cell_type": "markdown",
   "id": "28c414ab",
   "metadata": {},
   "source": [
    "**Desafio 5**"
   ]
  },
  {
   "cell_type": "code",
   "execution_count": 209,
   "id": "d24b514d",
   "metadata": {},
   "outputs": [],
   "source": [
    "def fetch_features(datos, v_objetivo = 'medv'):\n",
    "    columns = datos.columns\n",
    "    attr_name, pearson_r, abs_pearson_r = [],[],[]\n",
    "    \n",
    "    for col in columns:\n",
    "        if col != v_objetivo:\n",
    "            attr_name.append(col)\n",
    "            pearson_r.append(datos[col].corr(datos[v_objetivo]))\n",
    "            abs_pearson_r.append(abs(datos[col].corr(datos[v_objetivo])))\n",
    "            \n",
    "    tabla = pd.DataFrame({'attribute': attr_name, 'corr':pearson_r, 'abs_corr':abs_pearson_r})\n",
    "    tabla = tabla.set_index('attribute')\n",
    "    tabla = tabla.sort_values(by=['abs_corr'], ascending=False)\n",
    "    return tabla    \n",
    "    "
   ]
  },
  {
   "cell_type": "code",
   "execution_count": 210,
   "id": "4645425a",
   "metadata": {},
   "outputs": [
    {
     "data": {
      "text/html": [
       "<div>\n",
       "<style scoped>\n",
       "    .dataframe tbody tr th:only-of-type {\n",
       "        vertical-align: middle;\n",
       "    }\n",
       "\n",
       "    .dataframe tbody tr th {\n",
       "        vertical-align: top;\n",
       "    }\n",
       "\n",
       "    .dataframe thead th {\n",
       "        text-align: right;\n",
       "    }\n",
       "</style>\n",
       "<table border=\"1\" class=\"dataframe\">\n",
       "  <thead>\n",
       "    <tr style=\"text-align: right;\">\n",
       "      <th></th>\n",
       "      <th>corr</th>\n",
       "      <th>abs_corr</th>\n",
       "    </tr>\n",
       "    <tr>\n",
       "      <th>attribute</th>\n",
       "      <th></th>\n",
       "      <th></th>\n",
       "    </tr>\n",
       "  </thead>\n",
       "  <tbody>\n",
       "    <tr>\n",
       "      <th>lstat</th>\n",
       "      <td>-0.737663</td>\n",
       "      <td>0.737663</td>\n",
       "    </tr>\n",
       "    <tr>\n",
       "      <th>rm</th>\n",
       "      <td>0.695360</td>\n",
       "      <td>0.695360</td>\n",
       "    </tr>\n",
       "    <tr>\n",
       "      <th>ptratio</th>\n",
       "      <td>-0.507787</td>\n",
       "      <td>0.507787</td>\n",
       "    </tr>\n",
       "    <tr>\n",
       "      <th>indus</th>\n",
       "      <td>-0.483725</td>\n",
       "      <td>0.483725</td>\n",
       "    </tr>\n",
       "    <tr>\n",
       "      <th>tax</th>\n",
       "      <td>-0.468536</td>\n",
       "      <td>0.468536</td>\n",
       "    </tr>\n",
       "    <tr>\n",
       "      <th>nox</th>\n",
       "      <td>-0.427321</td>\n",
       "      <td>0.427321</td>\n",
       "    </tr>\n",
       "    <tr>\n",
       "      <th>crim</th>\n",
       "      <td>-0.388305</td>\n",
       "      <td>0.388305</td>\n",
       "    </tr>\n",
       "    <tr>\n",
       "      <th>rad</th>\n",
       "      <td>-0.381626</td>\n",
       "      <td>0.381626</td>\n",
       "    </tr>\n",
       "    <tr>\n",
       "      <th>age</th>\n",
       "      <td>-0.376955</td>\n",
       "      <td>0.376955</td>\n",
       "    </tr>\n",
       "    <tr>\n",
       "      <th>zn</th>\n",
       "      <td>0.360445</td>\n",
       "      <td>0.360445</td>\n",
       "    </tr>\n",
       "    <tr>\n",
       "      <th>black</th>\n",
       "      <td>0.333461</td>\n",
       "      <td>0.333461</td>\n",
       "    </tr>\n",
       "    <tr>\n",
       "      <th>dis</th>\n",
       "      <td>0.249929</td>\n",
       "      <td>0.249929</td>\n",
       "    </tr>\n",
       "    <tr>\n",
       "      <th>chas</th>\n",
       "      <td>0.175260</td>\n",
       "      <td>0.175260</td>\n",
       "    </tr>\n",
       "  </tbody>\n",
       "</table>\n",
       "</div>"
      ],
      "text/plain": [
       "               corr  abs_corr\n",
       "attribute                    \n",
       "lstat     -0.737663  0.737663\n",
       "rm         0.695360  0.695360\n",
       "ptratio   -0.507787  0.507787\n",
       "indus     -0.483725  0.483725\n",
       "tax       -0.468536  0.468536\n",
       "nox       -0.427321  0.427321\n",
       "crim      -0.388305  0.388305\n",
       "rad       -0.381626  0.381626\n",
       "age       -0.376955  0.376955\n",
       "zn         0.360445  0.360445\n",
       "black      0.333461  0.333461\n",
       "dis        0.249929  0.249929\n",
       "chas       0.175260  0.175260"
      ]
     },
     "execution_count": 210,
     "metadata": {},
     "output_type": "execute_result"
    }
   ],
   "source": [
    "fetch_features(df)"
   ]
  },
  {
   "cell_type": "markdown",
   "id": "50309684",
   "metadata": {},
   "source": [
    "A continuacion, las 6 variables con la mayor correlacion absoluta"
   ]
  },
  {
   "cell_type": "code",
   "execution_count": 211,
   "id": "07c13dbc",
   "metadata": {},
   "outputs": [
    {
     "data": {
      "text/html": [
       "<div>\n",
       "<style scoped>\n",
       "    .dataframe tbody tr th:only-of-type {\n",
       "        vertical-align: middle;\n",
       "    }\n",
       "\n",
       "    .dataframe tbody tr th {\n",
       "        vertical-align: top;\n",
       "    }\n",
       "\n",
       "    .dataframe thead th {\n",
       "        text-align: right;\n",
       "    }\n",
       "</style>\n",
       "<table border=\"1\" class=\"dataframe\">\n",
       "  <thead>\n",
       "    <tr style=\"text-align: right;\">\n",
       "      <th></th>\n",
       "      <th>corr</th>\n",
       "      <th>abs_corr</th>\n",
       "    </tr>\n",
       "    <tr>\n",
       "      <th>attribute</th>\n",
       "      <th></th>\n",
       "      <th></th>\n",
       "    </tr>\n",
       "  </thead>\n",
       "  <tbody>\n",
       "    <tr>\n",
       "      <th>lstat</th>\n",
       "      <td>-0.737663</td>\n",
       "      <td>0.737663</td>\n",
       "    </tr>\n",
       "    <tr>\n",
       "      <th>rm</th>\n",
       "      <td>0.695360</td>\n",
       "      <td>0.695360</td>\n",
       "    </tr>\n",
       "    <tr>\n",
       "      <th>ptratio</th>\n",
       "      <td>-0.507787</td>\n",
       "      <td>0.507787</td>\n",
       "    </tr>\n",
       "    <tr>\n",
       "      <th>indus</th>\n",
       "      <td>-0.483725</td>\n",
       "      <td>0.483725</td>\n",
       "    </tr>\n",
       "    <tr>\n",
       "      <th>tax</th>\n",
       "      <td>-0.468536</td>\n",
       "      <td>0.468536</td>\n",
       "    </tr>\n",
       "    <tr>\n",
       "      <th>nox</th>\n",
       "      <td>-0.427321</td>\n",
       "      <td>0.427321</td>\n",
       "    </tr>\n",
       "  </tbody>\n",
       "</table>\n",
       "</div>"
      ],
      "text/plain": [
       "               corr  abs_corr\n",
       "attribute                    \n",
       "lstat     -0.737663  0.737663\n",
       "rm         0.695360  0.695360\n",
       "ptratio   -0.507787  0.507787\n",
       "indus     -0.483725  0.483725\n",
       "tax       -0.468536  0.468536\n",
       "nox       -0.427321  0.427321"
      ]
     },
     "execution_count": 211,
     "metadata": {},
     "output_type": "execute_result"
    }
   ],
   "source": [
    "fetch_features(df).head(6)"
   ]
  },
  {
   "cell_type": "markdown",
   "id": "3d7db8ba",
   "metadata": {},
   "source": [
    "**Desafio 6**"
   ]
  },
  {
   "cell_type": "code",
   "execution_count": 212,
   "id": "ea3ca7a7",
   "metadata": {},
   "outputs": [],
   "source": [
    "y_features =df.loc[:,'medv']\n",
    "x_feat_mat = df.loc[:, ['lstat', 'rm', 'ptratio', 'indus', 'tax', 'nox']]"
   ]
  },
  {
   "cell_type": "code",
   "execution_count": 213,
   "id": "e5f83fd8",
   "metadata": {},
   "outputs": [],
   "source": [
    "x_feat_train, x_feat_test, y_feat_train, y_feat_test = train_test_split(x_feat_mat, y_features, test_size=.33,\n",
    "                                                                        random_state=2)"
   ]
  },
  {
   "cell_type": "code",
   "execution_count": 214,
   "id": "c3e8eac0",
   "metadata": {},
   "outputs": [],
   "source": [
    "features_model = linear_model.LinearRegression(fit_intercept=True, normalize=True)"
   ]
  },
  {
   "cell_type": "code",
   "execution_count": 215,
   "id": "00997b4a",
   "metadata": {},
   "outputs": [
    {
     "data": {
      "text/plain": [
       "LinearRegression(normalize=True)"
      ]
     },
     "execution_count": 215,
     "metadata": {},
     "output_type": "execute_result"
    }
   ],
   "source": [
    "features_model.fit(x_feat_train, y_feat_train)"
   ]
  },
  {
   "cell_type": "code",
   "execution_count": 216,
   "id": "dff268b8",
   "metadata": {},
   "outputs": [],
   "source": [
    "features_model_yhat=features_model.predict(x_feat_test)"
   ]
  },
  {
   "cell_type": "code",
   "execution_count": 217,
   "id": "5d6dc551",
   "metadata": {},
   "outputs": [
    {
     "name": "stdout",
     "output_type": "stream",
     "text": [
      "El promedio del Error Cuadratico es: 25.82\n",
      "El valos de  R-cuadrado es: 0.71\n"
     ]
    }
   ],
   "source": [
    "report_scores(features_model_yhat, y_feat_test)"
   ]
  },
  {
   "cell_type": "code",
   "execution_count": 218,
   "id": "5d9ae91d",
   "metadata": {},
   "outputs": [
    {
     "data": {
      "text/plain": [
       "463    20.2\n",
       "152    15.3\n",
       "291    37.3\n",
       "183    32.5\n",
       "384     8.8\n",
       "       ... \n",
       "29     21.0\n",
       "267    50.0\n",
       "142    13.4\n",
       "405     5.0\n",
       "342    16.5\n",
       "Name: medv, Length: 167, dtype: float64"
      ]
     },
     "execution_count": 218,
     "metadata": {},
     "output_type": "execute_result"
    }
   ],
   "source": [
    "y_feat_test"
   ]
  },
  {
   "cell_type": "markdown",
   "id": "c014718f",
   "metadata": {},
   "source": [
    "**Desafio 7**"
   ]
  },
  {
   "cell_type": "code",
   "execution_count": 219,
   "id": "5c4bcf6a",
   "metadata": {},
   "outputs": [],
   "source": [
    "worst_neighbor = np.array([37.9, 12.6, 3.5, 27.7, 187, 0.87]).reshape(1,\n",
    "-1)"
   ]
  },
  {
   "cell_type": "code",
   "execution_count": 220,
   "id": "20d0683c",
   "metadata": {},
   "outputs": [],
   "source": [
    "best_neighbor = np.array([1.73, 22, 8.7, 0.46, 711, 0.38]).reshape(1,\n",
    "-1)"
   ]
  },
  {
   "cell_type": "markdown",
   "id": "0b7369c9",
   "metadata": {},
   "source": [
    "No se como seguir......"
   ]
  },
  {
   "cell_type": "code",
   "execution_count": null,
   "id": "ae3ddcef",
   "metadata": {},
   "outputs": [],
   "source": []
  }
 ],
 "metadata": {
  "kernelspec": {
   "display_name": "Python 3",
   "language": "python",
   "name": "python3"
  },
  "language_info": {
   "codemirror_mode": {
    "name": "ipython",
    "version": 3
   },
   "file_extension": ".py",
   "mimetype": "text/x-python",
   "name": "python",
   "nbconvert_exporter": "python",
   "pygments_lexer": "ipython3",
   "version": "3.8.8"
  }
 },
 "nbformat": 4,
 "nbformat_minor": 5
}
