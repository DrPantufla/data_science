{
 "cells": [
  {
   "cell_type": "markdown",
   "id": "375962ec",
   "metadata": {},
   "source": [
    "**Desafio 1**"
   ]
  },
  {
   "cell_type": "code",
   "execution_count": 3,
   "id": "e05b7ef8",
   "metadata": {},
   "outputs": [],
   "source": [
    "import pandas as pd\n",
    "import numpy as np"
   ]
  },
  {
   "cell_type": "code",
   "execution_count": 4,
   "id": "97b2b48a",
   "metadata": {},
   "outputs": [],
   "source": [
    "df = pd.read_csv('qog_std_cs_jan18.csv')"
   ]
  },
  {
   "cell_type": "markdown",
   "id": "7bd43a31",
   "metadata": {},
   "source": [
    "mi rut termina en 0358"
   ]
  },
  {
   "cell_type": "code",
   "execution_count": 5,
   "id": "cd98cb67",
   "metadata": {},
   "outputs": [
    {
     "data": {
      "text/html": [
       "<div>\n",
       "<style scoped>\n",
       "    .dataframe tbody tr th:only-of-type {\n",
       "        vertical-align: middle;\n",
       "    }\n",
       "\n",
       "    .dataframe tbody tr th {\n",
       "        vertical-align: top;\n",
       "    }\n",
       "\n",
       "    .dataframe thead th {\n",
       "        text-align: right;\n",
       "    }\n",
       "</style>\n",
       "<table border=\"1\" class=\"dataframe\">\n",
       "  <thead>\n",
       "    <tr style=\"text-align: right;\">\n",
       "      <th></th>\n",
       "      <th>ccode</th>\n",
       "      <th>cname</th>\n",
       "      <th>ccodealp</th>\n",
       "      <th>ccodecow</th>\n",
       "      <th>ccodewb</th>\n",
       "      <th>version</th>\n",
       "      <th>aid_cpnc</th>\n",
       "      <th>aid_cpsc</th>\n",
       "      <th>aid_crnc</th>\n",
       "      <th>aid_crnio</th>\n",
       "      <th>...</th>\n",
       "      <th>wvs_relacc</th>\n",
       "      <th>wvs_relsch</th>\n",
       "      <th>wvs_relsci</th>\n",
       "      <th>wvs_satfin</th>\n",
       "      <th>wvs_satlif</th>\n",
       "      <th>wvs_screl</th>\n",
       "      <th>wvs_subh</th>\n",
       "      <th>wvs_survself</th>\n",
       "      <th>wvs_tradrat</th>\n",
       "      <th>wvs_trust</th>\n",
       "    </tr>\n",
       "  </thead>\n",
       "  <tbody>\n",
       "    <tr>\n",
       "      <th>76</th>\n",
       "      <td>356</td>\n",
       "      <td>India</td>\n",
       "      <td>IND</td>\n",
       "      <td>750.0</td>\n",
       "      <td>356.0</td>\n",
       "      <td>QoGStdCSJan18</td>\n",
       "      <td>NaN</td>\n",
       "      <td>NaN</td>\n",
       "      <td>28.0</td>\n",
       "      <td>18.0</td>\n",
       "      <td>...</td>\n",
       "      <td>2.436578</td>\n",
       "      <td>2.986014</td>\n",
       "      <td>2.896045</td>\n",
       "      <td>4.805182</td>\n",
       "      <td>5.075651</td>\n",
       "      <td>5.558984</td>\n",
       "      <td>3.966037</td>\n",
       "      <td>0.217256</td>\n",
       "      <td>0.093100</td>\n",
       "      <td>0.332240</td>\n",
       "    </tr>\n",
       "    <tr>\n",
       "      <th>150</th>\n",
       "      <td>682</td>\n",
       "      <td>Saudi Arabia</td>\n",
       "      <td>SAU</td>\n",
       "      <td>670.0</td>\n",
       "      <td>682.0</td>\n",
       "      <td>QoGStdCSJan18</td>\n",
       "      <td>19.0</td>\n",
       "      <td>6.380000e+08</td>\n",
       "      <td>1.0</td>\n",
       "      <td>1.0</td>\n",
       "      <td>...</td>\n",
       "      <td>NaN</td>\n",
       "      <td>NaN</td>\n",
       "      <td>NaN</td>\n",
       "      <td>NaN</td>\n",
       "      <td>NaN</td>\n",
       "      <td>NaN</td>\n",
       "      <td>NaN</td>\n",
       "      <td>NaN</td>\n",
       "      <td>NaN</td>\n",
       "      <td>NaN</td>\n",
       "    </tr>\n",
       "    <tr>\n",
       "      <th>177</th>\n",
       "      <td>792</td>\n",
       "      <td>Turkey</td>\n",
       "      <td>TUR</td>\n",
       "      <td>640.0</td>\n",
       "      <td>792.0</td>\n",
       "      <td>QoGStdCSJan18</td>\n",
       "      <td>NaN</td>\n",
       "      <td>NaN</td>\n",
       "      <td>25.0</td>\n",
       "      <td>11.0</td>\n",
       "      <td>...</td>\n",
       "      <td>3.218496</td>\n",
       "      <td>2.598612</td>\n",
       "      <td>3.100911</td>\n",
       "      <td>6.174196</td>\n",
       "      <td>7.244892</td>\n",
       "      <td>5.968442</td>\n",
       "      <td>3.816401</td>\n",
       "      <td>-0.290703</td>\n",
       "      <td>-0.621699</td>\n",
       "      <td>0.122955</td>\n",
       "    </tr>\n",
       "    <tr>\n",
       "      <th>54</th>\n",
       "      <td>231</td>\n",
       "      <td>Ethiopia (1993-)</td>\n",
       "      <td>ETH</td>\n",
       "      <td>530.0</td>\n",
       "      <td>231.0</td>\n",
       "      <td>QoGStdCSJan18</td>\n",
       "      <td>NaN</td>\n",
       "      <td>NaN</td>\n",
       "      <td>28.0</td>\n",
       "      <td>17.0</td>\n",
       "      <td>...</td>\n",
       "      <td>NaN</td>\n",
       "      <td>NaN</td>\n",
       "      <td>NaN</td>\n",
       "      <td>NaN</td>\n",
       "      <td>NaN</td>\n",
       "      <td>NaN</td>\n",
       "      <td>NaN</td>\n",
       "      <td>NaN</td>\n",
       "      <td>NaN</td>\n",
       "      <td>NaN</td>\n",
       "    </tr>\n",
       "    <tr>\n",
       "      <th>167</th>\n",
       "      <td>752</td>\n",
       "      <td>Sweden</td>\n",
       "      <td>SWE</td>\n",
       "      <td>380.0</td>\n",
       "      <td>752.0</td>\n",
       "      <td>QoGStdCSJan18</td>\n",
       "      <td>110.0</td>\n",
       "      <td>1.494606e+09</td>\n",
       "      <td>NaN</td>\n",
       "      <td>NaN</td>\n",
       "      <td>...</td>\n",
       "      <td>1.472809</td>\n",
       "      <td>3.271945</td>\n",
       "      <td>1.544266</td>\n",
       "      <td>6.944547</td>\n",
       "      <td>7.548718</td>\n",
       "      <td>3.235888</td>\n",
       "      <td>4.032868</td>\n",
       "      <td>1.513079</td>\n",
       "      <td>1.188317</td>\n",
       "      <td>0.617692</td>\n",
       "    </tr>\n",
       "    <tr>\n",
       "      <th>...</th>\n",
       "      <td>...</td>\n",
       "      <td>...</td>\n",
       "      <td>...</td>\n",
       "      <td>...</td>\n",
       "      <td>...</td>\n",
       "      <td>...</td>\n",
       "      <td>...</td>\n",
       "      <td>...</td>\n",
       "      <td>...</td>\n",
       "      <td>...</td>\n",
       "      <td>...</td>\n",
       "      <td>...</td>\n",
       "      <td>...</td>\n",
       "      <td>...</td>\n",
       "      <td>...</td>\n",
       "      <td>...</td>\n",
       "      <td>...</td>\n",
       "      <td>...</td>\n",
       "      <td>...</td>\n",
       "      <td>...</td>\n",
       "      <td>...</td>\n",
       "    </tr>\n",
       "    <tr>\n",
       "      <th>178</th>\n",
       "      <td>795</td>\n",
       "      <td>Turkmenistan</td>\n",
       "      <td>TKM</td>\n",
       "      <td>701.0</td>\n",
       "      <td>795.0</td>\n",
       "      <td>QoGStdCSJan18</td>\n",
       "      <td>NaN</td>\n",
       "      <td>NaN</td>\n",
       "      <td>11.0</td>\n",
       "      <td>8.0</td>\n",
       "      <td>...</td>\n",
       "      <td>NaN</td>\n",
       "      <td>NaN</td>\n",
       "      <td>NaN</td>\n",
       "      <td>NaN</td>\n",
       "      <td>NaN</td>\n",
       "      <td>NaN</td>\n",
       "      <td>NaN</td>\n",
       "      <td>NaN</td>\n",
       "      <td>NaN</td>\n",
       "      <td>NaN</td>\n",
       "    </tr>\n",
       "    <tr>\n",
       "      <th>171</th>\n",
       "      <td>764</td>\n",
       "      <td>Thailand</td>\n",
       "      <td>THA</td>\n",
       "      <td>800.0</td>\n",
       "      <td>764.0</td>\n",
       "      <td>QoGStdCSJan18</td>\n",
       "      <td>NaN</td>\n",
       "      <td>NaN</td>\n",
       "      <td>24.0</td>\n",
       "      <td>11.0</td>\n",
       "      <td>...</td>\n",
       "      <td>2.464022</td>\n",
       "      <td>2.621070</td>\n",
       "      <td>2.337285</td>\n",
       "      <td>6.172150</td>\n",
       "      <td>7.565949</td>\n",
       "      <td>6.095902</td>\n",
       "      <td>4.062286</td>\n",
       "      <td>-0.056864</td>\n",
       "      <td>-0.059687</td>\n",
       "      <td>0.324913</td>\n",
       "    </tr>\n",
       "    <tr>\n",
       "      <th>17</th>\n",
       "      <td>68</td>\n",
       "      <td>Bolivia</td>\n",
       "      <td>BOL</td>\n",
       "      <td>145.0</td>\n",
       "      <td>68.0</td>\n",
       "      <td>QoGStdCSJan18</td>\n",
       "      <td>NaN</td>\n",
       "      <td>NaN</td>\n",
       "      <td>23.0</td>\n",
       "      <td>12.0</td>\n",
       "      <td>...</td>\n",
       "      <td>NaN</td>\n",
       "      <td>NaN</td>\n",
       "      <td>NaN</td>\n",
       "      <td>NaN</td>\n",
       "      <td>NaN</td>\n",
       "      <td>NaN</td>\n",
       "      <td>NaN</td>\n",
       "      <td>NaN</td>\n",
       "      <td>NaN</td>\n",
       "      <td>NaN</td>\n",
       "    </tr>\n",
       "    <tr>\n",
       "      <th>0</th>\n",
       "      <td>4</td>\n",
       "      <td>Afghanistan</td>\n",
       "      <td>AFG</td>\n",
       "      <td>700.0</td>\n",
       "      <td>4.0</td>\n",
       "      <td>QoGStdCSJan18</td>\n",
       "      <td>NaN</td>\n",
       "      <td>NaN</td>\n",
       "      <td>29.0</td>\n",
       "      <td>13.0</td>\n",
       "      <td>...</td>\n",
       "      <td>NaN</td>\n",
       "      <td>NaN</td>\n",
       "      <td>NaN</td>\n",
       "      <td>NaN</td>\n",
       "      <td>NaN</td>\n",
       "      <td>NaN</td>\n",
       "      <td>NaN</td>\n",
       "      <td>NaN</td>\n",
       "      <td>NaN</td>\n",
       "      <td>NaN</td>\n",
       "    </tr>\n",
       "    <tr>\n",
       "      <th>172</th>\n",
       "      <td>768</td>\n",
       "      <td>Togo</td>\n",
       "      <td>TGO</td>\n",
       "      <td>461.0</td>\n",
       "      <td>768.0</td>\n",
       "      <td>QoGStdCSJan18</td>\n",
       "      <td>NaN</td>\n",
       "      <td>NaN</td>\n",
       "      <td>21.0</td>\n",
       "      <td>15.0</td>\n",
       "      <td>...</td>\n",
       "      <td>NaN</td>\n",
       "      <td>NaN</td>\n",
       "      <td>NaN</td>\n",
       "      <td>NaN</td>\n",
       "      <td>NaN</td>\n",
       "      <td>NaN</td>\n",
       "      <td>NaN</td>\n",
       "      <td>NaN</td>\n",
       "      <td>NaN</td>\n",
       "      <td>NaN</td>\n",
       "    </tr>\n",
       "  </tbody>\n",
       "</table>\n",
       "<p>97 rows × 1882 columns</p>\n",
       "</div>"
      ],
      "text/plain": [
       "     ccode             cname ccodealp  ccodecow  ccodewb        version  \\\n",
       "76     356             India      IND     750.0    356.0  QoGStdCSJan18   \n",
       "150    682      Saudi Arabia      SAU     670.0    682.0  QoGStdCSJan18   \n",
       "177    792            Turkey      TUR     640.0    792.0  QoGStdCSJan18   \n",
       "54     231  Ethiopia (1993-)      ETH     530.0    231.0  QoGStdCSJan18   \n",
       "167    752            Sweden      SWE     380.0    752.0  QoGStdCSJan18   \n",
       "..     ...               ...      ...       ...      ...            ...   \n",
       "178    795      Turkmenistan      TKM     701.0    795.0  QoGStdCSJan18   \n",
       "171    764          Thailand      THA     800.0    764.0  QoGStdCSJan18   \n",
       "17      68           Bolivia      BOL     145.0     68.0  QoGStdCSJan18   \n",
       "0        4       Afghanistan      AFG     700.0      4.0  QoGStdCSJan18   \n",
       "172    768              Togo      TGO     461.0    768.0  QoGStdCSJan18   \n",
       "\n",
       "     aid_cpnc      aid_cpsc  aid_crnc  aid_crnio  ...  wvs_relacc  wvs_relsch  \\\n",
       "76        NaN           NaN      28.0       18.0  ...    2.436578    2.986014   \n",
       "150      19.0  6.380000e+08       1.0        1.0  ...         NaN         NaN   \n",
       "177       NaN           NaN      25.0       11.0  ...    3.218496    2.598612   \n",
       "54        NaN           NaN      28.0       17.0  ...         NaN         NaN   \n",
       "167     110.0  1.494606e+09       NaN        NaN  ...    1.472809    3.271945   \n",
       "..        ...           ...       ...        ...  ...         ...         ...   \n",
       "178       NaN           NaN      11.0        8.0  ...         NaN         NaN   \n",
       "171       NaN           NaN      24.0       11.0  ...    2.464022    2.621070   \n",
       "17        NaN           NaN      23.0       12.0  ...         NaN         NaN   \n",
       "0         NaN           NaN      29.0       13.0  ...         NaN         NaN   \n",
       "172       NaN           NaN      21.0       15.0  ...         NaN         NaN   \n",
       "\n",
       "     wvs_relsci  wvs_satfin  wvs_satlif  wvs_screl  wvs_subh  wvs_survself  \\\n",
       "76     2.896045    4.805182    5.075651   5.558984  3.966037      0.217256   \n",
       "150         NaN         NaN         NaN        NaN       NaN           NaN   \n",
       "177    3.100911    6.174196    7.244892   5.968442  3.816401     -0.290703   \n",
       "54          NaN         NaN         NaN        NaN       NaN           NaN   \n",
       "167    1.544266    6.944547    7.548718   3.235888  4.032868      1.513079   \n",
       "..          ...         ...         ...        ...       ...           ...   \n",
       "178         NaN         NaN         NaN        NaN       NaN           NaN   \n",
       "171    2.337285    6.172150    7.565949   6.095902  4.062286     -0.056864   \n",
       "17          NaN         NaN         NaN        NaN       NaN           NaN   \n",
       "0           NaN         NaN         NaN        NaN       NaN           NaN   \n",
       "172         NaN         NaN         NaN        NaN       NaN           NaN   \n",
       "\n",
       "     wvs_tradrat  wvs_trust  \n",
       "76      0.093100   0.332240  \n",
       "150          NaN        NaN  \n",
       "177    -0.621699   0.122955  \n",
       "54           NaN        NaN  \n",
       "167     1.188317   0.617692  \n",
       "..           ...        ...  \n",
       "178          NaN        NaN  \n",
       "171    -0.059687   0.324913  \n",
       "17           NaN        NaN  \n",
       "0            NaN        NaN  \n",
       "172          NaN        NaN  \n",
       "\n",
       "[97 rows x 1882 columns]"
      ]
     },
     "execution_count": 5,
     "metadata": {},
     "output_type": "execute_result"
    }
   ],
   "source": [
    "np.random.seed(358)\n",
    "la_mitad = df.sample(frac=0.5)\n",
    "la_mitad"
   ]
  },
  {
   "cell_type": "code",
   "execution_count": 6,
   "id": "f6c5288e",
   "metadata": {},
   "outputs": [
    {
     "data": {
      "text/html": [
       "<div>\n",
       "<style scoped>\n",
       "    .dataframe tbody tr th:only-of-type {\n",
       "        vertical-align: middle;\n",
       "    }\n",
       "\n",
       "    .dataframe tbody tr th {\n",
       "        vertical-align: top;\n",
       "    }\n",
       "\n",
       "    .dataframe thead th {\n",
       "        text-align: right;\n",
       "    }\n",
       "</style>\n",
       "<table border=\"1\" class=\"dataframe\">\n",
       "  <thead>\n",
       "    <tr style=\"text-align: right;\">\n",
       "      <th></th>\n",
       "      <th>undp_hdi</th>\n",
       "      <th>ccodealp</th>\n",
       "      <th>ht_region</th>\n",
       "      <th>gle_cgdpc</th>\n",
       "      <th>imf_pop</th>\n",
       "    </tr>\n",
       "  </thead>\n",
       "  <tbody>\n",
       "    <tr>\n",
       "      <th>76</th>\n",
       "      <td>0.615</td>\n",
       "      <td>IND</td>\n",
       "      <td>8</td>\n",
       "      <td>4256.79000</td>\n",
       "      <td>NaN</td>\n",
       "    </tr>\n",
       "    <tr>\n",
       "      <th>150</th>\n",
       "      <td>0.845</td>\n",
       "      <td>SAU</td>\n",
       "      <td>3</td>\n",
       "      <td>20872.71100</td>\n",
       "      <td>30.770000</td>\n",
       "    </tr>\n",
       "    <tr>\n",
       "      <th>177</th>\n",
       "      <td>0.764</td>\n",
       "      <td>TUR</td>\n",
       "      <td>3</td>\n",
       "      <td>16900.71100</td>\n",
       "      <td>77.695999</td>\n",
       "    </tr>\n",
       "    <tr>\n",
       "      <th>54</th>\n",
       "      <td>0.441</td>\n",
       "      <td>ETH</td>\n",
       "      <td>4</td>\n",
       "      <td>900.77002</td>\n",
       "      <td>88.347000</td>\n",
       "    </tr>\n",
       "    <tr>\n",
       "      <th>167</th>\n",
       "      <td>0.909</td>\n",
       "      <td>SWE</td>\n",
       "      <td>5</td>\n",
       "      <td>39000.91000</td>\n",
       "      <td>9.645000</td>\n",
       "    </tr>\n",
       "    <tr>\n",
       "      <th>...</th>\n",
       "      <td>...</td>\n",
       "      <td>...</td>\n",
       "      <td>...</td>\n",
       "      <td>...</td>\n",
       "      <td>...</td>\n",
       "    </tr>\n",
       "    <tr>\n",
       "      <th>178</th>\n",
       "      <td>0.688</td>\n",
       "      <td>TKM</td>\n",
       "      <td>1</td>\n",
       "      <td>13217.39000</td>\n",
       "      <td>NaN</td>\n",
       "    </tr>\n",
       "    <tr>\n",
       "      <th>171</th>\n",
       "      <td>0.738</td>\n",
       "      <td>THA</td>\n",
       "      <td>7</td>\n",
       "      <td>9295.57030</td>\n",
       "      <td>68.656998</td>\n",
       "    </tr>\n",
       "    <tr>\n",
       "      <th>17</th>\n",
       "      <td>0.671</td>\n",
       "      <td>BOL</td>\n",
       "      <td>2</td>\n",
       "      <td>4023.87010</td>\n",
       "      <td>10.078000</td>\n",
       "    </tr>\n",
       "    <tr>\n",
       "      <th>0</th>\n",
       "      <td>0.479</td>\n",
       "      <td>AFG</td>\n",
       "      <td>8</td>\n",
       "      <td>1282.64000</td>\n",
       "      <td>29.825001</td>\n",
       "    </tr>\n",
       "    <tr>\n",
       "      <th>172</th>\n",
       "      <td>0.484</td>\n",
       "      <td>TGO</td>\n",
       "      <td>4</td>\n",
       "      <td>1036.28000</td>\n",
       "      <td>6.929000</td>\n",
       "    </tr>\n",
       "  </tbody>\n",
       "</table>\n",
       "<p>97 rows × 5 columns</p>\n",
       "</div>"
      ],
      "text/plain": [
       "     undp_hdi ccodealp  ht_region    gle_cgdpc    imf_pop\n",
       "76      0.615      IND          8   4256.79000        NaN\n",
       "150     0.845      SAU          3  20872.71100  30.770000\n",
       "177     0.764      TUR          3  16900.71100  77.695999\n",
       "54      0.441      ETH          4    900.77002  88.347000\n",
       "167     0.909      SWE          5  39000.91000   9.645000\n",
       "..        ...      ...        ...          ...        ...\n",
       "178     0.688      TKM          1  13217.39000        NaN\n",
       "171     0.738      THA          7   9295.57030  68.656998\n",
       "17      0.671      BOL          2   4023.87010  10.078000\n",
       "0       0.479      AFG          8   1282.64000  29.825001\n",
       "172     0.484      TGO          4   1036.28000   6.929000\n",
       "\n",
       "[97 rows x 5 columns]"
      ]
     },
     "execution_count": 6,
     "metadata": {},
     "output_type": "execute_result"
    }
   ],
   "source": [
    "la_mitad.loc[:,['undp_hdi','ccodealp','ht_region', 'gle_cgdpc', 'imf_pop']]"
   ]
  },
  {
   "cell_type": "code",
   "execution_count": 7,
   "id": "3dee2a77",
   "metadata": {},
   "outputs": [],
   "source": [
    "new_df = la_mitad.loc[:,['undp_hdi','ccodealp','ht_region', 'gle_cgdpc', 'imf_pop', 'wef_imort','who_alc2000',\n",
    "                         'who_tobt','wdi_exph']]"
   ]
  },
  {
   "cell_type": "code",
   "execution_count": 8,
   "id": "270b8e27",
   "metadata": {},
   "outputs": [
    {
     "data": {
      "text/html": [
       "<div>\n",
       "<style scoped>\n",
       "    .dataframe tbody tr th:only-of-type {\n",
       "        vertical-align: middle;\n",
       "    }\n",
       "\n",
       "    .dataframe tbody tr th {\n",
       "        vertical-align: top;\n",
       "    }\n",
       "\n",
       "    .dataframe thead th {\n",
       "        text-align: right;\n",
       "    }\n",
       "</style>\n",
       "<table border=\"1\" class=\"dataframe\">\n",
       "  <thead>\n",
       "    <tr style=\"text-align: right;\">\n",
       "      <th></th>\n",
       "      <th>undp_hdi</th>\n",
       "      <th>ccodealp</th>\n",
       "      <th>ht_region</th>\n",
       "      <th>gle_cgdpc</th>\n",
       "      <th>imf_pop</th>\n",
       "      <th>wef_imort</th>\n",
       "      <th>who_alc2000</th>\n",
       "      <th>who_tobt</th>\n",
       "      <th>wdi_exph</th>\n",
       "    </tr>\n",
       "  </thead>\n",
       "  <tbody>\n",
       "    <tr>\n",
       "      <th>76</th>\n",
       "      <td>0.615</td>\n",
       "      <td>IND</td>\n",
       "      <td>8</td>\n",
       "      <td>4256.79000</td>\n",
       "      <td>NaN</td>\n",
       "      <td>43.799999</td>\n",
       "      <td>3.07</td>\n",
       "      <td>12.4</td>\n",
       "      <td>4.685088</td>\n",
       "    </tr>\n",
       "    <tr>\n",
       "      <th>150</th>\n",
       "      <td>0.845</td>\n",
       "      <td>SAU</td>\n",
       "      <td>3</td>\n",
       "      <td>20872.71100</td>\n",
       "      <td>30.770000</td>\n",
       "      <td>7.400000</td>\n",
       "      <td>0.09</td>\n",
       "      <td>17.1</td>\n",
       "      <td>4.684085</td>\n",
       "    </tr>\n",
       "    <tr>\n",
       "      <th>177</th>\n",
       "      <td>0.764</td>\n",
       "      <td>TUR</td>\n",
       "      <td>3</td>\n",
       "      <td>16900.71100</td>\n",
       "      <td>77.695999</td>\n",
       "      <td>12.200000</td>\n",
       "      <td>1.45</td>\n",
       "      <td>27.0</td>\n",
       "      <td>5.414959</td>\n",
       "    </tr>\n",
       "    <tr>\n",
       "      <th>54</th>\n",
       "      <td>0.441</td>\n",
       "      <td>ETH</td>\n",
       "      <td>4</td>\n",
       "      <td>900.77002</td>\n",
       "      <td>88.347000</td>\n",
       "      <td>46.500000</td>\n",
       "      <td>1.86</td>\n",
       "      <td>4.7</td>\n",
       "      <td>4.884313</td>\n",
       "    </tr>\n",
       "    <tr>\n",
       "      <th>167</th>\n",
       "      <td>0.909</td>\n",
       "      <td>SWE</td>\n",
       "      <td>5</td>\n",
       "      <td>39000.91000</td>\n",
       "      <td>9.645000</td>\n",
       "      <td>2.300000</td>\n",
       "      <td>7.30</td>\n",
       "      <td>21.9</td>\n",
       "      <td>11.929840</td>\n",
       "    </tr>\n",
       "    <tr>\n",
       "      <th>...</th>\n",
       "      <td>...</td>\n",
       "      <td>...</td>\n",
       "      <td>...</td>\n",
       "      <td>...</td>\n",
       "      <td>...</td>\n",
       "      <td>...</td>\n",
       "      <td>...</td>\n",
       "      <td>...</td>\n",
       "      <td>...</td>\n",
       "    </tr>\n",
       "    <tr>\n",
       "      <th>178</th>\n",
       "      <td>0.688</td>\n",
       "      <td>TKM</td>\n",
       "      <td>1</td>\n",
       "      <td>13217.39000</td>\n",
       "      <td>NaN</td>\n",
       "      <td>NaN</td>\n",
       "      <td>2.90</td>\n",
       "      <td>NaN</td>\n",
       "      <td>2.067386</td>\n",
       "    </tr>\n",
       "    <tr>\n",
       "      <th>171</th>\n",
       "      <td>0.738</td>\n",
       "      <td>THA</td>\n",
       "      <td>7</td>\n",
       "      <td>9295.57030</td>\n",
       "      <td>68.656998</td>\n",
       "      <td>11.400000</td>\n",
       "      <td>6.41</td>\n",
       "      <td>21.5</td>\n",
       "      <td>4.122164</td>\n",
       "    </tr>\n",
       "    <tr>\n",
       "      <th>17</th>\n",
       "      <td>0.671</td>\n",
       "      <td>BOL</td>\n",
       "      <td>2</td>\n",
       "      <td>4023.87010</td>\n",
       "      <td>10.078000</td>\n",
       "      <td>32.799999</td>\n",
       "      <td>3.62</td>\n",
       "      <td>NaN</td>\n",
       "      <td>6.334827</td>\n",
       "    </tr>\n",
       "    <tr>\n",
       "      <th>0</th>\n",
       "      <td>0.479</td>\n",
       "      <td>AFG</td>\n",
       "      <td>8</td>\n",
       "      <td>1282.64000</td>\n",
       "      <td>29.825001</td>\n",
       "      <td>NaN</td>\n",
       "      <td>0.01</td>\n",
       "      <td>NaN</td>\n",
       "      <td>8.182274</td>\n",
       "    </tr>\n",
       "    <tr>\n",
       "      <th>172</th>\n",
       "      <td>0.484</td>\n",
       "      <td>TGO</td>\n",
       "      <td>4</td>\n",
       "      <td>1036.28000</td>\n",
       "      <td>6.929000</td>\n",
       "      <td>NaN</td>\n",
       "      <td>1.44</td>\n",
       "      <td>NaN</td>\n",
       "      <td>5.246877</td>\n",
       "    </tr>\n",
       "  </tbody>\n",
       "</table>\n",
       "<p>97 rows × 9 columns</p>\n",
       "</div>"
      ],
      "text/plain": [
       "     undp_hdi ccodealp  ht_region    gle_cgdpc    imf_pop  wef_imort  \\\n",
       "76      0.615      IND          8   4256.79000        NaN  43.799999   \n",
       "150     0.845      SAU          3  20872.71100  30.770000   7.400000   \n",
       "177     0.764      TUR          3  16900.71100  77.695999  12.200000   \n",
       "54      0.441      ETH          4    900.77002  88.347000  46.500000   \n",
       "167     0.909      SWE          5  39000.91000   9.645000   2.300000   \n",
       "..        ...      ...        ...          ...        ...        ...   \n",
       "178     0.688      TKM          1  13217.39000        NaN        NaN   \n",
       "171     0.738      THA          7   9295.57030  68.656998  11.400000   \n",
       "17      0.671      BOL          2   4023.87010  10.078000  32.799999   \n",
       "0       0.479      AFG          8   1282.64000  29.825001        NaN   \n",
       "172     0.484      TGO          4   1036.28000   6.929000        NaN   \n",
       "\n",
       "     who_alc2000  who_tobt   wdi_exph  \n",
       "76          3.07      12.4   4.685088  \n",
       "150         0.09      17.1   4.684085  \n",
       "177         1.45      27.0   5.414959  \n",
       "54          1.86       4.7   4.884313  \n",
       "167         7.30      21.9  11.929840  \n",
       "..           ...       ...        ...  \n",
       "178         2.90       NaN   2.067386  \n",
       "171         6.41      21.5   4.122164  \n",
       "17          3.62       NaN   6.334827  \n",
       "0           0.01       NaN   8.182274  \n",
       "172         1.44       NaN   5.246877  \n",
       "\n",
       "[97 rows x 9 columns]"
      ]
     },
     "execution_count": 8,
     "metadata": {},
     "output_type": "execute_result"
    }
   ],
   "source": [
    "new_df"
   ]
  },
  {
   "cell_type": "code",
   "execution_count": 9,
   "id": "4d0e1740",
   "metadata": {},
   "outputs": [],
   "source": [
    "new_df['ht_region']=new_df['ht_region'].replace([1, 2, 3, 4, 5, 6, 7, 8, 9, 10], \n",
    "                            ['EastEurope', 'LatAm', 'NorthAfrica','SubSaharian', 'WesternDem', \n",
    "                            'EastAsia','SouthEastAsia','SouthAsia', 'Pacific', 'Caribbean' ])"
   ]
  },
  {
   "cell_type": "code",
   "execution_count": 10,
   "id": "4f95a557",
   "metadata": {},
   "outputs": [
    {
     "data": {
      "text/html": [
       "<div>\n",
       "<style scoped>\n",
       "    .dataframe tbody tr th:only-of-type {\n",
       "        vertical-align: middle;\n",
       "    }\n",
       "\n",
       "    .dataframe tbody tr th {\n",
       "        vertical-align: top;\n",
       "    }\n",
       "\n",
       "    .dataframe thead th {\n",
       "        text-align: right;\n",
       "    }\n",
       "</style>\n",
       "<table border=\"1\" class=\"dataframe\">\n",
       "  <thead>\n",
       "    <tr style=\"text-align: right;\">\n",
       "      <th></th>\n",
       "      <th>undp_hdi</th>\n",
       "      <th>ccodealp</th>\n",
       "      <th>ht_region</th>\n",
       "      <th>gle_cgdpc</th>\n",
       "      <th>imf_pop</th>\n",
       "      <th>wef_imort</th>\n",
       "      <th>who_alc2000</th>\n",
       "      <th>who_tobt</th>\n",
       "      <th>wdi_exph</th>\n",
       "    </tr>\n",
       "  </thead>\n",
       "  <tbody>\n",
       "    <tr>\n",
       "      <th>76</th>\n",
       "      <td>0.615</td>\n",
       "      <td>IND</td>\n",
       "      <td>SouthAsia</td>\n",
       "      <td>4256.79000</td>\n",
       "      <td>NaN</td>\n",
       "      <td>43.799999</td>\n",
       "      <td>3.07</td>\n",
       "      <td>12.4</td>\n",
       "      <td>4.685088</td>\n",
       "    </tr>\n",
       "    <tr>\n",
       "      <th>150</th>\n",
       "      <td>0.845</td>\n",
       "      <td>SAU</td>\n",
       "      <td>NorthAfrica</td>\n",
       "      <td>20872.71100</td>\n",
       "      <td>30.770000</td>\n",
       "      <td>7.400000</td>\n",
       "      <td>0.09</td>\n",
       "      <td>17.1</td>\n",
       "      <td>4.684085</td>\n",
       "    </tr>\n",
       "    <tr>\n",
       "      <th>177</th>\n",
       "      <td>0.764</td>\n",
       "      <td>TUR</td>\n",
       "      <td>NorthAfrica</td>\n",
       "      <td>16900.71100</td>\n",
       "      <td>77.695999</td>\n",
       "      <td>12.200000</td>\n",
       "      <td>1.45</td>\n",
       "      <td>27.0</td>\n",
       "      <td>5.414959</td>\n",
       "    </tr>\n",
       "    <tr>\n",
       "      <th>54</th>\n",
       "      <td>0.441</td>\n",
       "      <td>ETH</td>\n",
       "      <td>SubSaharian</td>\n",
       "      <td>900.77002</td>\n",
       "      <td>88.347000</td>\n",
       "      <td>46.500000</td>\n",
       "      <td>1.86</td>\n",
       "      <td>4.7</td>\n",
       "      <td>4.884313</td>\n",
       "    </tr>\n",
       "    <tr>\n",
       "      <th>167</th>\n",
       "      <td>0.909</td>\n",
       "      <td>SWE</td>\n",
       "      <td>WesternDem</td>\n",
       "      <td>39000.91000</td>\n",
       "      <td>9.645000</td>\n",
       "      <td>2.300000</td>\n",
       "      <td>7.30</td>\n",
       "      <td>21.9</td>\n",
       "      <td>11.929840</td>\n",
       "    </tr>\n",
       "    <tr>\n",
       "      <th>...</th>\n",
       "      <td>...</td>\n",
       "      <td>...</td>\n",
       "      <td>...</td>\n",
       "      <td>...</td>\n",
       "      <td>...</td>\n",
       "      <td>...</td>\n",
       "      <td>...</td>\n",
       "      <td>...</td>\n",
       "      <td>...</td>\n",
       "    </tr>\n",
       "    <tr>\n",
       "      <th>178</th>\n",
       "      <td>0.688</td>\n",
       "      <td>TKM</td>\n",
       "      <td>EastEurope</td>\n",
       "      <td>13217.39000</td>\n",
       "      <td>NaN</td>\n",
       "      <td>NaN</td>\n",
       "      <td>2.90</td>\n",
       "      <td>NaN</td>\n",
       "      <td>2.067386</td>\n",
       "    </tr>\n",
       "    <tr>\n",
       "      <th>171</th>\n",
       "      <td>0.738</td>\n",
       "      <td>THA</td>\n",
       "      <td>SouthEastAsia</td>\n",
       "      <td>9295.57030</td>\n",
       "      <td>68.656998</td>\n",
       "      <td>11.400000</td>\n",
       "      <td>6.41</td>\n",
       "      <td>21.5</td>\n",
       "      <td>4.122164</td>\n",
       "    </tr>\n",
       "    <tr>\n",
       "      <th>17</th>\n",
       "      <td>0.671</td>\n",
       "      <td>BOL</td>\n",
       "      <td>LatAm</td>\n",
       "      <td>4023.87010</td>\n",
       "      <td>10.078000</td>\n",
       "      <td>32.799999</td>\n",
       "      <td>3.62</td>\n",
       "      <td>NaN</td>\n",
       "      <td>6.334827</td>\n",
       "    </tr>\n",
       "    <tr>\n",
       "      <th>0</th>\n",
       "      <td>0.479</td>\n",
       "      <td>AFG</td>\n",
       "      <td>SouthAsia</td>\n",
       "      <td>1282.64000</td>\n",
       "      <td>29.825001</td>\n",
       "      <td>NaN</td>\n",
       "      <td>0.01</td>\n",
       "      <td>NaN</td>\n",
       "      <td>8.182274</td>\n",
       "    </tr>\n",
       "    <tr>\n",
       "      <th>172</th>\n",
       "      <td>0.484</td>\n",
       "      <td>TGO</td>\n",
       "      <td>SubSaharian</td>\n",
       "      <td>1036.28000</td>\n",
       "      <td>6.929000</td>\n",
       "      <td>NaN</td>\n",
       "      <td>1.44</td>\n",
       "      <td>NaN</td>\n",
       "      <td>5.246877</td>\n",
       "    </tr>\n",
       "  </tbody>\n",
       "</table>\n",
       "<p>97 rows × 9 columns</p>\n",
       "</div>"
      ],
      "text/plain": [
       "     undp_hdi ccodealp      ht_region    gle_cgdpc    imf_pop  wef_imort  \\\n",
       "76      0.615      IND      SouthAsia   4256.79000        NaN  43.799999   \n",
       "150     0.845      SAU    NorthAfrica  20872.71100  30.770000   7.400000   \n",
       "177     0.764      TUR    NorthAfrica  16900.71100  77.695999  12.200000   \n",
       "54      0.441      ETH    SubSaharian    900.77002  88.347000  46.500000   \n",
       "167     0.909      SWE     WesternDem  39000.91000   9.645000   2.300000   \n",
       "..        ...      ...            ...          ...        ...        ...   \n",
       "178     0.688      TKM     EastEurope  13217.39000        NaN        NaN   \n",
       "171     0.738      THA  SouthEastAsia   9295.57030  68.656998  11.400000   \n",
       "17      0.671      BOL          LatAm   4023.87010  10.078000  32.799999   \n",
       "0       0.479      AFG      SouthAsia   1282.64000  29.825001        NaN   \n",
       "172     0.484      TGO    SubSaharian   1036.28000   6.929000        NaN   \n",
       "\n",
       "     who_alc2000  who_tobt   wdi_exph  \n",
       "76          3.07      12.4   4.685088  \n",
       "150         0.09      17.1   4.684085  \n",
       "177         1.45      27.0   5.414959  \n",
       "54          1.86       4.7   4.884313  \n",
       "167         7.30      21.9  11.929840  \n",
       "..           ...       ...        ...  \n",
       "178         2.90       NaN   2.067386  \n",
       "171         6.41      21.5   4.122164  \n",
       "17          3.62       NaN   6.334827  \n",
       "0           0.01       NaN   8.182274  \n",
       "172         1.44       NaN   5.246877  \n",
       "\n",
       "[97 rows x 9 columns]"
      ]
     },
     "execution_count": 10,
     "metadata": {},
     "output_type": "execute_result"
    }
   ],
   "source": [
    "new_df"
   ]
  },
  {
   "cell_type": "markdown",
   "id": "3a4975d7",
   "metadata": {},
   "source": [
    "**Desafio 2**"
   ]
  },
  {
   "cell_type": "code",
   "execution_count": 11,
   "id": "5c48a11a",
   "metadata": {},
   "outputs": [
    {
     "data": {
      "text/html": [
       "<div>\n",
       "<style scoped>\n",
       "    .dataframe tbody tr th:only-of-type {\n",
       "        vertical-align: middle;\n",
       "    }\n",
       "\n",
       "    .dataframe tbody tr th {\n",
       "        vertical-align: top;\n",
       "    }\n",
       "\n",
       "    .dataframe thead th {\n",
       "        text-align: right;\n",
       "    }\n",
       "</style>\n",
       "<table border=\"1\" class=\"dataframe\">\n",
       "  <thead>\n",
       "    <tr style=\"text-align: right;\">\n",
       "      <th></th>\n",
       "      <th>undp_hdi</th>\n",
       "      <th>gle_cgdpc</th>\n",
       "      <th>imf_pop</th>\n",
       "      <th>wef_imort</th>\n",
       "      <th>who_alc2000</th>\n",
       "      <th>who_tobt</th>\n",
       "      <th>wdi_exph</th>\n",
       "    </tr>\n",
       "  </thead>\n",
       "  <tbody>\n",
       "    <tr>\n",
       "      <th>76</th>\n",
       "      <td>0.615</td>\n",
       "      <td>4256.79000</td>\n",
       "      <td>NaN</td>\n",
       "      <td>43.799999</td>\n",
       "      <td>3.07</td>\n",
       "      <td>12.4</td>\n",
       "      <td>4.685088</td>\n",
       "    </tr>\n",
       "    <tr>\n",
       "      <th>150</th>\n",
       "      <td>0.845</td>\n",
       "      <td>20872.71100</td>\n",
       "      <td>30.770000</td>\n",
       "      <td>7.400000</td>\n",
       "      <td>0.09</td>\n",
       "      <td>17.1</td>\n",
       "      <td>4.684085</td>\n",
       "    </tr>\n",
       "    <tr>\n",
       "      <th>177</th>\n",
       "      <td>0.764</td>\n",
       "      <td>16900.71100</td>\n",
       "      <td>77.695999</td>\n",
       "      <td>12.200000</td>\n",
       "      <td>1.45</td>\n",
       "      <td>27.0</td>\n",
       "      <td>5.414959</td>\n",
       "    </tr>\n",
       "    <tr>\n",
       "      <th>54</th>\n",
       "      <td>0.441</td>\n",
       "      <td>900.77002</td>\n",
       "      <td>88.347000</td>\n",
       "      <td>46.500000</td>\n",
       "      <td>1.86</td>\n",
       "      <td>4.7</td>\n",
       "      <td>4.884313</td>\n",
       "    </tr>\n",
       "    <tr>\n",
       "      <th>167</th>\n",
       "      <td>0.909</td>\n",
       "      <td>39000.91000</td>\n",
       "      <td>9.645000</td>\n",
       "      <td>2.300000</td>\n",
       "      <td>7.30</td>\n",
       "      <td>21.9</td>\n",
       "      <td>11.929840</td>\n",
       "    </tr>\n",
       "    <tr>\n",
       "      <th>...</th>\n",
       "      <td>...</td>\n",
       "      <td>...</td>\n",
       "      <td>...</td>\n",
       "      <td>...</td>\n",
       "      <td>...</td>\n",
       "      <td>...</td>\n",
       "      <td>...</td>\n",
       "    </tr>\n",
       "    <tr>\n",
       "      <th>178</th>\n",
       "      <td>0.688</td>\n",
       "      <td>13217.39000</td>\n",
       "      <td>NaN</td>\n",
       "      <td>NaN</td>\n",
       "      <td>2.90</td>\n",
       "      <td>NaN</td>\n",
       "      <td>2.067386</td>\n",
       "    </tr>\n",
       "    <tr>\n",
       "      <th>171</th>\n",
       "      <td>0.738</td>\n",
       "      <td>9295.57030</td>\n",
       "      <td>68.656998</td>\n",
       "      <td>11.400000</td>\n",
       "      <td>6.41</td>\n",
       "      <td>21.5</td>\n",
       "      <td>4.122164</td>\n",
       "    </tr>\n",
       "    <tr>\n",
       "      <th>17</th>\n",
       "      <td>0.671</td>\n",
       "      <td>4023.87010</td>\n",
       "      <td>10.078000</td>\n",
       "      <td>32.799999</td>\n",
       "      <td>3.62</td>\n",
       "      <td>NaN</td>\n",
       "      <td>6.334827</td>\n",
       "    </tr>\n",
       "    <tr>\n",
       "      <th>0</th>\n",
       "      <td>0.479</td>\n",
       "      <td>1282.64000</td>\n",
       "      <td>29.825001</td>\n",
       "      <td>NaN</td>\n",
       "      <td>0.01</td>\n",
       "      <td>NaN</td>\n",
       "      <td>8.182274</td>\n",
       "    </tr>\n",
       "    <tr>\n",
       "      <th>172</th>\n",
       "      <td>0.484</td>\n",
       "      <td>1036.28000</td>\n",
       "      <td>6.929000</td>\n",
       "      <td>NaN</td>\n",
       "      <td>1.44</td>\n",
       "      <td>NaN</td>\n",
       "      <td>5.246877</td>\n",
       "    </tr>\n",
       "  </tbody>\n",
       "</table>\n",
       "<p>97 rows × 7 columns</p>\n",
       "</div>"
      ],
      "text/plain": [
       "     undp_hdi    gle_cgdpc    imf_pop  wef_imort  who_alc2000  who_tobt  \\\n",
       "76      0.615   4256.79000        NaN  43.799999         3.07      12.4   \n",
       "150     0.845  20872.71100  30.770000   7.400000         0.09      17.1   \n",
       "177     0.764  16900.71100  77.695999  12.200000         1.45      27.0   \n",
       "54      0.441    900.77002  88.347000  46.500000         1.86       4.7   \n",
       "167     0.909  39000.91000   9.645000   2.300000         7.30      21.9   \n",
       "..        ...          ...        ...        ...          ...       ...   \n",
       "178     0.688  13217.39000        NaN        NaN         2.90       NaN   \n",
       "171     0.738   9295.57030  68.656998  11.400000         6.41      21.5   \n",
       "17      0.671   4023.87010  10.078000  32.799999         3.62       NaN   \n",
       "0       0.479   1282.64000  29.825001        NaN         0.01       NaN   \n",
       "172     0.484   1036.28000   6.929000        NaN         1.44       NaN   \n",
       "\n",
       "      wdi_exph  \n",
       "76    4.685088  \n",
       "150   4.684085  \n",
       "177   5.414959  \n",
       "54    4.884313  \n",
       "167  11.929840  \n",
       "..         ...  \n",
       "178   2.067386  \n",
       "171   4.122164  \n",
       "17    6.334827  \n",
       "0     8.182274  \n",
       "172   5.246877  \n",
       "\n",
       "[97 rows x 7 columns]"
      ]
     },
     "execution_count": 11,
     "metadata": {},
     "output_type": "execute_result"
    }
   ],
   "source": [
    "new_df[['undp_hdi','gle_cgdpc','imf_pop','wef_imort', 'who_alc2000', 'who_tobt', 'wdi_exph']]\n"
   ]
  },
  {
   "cell_type": "code",
   "execution_count": 12,
   "id": "d3f53f08",
   "metadata": {},
   "outputs": [],
   "source": [
    "def funcion(dataframe):\n",
    "    parametros = ['undp_hdi','gle_cgdpc','imf_pop','wef_imort', 'who_alc2000', 'who_tobt', 'wdi_exph']\n",
    "    df = pd.DataFrame(columns=['name','media', 'desv_standar', 'median' ])\n",
    "    for parametro in parametros:\n",
    "        promedios = dataframe[parametro].dropna().mean()\n",
    "        desv_standar = dataframe[parametro].dropna().std()\n",
    "        median = dataframe[parametro].dropna().median()\n",
    "        df = df.append({'name': parametro,'media':promedios, 'desv_standar':desv_standar, 'median':median}, ignore_index=True)\n",
    "    frecuencias_region = dataframe['ht_region'].value_counts()\n",
    "    frecuencias_pais = dataframe['ccodealp'].value_counts()\n",
    "    return [df, frecuencias_region, frecuencias_pais]"
   ]
  },
  {
   "cell_type": "code",
   "execution_count": 13,
   "id": "56b4d4c5",
   "metadata": {},
   "outputs": [
    {
     "data": {
      "text/html": [
       "<div>\n",
       "<style scoped>\n",
       "    .dataframe tbody tr th:only-of-type {\n",
       "        vertical-align: middle;\n",
       "    }\n",
       "\n",
       "    .dataframe tbody tr th {\n",
       "        vertical-align: top;\n",
       "    }\n",
       "\n",
       "    .dataframe thead th {\n",
       "        text-align: right;\n",
       "    }\n",
       "</style>\n",
       "<table border=\"1\" class=\"dataframe\">\n",
       "  <thead>\n",
       "    <tr style=\"text-align: right;\">\n",
       "      <th></th>\n",
       "      <th>name</th>\n",
       "      <th>media</th>\n",
       "      <th>desv_standar</th>\n",
       "      <th>median</th>\n",
       "    </tr>\n",
       "  </thead>\n",
       "  <tbody>\n",
       "    <tr>\n",
       "      <th>0</th>\n",
       "      <td>undp_hdi</td>\n",
       "      <td>0.694883</td>\n",
       "      <td>0.154554</td>\n",
       "      <td>0.733500</td>\n",
       "    </tr>\n",
       "    <tr>\n",
       "      <th>1</th>\n",
       "      <td>gle_cgdpc</td>\n",
       "      <td>12748.997919</td>\n",
       "      <td>13992.903658</td>\n",
       "      <td>7085.899900</td>\n",
       "    </tr>\n",
       "    <tr>\n",
       "      <th>2</th>\n",
       "      <td>imf_pop</td>\n",
       "      <td>30.123831</td>\n",
       "      <td>51.099149</td>\n",
       "      <td>10.512000</td>\n",
       "    </tr>\n",
       "    <tr>\n",
       "      <th>3</th>\n",
       "      <td>wef_imort</td>\n",
       "      <td>24.842857</td>\n",
       "      <td>24.643044</td>\n",
       "      <td>14.400000</td>\n",
       "    </tr>\n",
       "    <tr>\n",
       "      <th>4</th>\n",
       "      <td>who_alc2000</td>\n",
       "      <td>4.822935</td>\n",
       "      <td>3.757438</td>\n",
       "      <td>4.180000</td>\n",
       "    </tr>\n",
       "    <tr>\n",
       "      <th>5</th>\n",
       "      <td>who_tobt</td>\n",
       "      <td>23.911475</td>\n",
       "      <td>8.206138</td>\n",
       "      <td>23.799999</td>\n",
       "    </tr>\n",
       "    <tr>\n",
       "      <th>6</th>\n",
       "      <td>wdi_exph</td>\n",
       "      <td>6.576385</td>\n",
       "      <td>2.850160</td>\n",
       "      <td>5.895442</td>\n",
       "    </tr>\n",
       "  </tbody>\n",
       "</table>\n",
       "</div>"
      ],
      "text/plain": [
       "          name         media  desv_standar       median\n",
       "0     undp_hdi      0.694883      0.154554     0.733500\n",
       "1    gle_cgdpc  12748.997919  13992.903658  7085.899900\n",
       "2      imf_pop     30.123831     51.099149    10.512000\n",
       "3    wef_imort     24.842857     24.643044    14.400000\n",
       "4  who_alc2000      4.822935      3.757438     4.180000\n",
       "5     who_tobt     23.911475      8.206138    23.799999\n",
       "6     wdi_exph      6.576385      2.850160     5.895442"
      ]
     },
     "execution_count": 13,
     "metadata": {},
     "output_type": "execute_result"
    }
   ],
   "source": [
    "funcion(new_df)[0]"
   ]
  },
  {
   "cell_type": "code",
   "execution_count": 14,
   "id": "3892e909",
   "metadata": {},
   "outputs": [
    {
     "data": {
      "text/plain": [
       "SubSaharian      22\n",
       "WesternDem       13\n",
       "EastEurope       13\n",
       "NorthAfrica      12\n",
       "LatAm            10\n",
       "Pacific           7\n",
       "SouthEastAsia     7\n",
       "Caribbean         6\n",
       "SouthAsia         4\n",
       "EastAsia          3\n",
       "Name: ht_region, dtype: int64"
      ]
     },
     "execution_count": 14,
     "metadata": {},
     "output_type": "execute_result"
    }
   ],
   "source": [
    "funcion(new_df)[1]"
   ]
  },
  {
   "cell_type": "code",
   "execution_count": 27,
   "id": "b0bb9cb1",
   "metadata": {},
   "outputs": [
    {
     "data": {
      "text/plain": [
       "TZA    1\n",
       "MOZ    1\n",
       "PER    1\n",
       "CZE    1\n",
       "MMR    1\n",
       "      ..\n",
       "KNA    1\n",
       "EGY    1\n",
       "KHM    1\n",
       "PNG    1\n",
       "LAO    1\n",
       "Name: ccodealp, Length: 97, dtype: int64"
      ]
     },
     "execution_count": 27,
     "metadata": {},
     "output_type": "execute_result"
    }
   ],
   "source": [
    "funcion(new_df)[2]"
   ]
  },
  {
   "cell_type": "code",
   "execution_count": 15,
   "id": "a6700cea",
   "metadata": {},
   "outputs": [
    {
     "data": {
      "text/html": [
       "<div>\n",
       "<style scoped>\n",
       "    .dataframe tbody tr th:only-of-type {\n",
       "        vertical-align: middle;\n",
       "    }\n",
       "\n",
       "    .dataframe tbody tr th {\n",
       "        vertical-align: top;\n",
       "    }\n",
       "\n",
       "    .dataframe thead th {\n",
       "        text-align: right;\n",
       "    }\n",
       "</style>\n",
       "<table border=\"1\" class=\"dataframe\">\n",
       "  <thead>\n",
       "    <tr style=\"text-align: right;\">\n",
       "      <th></th>\n",
       "      <th>name</th>\n",
       "      <th>media</th>\n",
       "      <th>desv_standar</th>\n",
       "      <th>median</th>\n",
       "    </tr>\n",
       "  </thead>\n",
       "  <tbody>\n",
       "    <tr>\n",
       "      <th>0</th>\n",
       "      <td>undp_hdi</td>\n",
       "      <td>0.694883</td>\n",
       "      <td>0.154554</td>\n",
       "      <td>0.7335</td>\n",
       "    </tr>\n",
       "    <tr>\n",
       "      <th>1</th>\n",
       "      <td>gle_cgdpc</td>\n",
       "      <td>12748.997919</td>\n",
       "      <td>13992.903658</td>\n",
       "      <td>7085.8999</td>\n",
       "    </tr>\n",
       "    <tr>\n",
       "      <th>2</th>\n",
       "      <td>imf_pop</td>\n",
       "      <td>30.123831</td>\n",
       "      <td>51.099149</td>\n",
       "      <td>10.5120</td>\n",
       "    </tr>\n",
       "  </tbody>\n",
       "</table>\n",
       "</div>"
      ],
      "text/plain": [
       "        name         media  desv_standar     median\n",
       "0   undp_hdi      0.694883      0.154554     0.7335\n",
       "1  gle_cgdpc  12748.997919  13992.903658  7085.8999\n",
       "2    imf_pop     30.123831     51.099149    10.5120"
      ]
     },
     "execution_count": 15,
     "metadata": {},
     "output_type": "execute_result"
    }
   ],
   "source": [
    "mostrar = funcion(new_df)\n",
    "mostrar[0].loc[[0,1,2],:]"
   ]
  },
  {
   "cell_type": "markdown",
   "id": "9f1cb35a",
   "metadata": {},
   "source": [
    "**Desafio 3**"
   ]
  },
  {
   "cell_type": "code",
   "execution_count": 16,
   "id": "dcffd22a",
   "metadata": {},
   "outputs": [
    {
     "data": {
      "text/plain": [
       "97"
      ]
     },
     "execution_count": 16,
     "metadata": {},
     "output_type": "execute_result"
    }
   ],
   "source": [
    "new_df['imf_pop'].isnull().value_counts().sum()"
   ]
  },
  {
   "cell_type": "code",
   "execution_count": 17,
   "id": "67571734",
   "metadata": {},
   "outputs": [],
   "source": [
    "def observaciones_perdidas(dataframe, variable, print_list = False):\n",
    "    cantidad_perdidos = dataframe[variable].isnull().value_counts()[True]\n",
    "    porcentaje_perdido = (cantidad_perdidos/dataframe[variable].isnull().value_counts().sum()).round(3)\n",
    "    print(f'''La cantidad de datos perdido en la variable \\'{variable}\\' es de {cantidad_perdidos}, lo que representa un de {porcentaje_perdido*100}% de datos perdidos.''')\n",
    "    if print_list:\n",
    "        return dataframe[dataframe[variable].isnull() == True]['ccodealp']    \n",
    "     \n",
    "    "
   ]
  },
  {
   "cell_type": "code",
   "execution_count": 18,
   "id": "60495e70",
   "metadata": {},
   "outputs": [
    {
     "name": "stdout",
     "output_type": "stream",
     "text": [
      "La cantidad de datos perdido en la variable 'undp_hdi' es de 3, lo que representa un de 3.1% de datos perdidos.\n"
     ]
    }
   ],
   "source": [
    "observaciones_perdidas(new_df, 'undp_hdi')"
   ]
  },
  {
   "cell_type": "code",
   "execution_count": 19,
   "id": "3f1902ee",
   "metadata": {},
   "outputs": [
    {
     "name": "stdout",
     "output_type": "stream",
     "text": [
      "La cantidad de datos perdido en la variable 'imf_pop' es de 26, lo que representa un de 26.8% de datos perdidos.\n"
     ]
    }
   ],
   "source": [
    "observaciones_perdidas(new_df, 'imf_pop')"
   ]
  },
  {
   "cell_type": "code",
   "execution_count": 20,
   "id": "ad982c17",
   "metadata": {},
   "outputs": [
    {
     "name": "stdout",
     "output_type": "stream",
     "text": [
      "La cantidad de datos perdido en la variable 'wef_imort' es de 20, lo que representa un de 20.599999999999998% de datos perdidos.\n"
     ]
    }
   ],
   "source": [
    "observaciones_perdidas(new_df, 'wef_imort')"
   ]
  },
  {
   "cell_type": "code",
   "execution_count": 21,
   "id": "b3b41e11",
   "metadata": {},
   "outputs": [
    {
     "name": "stdout",
     "output_type": "stream",
     "text": [
      "La cantidad de datos perdido en la variable 'who_alc2000' es de 5, lo que representa un de 5.2% de datos perdidos.\n"
     ]
    }
   ],
   "source": [
    "observaciones_perdidas(new_df, 'who_alc2000')"
   ]
  },
  {
   "cell_type": "code",
   "execution_count": 22,
   "id": "dec0d2e1",
   "metadata": {},
   "outputs": [
    {
     "name": "stdout",
     "output_type": "stream",
     "text": [
      "La cantidad de datos perdido en la variable 'who_tobt' es de 36, lo que representa un de 37.1% de datos perdidos.\n"
     ]
    }
   ],
   "source": [
    "observaciones_perdidas(new_df, 'who_tobt')"
   ]
  },
  {
   "cell_type": "code",
   "execution_count": 23,
   "id": "c8f9ef59",
   "metadata": {},
   "outputs": [
    {
     "name": "stdout",
     "output_type": "stream",
     "text": [
      "La cantidad de datos perdido en la variable 'wdi_exph' es de 1, lo que representa un de 1.0% de datos perdidos.\n"
     ]
    }
   ],
   "source": [
    "observaciones_perdidas(new_df, 'wdi_exph')"
   ]
  },
  {
   "cell_type": "markdown",
   "id": "c2f1e071",
   "metadata": {},
   "source": [
    "Las 3 variables con mayor cantiadad de datos perdidos son: 'who_tobt' , 'imf_pop' y 'wef_imort'"
   ]
  },
  {
   "cell_type": "code",
   "execution_count": 24,
   "id": "e00b58e4",
   "metadata": {},
   "outputs": [
    {
     "name": "stdout",
     "output_type": "stream",
     "text": [
      "La cantidad de datos perdido en la variable 'who_tobt' es de 36, lo que representa un de 37.1% de datos perdidos.\n"
     ]
    },
    {
     "data": {
      "text/plain": [
       "133    PNG\n",
       "159    SOM\n",
       "145    KNA\n",
       "165    SUR\n",
       "135    PER\n",
       "53     GNQ\n",
       "68     GRD\n",
       "2      DZA\n",
       "9      AUT\n",
       "91     KWT\n",
       "161    ZWE\n",
       "182    MKD\n",
       "26     BDI\n",
       "69     GTM\n",
       "139    GNB\n",
       "22     SLB\n",
       "4      AGO\n",
       "10     BHS\n",
       "32     CAF\n",
       "175    ARE\n",
       "98     LBY\n",
       "129    MHL\n",
       "140    TLS\n",
       "164    SDN\n",
       "122    VUT\n",
       "63     GMB\n",
       "176    TUN\n",
       "192    YEM\n",
       "19     BWA\n",
       "41     COD\n",
       "71     GUY\n",
       "170    TJK\n",
       "178    TKM\n",
       "17     BOL\n",
       "0      AFG\n",
       "172    TGO\n",
       "Name: ccodealp, dtype: object"
      ]
     },
     "execution_count": 24,
     "metadata": {},
     "output_type": "execute_result"
    }
   ],
   "source": [
    "observaciones_perdidas(new_df, 'who_tobt', True)"
   ]
  },
  {
   "cell_type": "code",
   "execution_count": 25,
   "id": "d10e4e0c",
   "metadata": {},
   "outputs": [
    {
     "name": "stdout",
     "output_type": "stream",
     "text": [
      "La cantidad de datos perdido en la variable 'imf_pop' es de 26, lo que representa un de 26.8% de datos perdidos.\n"
     ]
    },
    {
     "data": {
      "text/plain": [
       "76     IND\n",
       "159    SOM\n",
       "145    KNA\n",
       "53     GNQ\n",
       "193    ZMB\n",
       "68     GRD\n",
       "44     CUB\n",
       "26     BDI\n",
       "69     GTM\n",
       "36     CHN\n",
       "3      AND\n",
       "139    GNB\n",
       "32     CAF\n",
       "175    ARE\n",
       "118    NAM\n",
       "164    SDN\n",
       "63     GMB\n",
       "42     CRI\n",
       "176    TUN\n",
       "1      ALB\n",
       "192    YEM\n",
       "19     BWA\n",
       "72     HTI\n",
       "41     COD\n",
       "73     HND\n",
       "178    TKM\n",
       "Name: ccodealp, dtype: object"
      ]
     },
     "execution_count": 25,
     "metadata": {},
     "output_type": "execute_result"
    }
   ],
   "source": [
    "observaciones_perdidas(new_df, 'imf_pop', True)"
   ]
  },
  {
   "cell_type": "code",
   "execution_count": 26,
   "id": "a7ba954b",
   "metadata": {},
   "outputs": [
    {
     "name": "stdout",
     "output_type": "stream",
     "text": [
      "La cantidad de datos perdido en la variable 'wef_imort' es de 20, lo que representa un de 20.599999999999998% de datos perdidos.\n"
     ]
    },
    {
     "data": {
      "text/plain": [
       "133    PNG\n",
       "159    SOM\n",
       "145    KNA\n",
       "53     GNQ\n",
       "68     GRD\n",
       "44     CUB\n",
       "57     FJI\n",
       "3      AND\n",
       "139    GNB\n",
       "22     SLB\n",
       "10     BHS\n",
       "32     CAF\n",
       "129    MHL\n",
       "119    NRU\n",
       "164    SDN\n",
       "122    VUT\n",
       "173    TON\n",
       "178    TKM\n",
       "0      AFG\n",
       "172    TGO\n",
       "Name: ccodealp, dtype: object"
      ]
     },
     "execution_count": 26,
     "metadata": {},
     "output_type": "execute_result"
    }
   ],
   "source": [
    "observaciones_perdidas(new_df, 'wef_imort', True)"
   ]
  },
  {
   "cell_type": "markdown",
   "id": "cfc419ae",
   "metadata": {},
   "source": [
    "**Desafio 4**"
   ]
  },
  {
   "cell_type": "code",
   "execution_count": 31,
   "id": "43f2c791",
   "metadata": {},
   "outputs": [],
   "source": [
    "import matplotlib.pyplot as plt "
   ]
  },
  {
   "cell_type": "code",
   "execution_count": 85,
   "id": "3bd4e5b5",
   "metadata": {},
   "outputs": [],
   "source": [
    "def generate_histogram(sample_df, full_df, var, sample_mean = False, true_mean = False):\n",
    "    dropna_filter_sample_df = sample_df[var].dropna()\n",
    "    dropna_filter_full_df = full_df[var].dropna()\n",
    "    plt.figure(figsize=(18,5))\n",
    "    plt.subplot(1,2,1)\n",
    "    plt.hist(dropna_filter_sample_df, color='tomato', alpha=.4)\n",
    "    if sample_mean:\n",
    "        plt.axvline(dropna_filter_sample_df.mean(), color = 'dodgerblue', linestyle = '--', lw=2)\n",
    "    plt.title('Sample Dataframe')\n",
    "    \n",
    "    \n",
    "    plt.figure(figsize=(18,5))\n",
    "    plt.subplot(1,2,2)\n",
    "    plt.hist(dropna_filter_full_df, color = 'grey', alpha=0.4)\n",
    "    if true_mean:\n",
    "        plt.axvline(dropna_filter_sample_df.mean(), color = 'dodgerblue', linestyle = '--', lw=2)\n",
    "    plt.title('Full Dataframe')   \n",
    "    return "
   ]
  },
  {
   "cell_type": "code",
   "execution_count": 91,
   "id": "e651944a",
   "metadata": {},
   "outputs": [
    {
     "data": {
      "image/png": "[encoded data removed]",
      "text/plain": [
       "<Figure size 1296x360 with 1 Axes>"
      ]
     },
     "metadata": {
      "needs_background": "light"
     },
     "output_type": "display_data"
    },
    {
     "data": {
      "image/png": "[encoded data removed]",
      "text/plain": [
       "<Figure size 1296x360 with 1 Axes>"
      ]
     },
     "metadata": {
      "needs_background": "light"
     },
     "output_type": "display_data"
    }
   ],
   "source": [
    "generate_histogram(new_df, df,'wef_imort', True, True)"
   ]
  },
  {
   "cell_type": "code",
   "execution_count": 92,
   "id": "be559093",
   "metadata": {},
   "outputs": [
    {
     "data": {
      "image/png": "[encoded data removed]",
      "text/plain": [
       "<Figure size 1296x360 with 1 Axes>"
      ]
     },
     "metadata": {
      "needs_background": "light"
     },
     "output_type": "display_data"
    },
    {
     "data": {
      "image/png": "[encoded data removed]",
      "text/plain": [
       "<Figure size 1296x360 with 1 Axes>"
      ]
     },
     "metadata": {
      "needs_background": "light"
     },
     "output_type": "display_data"
    }
   ],
   "source": [
    "generate_histogram(new_df, df,'who_alc2000', True, True)"
   ]
  },
  {
   "cell_type": "code",
   "execution_count": 93,
   "id": "90f9c77b",
   "metadata": {},
   "outputs": [
    {
     "data": {
      "image/png": "[encoded data removed]",
      "text/plain": [
       "<Figure size 1296x360 with 1 Axes>"
      ]
     },
     "metadata": {
      "needs_background": "light"
     },
     "output_type": "display_data"
    },
    {
     "data": {
      "image/png": "[encoded data removed]",
      "text/plain": [
       "<Figure size 1296x360 with 1 Axes>"
      ]
     },
     "metadata": {
      "needs_background": "light"
     },
     "output_type": "display_data"
    }
   ],
   "source": [
    "generate_histogram(new_df, df,'who_tobt', True, True)"
   ]
  },
  {
   "cell_type": "code",
   "execution_count": 94,
   "id": "185f8e75",
   "metadata": {},
   "outputs": [
    {
     "data": {
      "image/png": "[encoded data removed]",
      "text/plain": [
       "<Figure size 1296x360 with 1 Axes>"
      ]
     },
     "metadata": {
      "needs_background": "light"
     },
     "output_type": "display_data"
    },
    {
     "data": {
      "image/png": "[encoded data removed]",
      "text/plain": [
       "<Figure size 1296x360 with 1 Axes>"
      ]
     },
     "metadata": {
      "needs_background": "light"
     },
     "output_type": "display_data"
    }
   ],
   "source": [
    "generate_histogram(new_df, df,'wdi_exph', True, True)"
   ]
  },
  {
   "cell_type": "markdown",
   "id": "e8888bb2",
   "metadata": {},
   "source": [
    "Se observa que el valor de la media de la muestra, supera el valor de la media  de los datos completos en las variables: who_alc2000 (consumo de alcohol per capita) y who_tobt (Tabaquismo por caulquier derivado del tabaco)"
   ]
  },
  {
   "cell_type": "markdown",
   "id": "de660b30",
   "metadata": {},
   "source": [
    "**Desafio 5**"
   ]
  },
  {
   "cell_type": "code",
   "execution_count": 120,
   "id": "a380a503",
   "metadata": {},
   "outputs": [],
   "source": [
    "def dotplot(dataframe, plot_var, plot_by, statistic = 'mean', global_stat=False):\n",
    "    if statistic.lower() == 'mean':\n",
    "        agrupar = dataframe.groupby([plot_by]).mean()[plot_var]\n",
    "    elif statistic.lower() == 'median':\n",
    "        agrupar = dataframe.groupby([plot_by]).median()[plot_var]\n",
    "    if global_stat:\n",
    "        plt.axvline(dataframe[plot_var].mean(), color = 'tomato', linestyle = '--')\n",
    "    plt.plot(agrupar.values, agrupar.index, 'o', color = 'grey')\n",
    "    \n",
    "    return"
   ]
  },
  {
   "cell_type": "markdown",
   "id": "ef8241f2",
   "metadata": {},
   "source": [
    "Las 3 variables con una menor cantidad de datos perdidos son: undp_hdi, wdi_exph y who_alc2000"
   ]
  },
  {
   "cell_type": "code",
   "execution_count": 126,
   "id": "76f5c16f",
   "metadata": {},
   "outputs": [
    {
     "data": {
      "image/png": "[encoded data removed]",
      "text/plain": [
       "<Figure size 432x288 with 1 Axes>"
      ]
     },
     "metadata": {
      "needs_background": "light"
     },
     "output_type": "display_data"
    }
   ],
   "source": [
    "dotplot(new_df,'undp_hdi','ht_region', 'mean', True)"
   ]
  },
  {
   "cell_type": "code",
   "execution_count": 129,
   "id": "731b1764",
   "metadata": {},
   "outputs": [
    {
     "data": {
      "image/png": "[encoded data removed]",
      "text/plain": [
       "<Figure size 432x288 with 1 Axes>"
      ]
     },
     "metadata": {
      "needs_background": "light"
     },
     "output_type": "display_data"
    }
   ],
   "source": [
    "dotplot(new_df,'wdi_exph','ht_region', 'mean', True)"
   ]
  },
  {
   "cell_type": "code",
   "execution_count": 130,
   "id": "65fc6959",
   "metadata": {},
   "outputs": [
    {
     "data": {
      "image/png": "[encoded data removed]",
      "text/plain": [
       "<Figure size 432x288 with 1 Axes>"
      ]
     },
     "metadata": {
      "needs_background": "light"
     },
     "output_type": "display_data"
    }
   ],
   "source": [
    "dotplot(new_df,'who_alc2000','ht_region', 'mean', True)"
   ]
  },
  {
   "cell_type": "markdown",
   "id": "f7ebb600",
   "metadata": {},
   "source": [
    "**Desafio 6**"
   ]
  },
  {
   "cell_type": "code",
   "execution_count": 131,
   "id": "76b5c724",
   "metadata": {},
   "outputs": [],
   "source": [
    "new_df.to_csv('subsample_<sebastian_rebolledo>_demo.csv')"
   ]
  },
  {
   "cell_type": "code",
   "execution_count": null,
   "id": "8c9f4f43",
   "metadata": {},
   "outputs": [],
   "source": []
  }
 ],
 "metadata": {
  "kernelspec": {
   "display_name": "Python 3",
   "language": "python",
   "name": "python3"
  },
  "language_info": {
   "codemirror_mode": {
    "name": "ipython",
    "version": 3
   },
   "file_extension": ".py",
   "mimetype": "text/x-python",
   "name": "python",
   "nbconvert_exporter": "python",
   "pygments_lexer": "ipython3",
   "version": "3.8.8"
  }
 },
 "nbformat": 4,
 "nbformat_minor": 5
}
