{
 "cells": [
  {
   "cell_type": "code",
   "execution_count": 1,
   "id": "ce934af7",
   "metadata": {},
   "outputs": [],
   "source": [
    "import matplotlib.pyplot as plt"
   ]
  },
  {
   "cell_type": "code",
   "execution_count": 2,
   "id": "cdd582c0",
   "metadata": {},
   "outputs": [],
   "source": [
    "import numpy as np"
   ]
  },
  {
   "cell_type": "code",
   "execution_count": 3,
   "id": "ee6e04c2",
   "metadata": {},
   "outputs": [],
   "source": [
    "x_axis = np.linspace(-3,3)\n",
    "y_axis = x_axis ** 2"
   ]
  },
  {
   "cell_type": "code",
   "execution_count": 4,
   "id": "00b501d1",
   "metadata": {},
   "outputs": [
    {
     "data": {
      "text/plain": [
       "[<matplotlib.lines.Line2D at 0x7f26fc139d00>]"
      ]
     },
     "execution_count": 4,
     "metadata": {},
     "output_type": "execute_result"
    },
    {
     "data": {
      "image/png": "[encoded data removed]",
      "text/plain": [
       "<Figure size 432x288 with 1 Axes>"
      ]
     },
     "metadata": {
      "needs_background": "light"
     },
     "output_type": "display_data"
    }
   ],
   "source": [
    "plt.plot(x_axis, y_axis)"
   ]
  },
  {
   "cell_type": "code",
   "execution_count": 5,
   "id": "71ea26ba",
   "metadata": {},
   "outputs": [],
   "source": [
    "import pandas as pd\n",
    "df = pd.read_csv('qog_std_cs_jan18.csv')"
   ]
  },
  {
   "cell_type": "code",
   "execution_count": 6,
   "id": "291d478f",
   "metadata": {},
   "outputs": [
    {
     "data": {
      "text/plain": [
       "(194, 1882)"
      ]
     },
     "execution_count": 6,
     "metadata": {},
     "output_type": "execute_result"
    }
   ],
   "source": [
    "df.shape"
   ]
  },
  {
   "cell_type": "code",
   "execution_count": 7,
   "id": "a3b9b882",
   "metadata": {},
   "outputs": [
    {
     "data": {
      "text/html": [
       "<div>\n",
       "<style scoped>\n",
       "    .dataframe tbody tr th:only-of-type {\n",
       "        vertical-align: middle;\n",
       "    }\n",
       "\n",
       "    .dataframe tbody tr th {\n",
       "        vertical-align: top;\n",
       "    }\n",
       "\n",
       "    .dataframe thead th {\n",
       "        text-align: right;\n",
       "    }\n",
       "</style>\n",
       "<table border=\"1\" class=\"dataframe\">\n",
       "  <thead>\n",
       "    <tr style=\"text-align: right;\">\n",
       "      <th></th>\n",
       "      <th>ccode</th>\n",
       "      <th>cname</th>\n",
       "      <th>ccodealp</th>\n",
       "      <th>ccodecow</th>\n",
       "      <th>ccodewb</th>\n",
       "      <th>version</th>\n",
       "      <th>aid_cpnc</th>\n",
       "      <th>aid_cpsc</th>\n",
       "      <th>aid_crnc</th>\n",
       "      <th>aid_crnio</th>\n",
       "      <th>...</th>\n",
       "      <th>wvs_relacc</th>\n",
       "      <th>wvs_relsch</th>\n",
       "      <th>wvs_relsci</th>\n",
       "      <th>wvs_satfin</th>\n",
       "      <th>wvs_satlif</th>\n",
       "      <th>wvs_screl</th>\n",
       "      <th>wvs_subh</th>\n",
       "      <th>wvs_survself</th>\n",
       "      <th>wvs_tradrat</th>\n",
       "      <th>wvs_trust</th>\n",
       "    </tr>\n",
       "  </thead>\n",
       "  <tbody>\n",
       "    <tr>\n",
       "      <th>36</th>\n",
       "      <td>156</td>\n",
       "      <td>China</td>\n",
       "      <td>CHN</td>\n",
       "      <td>710.0</td>\n",
       "      <td>156.0</td>\n",
       "      <td>QoGStdCSJan18</td>\n",
       "      <td>NaN</td>\n",
       "      <td>NaN</td>\n",
       "      <td>28.0</td>\n",
       "      <td>14.0</td>\n",
       "      <td>...</td>\n",
       "      <td>1.664604</td>\n",
       "      <td>1.768935</td>\n",
       "      <td>1.512643</td>\n",
       "      <td>6.186435</td>\n",
       "      <td>6.849719</td>\n",
       "      <td>5.515307</td>\n",
       "      <td>3.867004</td>\n",
       "      <td>-0.333644</td>\n",
       "      <td>0.563769</td>\n",
       "      <td>0.631315</td>\n",
       "    </tr>\n",
       "  </tbody>\n",
       "</table>\n",
       "<p>1 rows × 1882 columns</p>\n",
       "</div>"
      ],
      "text/plain": [
       "    ccode  cname ccodealp  ccodecow  ccodewb        version  aid_cpnc  \\\n",
       "36    156  China      CHN     710.0    156.0  QoGStdCSJan18       NaN   \n",
       "\n",
       "    aid_cpsc  aid_crnc  aid_crnio  ...  wvs_relacc  wvs_relsch  wvs_relsci  \\\n",
       "36       NaN      28.0       14.0  ...    1.664604    1.768935    1.512643   \n",
       "\n",
       "    wvs_satfin  wvs_satlif  wvs_screl  wvs_subh  wvs_survself  wvs_tradrat  \\\n",
       "36    6.186435    6.849719   5.515307  3.867004     -0.333644     0.563769   \n",
       "\n",
       "    wvs_trust  \n",
       "36   0.631315  \n",
       "\n",
       "[1 rows x 1882 columns]"
      ]
     },
     "execution_count": 7,
     "metadata": {},
     "output_type": "execute_result"
    }
   ],
   "source": [
    "df.sample()"
   ]
  },
  {
   "cell_type": "code",
   "execution_count": 11,
   "id": "2a22ae3d",
   "metadata": {},
   "outputs": [
    {
     "data": {
      "text/plain": [
       "(array([ 5., 12., 21., 15., 14., 18., 31., 27., 19., 24.]),\n",
       " array([0.347     , 0.4071    , 0.4672    , 0.5273    , 0.5874    ,\n",
       "        0.6475    , 0.70760001, 0.76770001, 0.82780001, 0.88790001,\n",
       "        0.94800001]),\n",
       " <BarContainer object of 10 artists>)"
      ]
     },
     "execution_count": 11,
     "metadata": {},
     "output_type": "execute_result"
    },
    {
     "data": {
      "image/png": "[encoded data removed]",
      "text/plain": [
       "<Figure size 432x288 with 1 Axes>"
      ]
     },
     "metadata": {
      "needs_background": "light"
     },
     "output_type": "display_data"
    }
   ],
   "source": [
    "plt.hist(df['undp_hdi'])"
   ]
  },
  {
   "cell_type": "code",
   "execution_count": 12,
   "id": "f49b1ad7",
   "metadata": {},
   "outputs": [
    {
     "data": {
      "text/plain": [
       "(array([ 5., 12., 21., 15., 14., 18., 31., 27., 19., 24.]),\n",
       " array([0.347     , 0.4071    , 0.4672    , 0.5273    , 0.5874    ,\n",
       "        0.6475    , 0.70760001, 0.76770001, 0.82780001, 0.88790001,\n",
       "        0.94800001]),\n",
       " <BarContainer object of 10 artists>)"
      ]
     },
     "execution_count": 12,
     "metadata": {},
     "output_type": "execute_result"
    },
    {
     "data": {
      "image/png": "[encoded data removed]",
      "text/plain": [
       "<Figure size 432x288 with 1 Axes>"
      ]
     },
     "metadata": {
      "needs_background": "light"
     },
     "output_type": "display_data"
    }
   ],
   "source": [
    "plt.hist(df['undp_hdi'].dropna())"
   ]
  },
  {
   "cell_type": "code",
   "execution_count": 13,
   "id": "996d10ab",
   "metadata": {},
   "outputs": [
    {
     "data": {
      "text/plain": [
       "37               Taiwan\n",
       "89         Korea, North\n",
       "111              Monaco\n",
       "119               Nauru\n",
       "129    Marshall Islands\n",
       "148          San Marino\n",
       "159             Somalia\n",
       "179              Tuvalu\n",
       "Name: cname, dtype: object"
      ]
     },
     "execution_count": 13,
     "metadata": {},
     "output_type": "execute_result"
    }
   ],
   "source": [
    "df[df['undp_hdi'].isna()]['cname']"
   ]
  },
  {
   "cell_type": "code",
   "execution_count": 15,
   "id": "3f848fc2",
   "metadata": {},
   "outputs": [
    {
     "data": {
      "text/plain": [
       "(194, 1882)"
      ]
     },
     "execution_count": 15,
     "metadata": {},
     "output_type": "execute_result"
    }
   ],
   "source": [
    "df.shape"
   ]
  },
  {
   "cell_type": "code",
   "execution_count": 17,
   "id": "dcea9f8d",
   "metadata": {},
   "outputs": [
    {
     "data": {
      "text/plain": [
       "(0, 1882)"
      ]
     },
     "execution_count": 17,
     "metadata": {},
     "output_type": "execute_result"
    }
   ],
   "source": [
    "df.dropna().shape"
   ]
  },
  {
   "cell_type": "code",
   "execution_count": 18,
   "id": "a58d62ac",
   "metadata": {},
   "outputs": [],
   "source": [
    "hdi_dropna = df['undp_hdi'].dropna()"
   ]
  },
  {
   "cell_type": "code",
   "execution_count": 21,
   "id": "5da8aaa0",
   "metadata": {},
   "outputs": [
    {
     "data": {
      "text/plain": [
       "(array([ 5., 12., 21., 15., 14., 18., 31., 27., 19., 24.]),\n",
       " array([0.347     , 0.4071    , 0.4672    , 0.5273    , 0.5874    ,\n",
       "        0.6475    , 0.70760001, 0.76770001, 0.82780001, 0.88790001,\n",
       "        0.94800001]),\n",
       " <BarContainer object of 10 artists>)"
      ]
     },
     "execution_count": 21,
     "metadata": {},
     "output_type": "execute_result"
    },
    {
     "data": {
      "image/png": "[encoded data removed]",
      "text/plain": [
       "<Figure size 432x288 with 1 Axes>"
      ]
     },
     "metadata": {
      "needs_background": "light"
     },
     "output_type": "display_data"
    }
   ],
   "source": [
    "plt.hist(hdi_dropna, color = 'lightgrey')\n"
   ]
  },
  {
   "cell_type": "code",
   "execution_count": 23,
   "id": "317e430a",
   "metadata": {},
   "outputs": [
    {
     "data": {
      "text/plain": [
       "<matplotlib.lines.Line2D at 0x7f26f24aac70>"
      ]
     },
     "execution_count": 23,
     "metadata": {},
     "output_type": "execute_result"
    },
    {
     "data": {
      "image/png": "[encoded data removed]",
      "text/plain": [
       "<Figure size 432x288 with 1 Axes>"
      ]
     },
     "metadata": {
      "needs_background": "light"
     },
     "output_type": "display_data"
    }
   ],
   "source": [
    "plt.hist(hdi_dropna, color = 'lightgrey')\n",
    "plt.axvline(hdi_dropna.mean(), lw = 3, color = 'tomato', linestyle = '--')"
   ]
  },
  {
   "cell_type": "code",
   "execution_count": 24,
   "id": "7db03b44",
   "metadata": {},
   "outputs": [
    {
     "data": {
      "text/plain": [
       "Text(0, 0.5, 'Frecuencia')"
      ]
     },
     "execution_count": 24,
     "metadata": {},
     "output_type": "execute_result"
    },
    {
     "data": {
      "image/png": "[encoded data removed]",
      "text/plain": [
       "<Figure size 432x288 with 1 Axes>"
      ]
     },
     "metadata": {
      "needs_background": "light"
     },
     "output_type": "display_data"
    }
   ],
   "source": [
    "plt.hist(hdi_dropna, color = 'lightgrey')\n",
    "plt.axvline(hdi_dropna.mean(), lw = 3, color = 'tomato', linestyle = '--')\n",
    "plt.xlabel('IDH')\n",
    "plt.ylabel('Frecuencia')"
   ]
  },
  {
   "cell_type": "code",
   "execution_count": 25,
   "id": "4e1d3225",
   "metadata": {},
   "outputs": [],
   "source": [
    "hdi_group = df.loc[:,['cname', 'ccode', 'undp_hdi', 'ht_region']]"
   ]
  },
  {
   "cell_type": "code",
   "execution_count": 26,
   "id": "13c655b1",
   "metadata": {},
   "outputs": [
    {
     "data": {
      "text/html": [
       "<div>\n",
       "<style scoped>\n",
       "    .dataframe tbody tr th:only-of-type {\n",
       "        vertical-align: middle;\n",
       "    }\n",
       "\n",
       "    .dataframe tbody tr th {\n",
       "        vertical-align: top;\n",
       "    }\n",
       "\n",
       "    .dataframe thead th {\n",
       "        text-align: right;\n",
       "    }\n",
       "</style>\n",
       "<table border=\"1\" class=\"dataframe\">\n",
       "  <thead>\n",
       "    <tr style=\"text-align: right;\">\n",
       "      <th></th>\n",
       "      <th>cname</th>\n",
       "      <th>ccode</th>\n",
       "      <th>undp_hdi</th>\n",
       "      <th>ht_region</th>\n",
       "    </tr>\n",
       "  </thead>\n",
       "  <tbody>\n",
       "    <tr>\n",
       "      <th>0</th>\n",
       "      <td>Afghanistan</td>\n",
       "      <td>4</td>\n",
       "      <td>0.479</td>\n",
       "      <td>8</td>\n",
       "    </tr>\n",
       "    <tr>\n",
       "      <th>1</th>\n",
       "      <td>Albania</td>\n",
       "      <td>8</td>\n",
       "      <td>0.762</td>\n",
       "      <td>1</td>\n",
       "    </tr>\n",
       "    <tr>\n",
       "      <th>2</th>\n",
       "      <td>Algeria</td>\n",
       "      <td>12</td>\n",
       "      <td>0.743</td>\n",
       "      <td>3</td>\n",
       "    </tr>\n",
       "    <tr>\n",
       "      <th>3</th>\n",
       "      <td>Andorra</td>\n",
       "      <td>20</td>\n",
       "      <td>0.857</td>\n",
       "      <td>5</td>\n",
       "    </tr>\n",
       "    <tr>\n",
       "      <th>4</th>\n",
       "      <td>Angola</td>\n",
       "      <td>24</td>\n",
       "      <td>0.531</td>\n",
       "      <td>4</td>\n",
       "    </tr>\n",
       "  </tbody>\n",
       "</table>\n",
       "</div>"
      ],
      "text/plain": [
       "         cname  ccode  undp_hdi  ht_region\n",
       "0  Afghanistan      4     0.479          8\n",
       "1      Albania      8     0.762          1\n",
       "2      Algeria     12     0.743          3\n",
       "3      Andorra     20     0.857          5\n",
       "4       Angola     24     0.531          4"
      ]
     },
     "execution_count": 26,
     "metadata": {},
     "output_type": "execute_result"
    }
   ],
   "source": [
    "hdi_group.head()"
   ]
  },
  {
   "cell_type": "code",
   "execution_count": 29,
   "id": "ca8854ce",
   "metadata": {},
   "outputs": [],
   "source": [
    "hdi_group['region_recod'] = hdi_group['ht_region'].replace(\n",
    "        [1, 2, 3, 4, 5, 6, 7, 8, 9, 10],\n",
    "        ['EastEurope', 'LatAm', 'NorthAfrica', 'SubSaharian', 'WesternDem',\n",
    "        'EastAsia', 'SouthEastAsia', 'SouthAsia', 'Pacific', 'Caribbean']\n",
    "\n",
    ")"
   ]
  },
  {
   "cell_type": "code",
   "execution_count": 30,
   "id": "6d5d9298",
   "metadata": {},
   "outputs": [
    {
     "data": {
      "text/html": [
       "<div>\n",
       "<style scoped>\n",
       "    .dataframe tbody tr th:only-of-type {\n",
       "        vertical-align: middle;\n",
       "    }\n",
       "\n",
       "    .dataframe tbody tr th {\n",
       "        vertical-align: top;\n",
       "    }\n",
       "\n",
       "    .dataframe thead th {\n",
       "        text-align: right;\n",
       "    }\n",
       "</style>\n",
       "<table border=\"1\" class=\"dataframe\">\n",
       "  <thead>\n",
       "    <tr style=\"text-align: right;\">\n",
       "      <th></th>\n",
       "      <th>cname</th>\n",
       "      <th>ccode</th>\n",
       "      <th>undp_hdi</th>\n",
       "      <th>ht_region</th>\n",
       "      <th>region_recod</th>\n",
       "    </tr>\n",
       "  </thead>\n",
       "  <tbody>\n",
       "    <tr>\n",
       "      <th>0</th>\n",
       "      <td>Afghanistan</td>\n",
       "      <td>4</td>\n",
       "      <td>0.479</td>\n",
       "      <td>8</td>\n",
       "      <td>SouthAsia</td>\n",
       "    </tr>\n",
       "    <tr>\n",
       "      <th>1</th>\n",
       "      <td>Albania</td>\n",
       "      <td>8</td>\n",
       "      <td>0.762</td>\n",
       "      <td>1</td>\n",
       "      <td>EastEurope</td>\n",
       "    </tr>\n",
       "    <tr>\n",
       "      <th>2</th>\n",
       "      <td>Algeria</td>\n",
       "      <td>12</td>\n",
       "      <td>0.743</td>\n",
       "      <td>3</td>\n",
       "      <td>NorthAfrica</td>\n",
       "    </tr>\n",
       "    <tr>\n",
       "      <th>3</th>\n",
       "      <td>Andorra</td>\n",
       "      <td>20</td>\n",
       "      <td>0.857</td>\n",
       "      <td>5</td>\n",
       "      <td>WesternDem</td>\n",
       "    </tr>\n",
       "    <tr>\n",
       "      <th>4</th>\n",
       "      <td>Angola</td>\n",
       "      <td>24</td>\n",
       "      <td>0.531</td>\n",
       "      <td>4</td>\n",
       "      <td>SubSaharian</td>\n",
       "    </tr>\n",
       "  </tbody>\n",
       "</table>\n",
       "</div>"
      ],
      "text/plain": [
       "         cname  ccode  undp_hdi  ht_region region_recod\n",
       "0  Afghanistan      4     0.479          8    SouthAsia\n",
       "1      Albania      8     0.762          1   EastEurope\n",
       "2      Algeria     12     0.743          3  NorthAfrica\n",
       "3      Andorra     20     0.857          5   WesternDem\n",
       "4       Angola     24     0.531          4  SubSaharian"
      ]
     },
     "execution_count": 30,
     "metadata": {},
     "output_type": "execute_result"
    }
   ],
   "source": [
    "hdi_group.head()"
   ]
  },
  {
   "cell_type": "code",
   "execution_count": 31,
   "id": "b8d74013",
   "metadata": {},
   "outputs": [
    {
     "data": {
      "text/plain": [
       "region_recod\n",
       "Caribbean        0.741154\n",
       "EastAsia         0.817000\n",
       "EastEurope       0.780679\n",
       "LatAm            0.721500\n",
       "NorthAfrica      0.748300\n",
       "Pacific          0.643000\n",
       "SouthAsia        0.605125\n",
       "SouthEastAsia    0.695545\n",
       "SubSaharian      0.508813\n",
       "WesternDem       0.902360\n",
       "Name: undp_hdi, dtype: float64"
      ]
     },
     "execution_count": 31,
     "metadata": {},
     "output_type": "execute_result"
    }
   ],
   "source": [
    "hdi_group.groupby('region_recod')['undp_hdi'].mean()"
   ]
  },
  {
   "cell_type": "code",
   "execution_count": 32,
   "id": "96907954",
   "metadata": {},
   "outputs": [],
   "source": [
    "hdi_groupby_means = hdi_group.groupby('region_recod')['undp_hdi'].mean()"
   ]
  },
  {
   "cell_type": "code",
   "execution_count": 33,
   "id": "5492fd74",
   "metadata": {},
   "outputs": [
    {
     "data": {
      "text/plain": [
       "[<matplotlib.lines.Line2D at 0x7f26f1c93730>]"
      ]
     },
     "execution_count": 33,
     "metadata": {},
     "output_type": "execute_result"
    },
    {
     "data": {
      "image/png": "[encoded data removed]",
      "text/plain": [
       "<Figure size 432x288 with 1 Axes>"
      ]
     },
     "metadata": {
      "needs_background": "light"
     },
     "output_type": "display_data"
    }
   ],
   "source": [
    "plt.plot(hdi_groupby_means.values, hdi_groupby_means.index)"
   ]
  },
  {
   "cell_type": "code",
   "execution_count": 34,
   "id": "15516f9d",
   "metadata": {},
   "outputs": [
    {
     "data": {
      "text/plain": [
       "[<matplotlib.lines.Line2D at 0x7f26f0917850>]"
      ]
     },
     "execution_count": 34,
     "metadata": {},
     "output_type": "execute_result"
    },
    {
     "data": {
      "image/png": "[encoded data removed]",
      "text/plain": [
       "<Figure size 432x288 with 1 Axes>"
      ]
     },
     "metadata": {
      "needs_background": "light"
     },
     "output_type": "display_data"
    }
   ],
   "source": [
    "plt.plot(hdi_groupby_means.values, hdi_groupby_means.index, 'o')"
   ]
  },
  {
   "cell_type": "code",
   "execution_count": 37,
   "id": "9e64b230",
   "metadata": {},
   "outputs": [
    {
     "data": {
      "text/plain": [
       "<matplotlib.lines.Line2D at 0x7f26f0276bb0>"
      ]
     },
     "execution_count": 37,
     "metadata": {},
     "output_type": "execute_result"
    },
    {
     "data": {
      "image/png": "[encoded data removed]",
      "text/plain": [
       "<Figure size 432x288 with 1 Axes>"
      ]
     },
     "metadata": {
      "needs_background": "light"
     },
     "output_type": "display_data"
    }
   ],
   "source": [
    "plt.plot(hdi_groupby_means.values, hdi_groupby_means.index, 'o')\n",
    "plt.axvline(hdi_group['undp_hdi'].mean(), color = 'tomato', linestyle = '--')"
   ]
  },
  {
   "cell_type": "code",
   "execution_count": 38,
   "id": "f4cdc563",
   "metadata": {},
   "outputs": [],
   "source": [
    "mu = hdi_dropna.mean()\n",
    "sigma = hdi_dropna.var()"
   ]
  },
  {
   "cell_type": "code",
   "execution_count": 39,
   "id": "5aace0f1",
   "metadata": {},
   "outputs": [
    {
     "name": "stdout",
     "output_type": "stream",
     "text": [
      "La media del IDH es de 0.6958010768279573, su varianza es de 0.02411465796313718\n"
     ]
    }
   ],
   "source": [
    "print(f\"La media del IDH es de {mu}, su varianza es de {sigma}\")"
   ]
  },
  {
   "cell_type": "markdown",
   "id": "caa679b3",
   "metadata": {},
   "source": [
    "**Simulando distribucion normal**"
   ]
  },
  {
   "cell_type": "code",
   "execution_count": 46,
   "id": "7adde554",
   "metadata": {},
   "outputs": [
    {
     "data": {
      "text/plain": [
       "(array([  5.,  27.,  84., 177., 261., 209., 162.,  57.,  14.,   4.]),\n",
       " array([0.22246877, 0.32053578, 0.41860278, 0.51666979, 0.61473679,\n",
       "        0.7128038 , 0.81087081, 0.90893781, 1.00700482, 1.10507182,\n",
       "        1.20313883]),\n",
       " <BarContainer object of 10 artists>)"
      ]
     },
     "execution_count": 46,
     "metadata": {},
     "output_type": "execute_result"
    },
    {
     "data": {
      "image/png": "[encoded data removed]",
      "text/plain": [
       "<Figure size 432x288 with 1 Axes>"
      ]
     },
     "metadata": {
      "needs_background": "light"
     },
     "output_type": "display_data"
    }
   ],
   "source": [
    "simulate_normal = np.random.normal(mu, np.sqrt(sigma), 1000)\n",
    "plt.hist(simulate_normal, color='lightgrey', alpha = .4)"
   ]
  },
  {
   "cell_type": "markdown",
   "id": "9b1a5c95",
   "metadata": {},
   "source": [
    "Colocando limites"
   ]
  },
  {
   "cell_type": "code",
   "execution_count": 48,
   "id": "e5edf60e",
   "metadata": {},
   "outputs": [
    {
     "data": {
      "text/plain": [
       "(0.3, 1.0)"
      ]
     },
     "execution_count": 48,
     "metadata": {},
     "output_type": "execute_result"
    },
    {
     "data": {
      "image/png": "[encoded data removed]",
      "text/plain": [
       "<Figure size 432x288 with 1 Axes>"
      ]
     },
     "metadata": {
      "needs_background": "light"
     },
     "output_type": "display_data"
    }
   ],
   "source": [
    "simulate_normal = np.random.normal(mu, np.sqrt(sigma), 1000)\n",
    "plt.hist(simulate_normal, color='lightgrey', alpha = .4)\n",
    "plt.xlim(.3, 1)"
   ]
  },
  {
   "cell_type": "markdown",
   "id": "9abbedf6",
   "metadata": {},
   "source": [
    "comportamiento empirico esperado"
   ]
  },
  {
   "cell_type": "code",
   "execution_count": 59,
   "id": "3c8a56ad",
   "metadata": {},
   "outputs": [
    {
     "data": {
      "text/plain": [
       "[<matplotlib.lines.Line2D at 0x7f26ebe87a60>]"
      ]
     },
     "execution_count": 59,
     "metadata": {},
     "output_type": "execute_result"
    },
    {
     "data": {
      "image/png": "[encoded data removed]",
      "text/plain": [
       "<Figure size 432x288 with 1 Axes>"
      ]
     },
     "metadata": {
      "needs_background": "light"
     },
     "output_type": "display_data"
    }
   ],
   "source": [
    "simulate_normal = np.random.normal(mu, np.sqrt(sigma), 10)\n",
    "plt.hist(simulate_normal, color='lightgrey', alpha = .4)\n",
    "plt.xlim(.3, 1)\n",
    "\n",
    "from scipy.stats import norm\n",
    "x_axis = np.linspace(.3, 1, 1000)\n",
    "simulate_normal_pdf = norm.pdf(x_axis, mu, np.sqrt(sigma))\n",
    "plt.plot(x_axis, simulate_normal_pdf, color = 'tomato', lw=3)"
   ]
  },
  {
   "cell_type": "markdown",
   "id": "036fce01",
   "metadata": {},
   "source": [
    "comportamiento verdadero"
   ]
  },
  {
   "cell_type": "code",
   "execution_count": 55,
   "id": "1ff27f37",
   "metadata": {},
   "outputs": [
    {
     "data": {
      "text/plain": [
       "(array([ 5., 12., 21., 15., 14., 18., 31., 27., 19., 24.]),\n",
       " array([0.347     , 0.4071    , 0.4672    , 0.5273    , 0.5874    ,\n",
       "        0.6475    , 0.70760001, 0.76770001, 0.82780001, 0.88790001,\n",
       "        0.94800001]),\n",
       " <BarContainer object of 10 artists>)"
      ]
     },
     "execution_count": 55,
     "metadata": {},
     "output_type": "execute_result"
    },
    {
     "data": {
      "image/png": "[encoded data removed]",
      "text/plain": [
       "<Figure size 432x288 with 1 Axes>"
      ]
     },
     "metadata": {
      "needs_background": "light"
     },
     "output_type": "display_data"
    }
   ],
   "source": [
    "plt.hist(hdi_dropna, color = 'lightgrey', alpha = .4)\n"
   ]
  },
  {
   "cell_type": "code",
   "execution_count": 64,
   "id": "33ef77ee",
   "metadata": {},
   "outputs": [
    {
     "data": {
      "text/plain": [
       "[<matplotlib.lines.Line2D at 0x7f26ebc6b100>]"
      ]
     },
     "execution_count": 64,
     "metadata": {},
     "output_type": "execute_result"
    },
    {
     "data": {
      "image/png": "[encoded data removed]",
      "text/plain": [
       "<Figure size 432x288 with 1 Axes>"
      ]
     },
     "metadata": {
      "needs_background": "light"
     },
     "output_type": "display_data"
    }
   ],
   "source": [
    "from scipy.stats import gaussian_kde\n",
    "plt.hist(hdi_dropna, color = 'lightgrey', alpha=.4)\n",
    "x_axis = np.linspace(.3, 1, 100)\n",
    "gauss_norm = gaussian_kde(hdi_dropna)\n",
    "z = np.reshape(gauss_norm(x_axis).T, x_axis.shape)\n",
    "plt.plot(x_axis, z, color='tomato', lw=3)"
   ]
  },
  {
   "cell_type": "code",
   "execution_count": null,
   "id": "5b8f7a90",
   "metadata": {},
   "outputs": [],
   "source": []
  }
 ],
 "metadata": {
  "kernelspec": {
   "display_name": "Python 3",
   "language": "python",
   "name": "python3"
  },
  "language_info": {
   "codemirror_mode": {
    "name": "ipython",
    "version": 3
   },
   "file_extension": ".py",
   "mimetype": "text/x-python",
   "name": "python",
   "nbconvert_exporter": "python",
   "pygments_lexer": "ipython3",
   "version": "3.8.8"
  }
 },
 "nbformat": 4,
 "nbformat_minor": 5
}
