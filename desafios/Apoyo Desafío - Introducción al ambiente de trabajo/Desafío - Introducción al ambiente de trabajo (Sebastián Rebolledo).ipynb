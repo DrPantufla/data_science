{
 "cells": [
  {
   "cell_type": "markdown",
   "id": "57c4e965",
   "metadata": {},
   "source": [
    "# Desafío - Introducción al ambiente de trabajo (Sebastián Rebolledo)"
   ]
  },
  {
   "cell_type": "markdown",
   "id": "e00fe3ac",
   "metadata": {},
   "source": [
    "**Desafio 1**"
   ]
  },
  {
   "cell_type": "code",
   "execution_count": 1,
   "id": "bbfed31e",
   "metadata": {},
   "outputs": [
    {
     "name": "stdout",
     "output_type": "stream",
     "text": [
      "Hola Mundo, esta es mi primera incursión en Python\n"
     ]
    }
   ],
   "source": [
    "print(\"Hola Mundo, esta es mi primera incursión en Python\")"
   ]
  },
  {
   "cell_type": "markdown",
   "id": "fa75d746",
   "metadata": {},
   "source": [
    "**Desafio 2**"
   ]
  },
  {
   "cell_type": "code",
   "execution_count": 39,
   "id": "3a8716b5",
   "metadata": {},
   "outputs": [],
   "source": [
    "nombre = \"Sebastian Rebolledo\"\n",
    "edad = 26\n",
    "actividades = [\"Andar en bicicleta\", \"Jugar videojuegos\", \"Leer\"]\n",
    "mascota = True\n",
    "\n"
   ]
  },
  {
   "cell_type": "markdown",
   "id": "f44c1dc0",
   "metadata": {},
   "source": [
    "**Desafio 3**"
   ]
  },
  {
   "cell_type": "code",
   "execution_count": 40,
   "id": "5624ef1d",
   "metadata": {},
   "outputs": [
    {
     "name": "stdout",
     "output_type": "stream",
     "text": [
      "Sebastian Rebolledo\n",
      "26\n",
      "Jugar videojuegos\n",
      "True\n"
     ]
    }
   ],
   "source": [
    "print(nombre)\n",
    "print(edad)\n",
    "print(actividades[1])\n",
    "print(mascota)"
   ]
  },
  {
   "cell_type": "code",
   "execution_count": 41,
   "id": "9a8861ee",
   "metadata": {},
   "outputs": [
    {
     "name": "stdout",
     "output_type": "stream",
     "text": [
      "<class 'str'>\n",
      "<class 'int'>\n",
      "<class 'list'>\n",
      "<class 'bool'>\n"
     ]
    }
   ],
   "source": [
    "print(type(nombre))\n",
    "print(type(edad))\n",
    "print(type(actividades))\n",
    "print(type(mascota))"
   ]
  },
  {
   "cell_type": "code",
   "execution_count": null,
   "id": "8fd9ce82",
   "metadata": {},
   "outputs": [],
   "source": [
    "if mascota == True:\n",
    "    mascota = \"si\""
   ]
  },
  {
   "cell_type": "code",
   "execution_count": 44,
   "id": "050c121f",
   "metadata": {},
   "outputs": [],
   "source": [
    "presentacion = f\"Hola me llamo {nombre}, tengo {edad} años, y mis actividades favoritas son : {actividades[0]}, {actividades[1]} y {actividades[2]} y {mascota} tengo una mascota llamada nieve.\""
   ]
  },
  {
   "cell_type": "code",
   "execution_count": 45,
   "id": "bec7230e",
   "metadata": {},
   "outputs": [
    {
     "name": "stdout",
     "output_type": "stream",
     "text": [
      "Hola me llamo Sebastian Rebolledo, tengo 26 años, y mis actividades favoritas son : Andar en bicicleta, Jugar videojuegos y Leer y True tengo una mascota llamada nieve.\n"
     ]
    }
   ],
   "source": [
    "print(presentacion)"
   ]
  },
  {
   "cell_type": "markdown",
   "id": "5257b192",
   "metadata": {},
   "source": [
    "**Desafio 4**"
   ]
  },
  {
   "cell_type": "markdown",
   "id": "45027245",
   "metadata": {},
   "source": [
    "Codigo a corregir:"
   ]
  },
  {
   "cell_type": "code",
   "execution_count": 17,
   "id": "18e32874",
   "metadata": {},
   "outputs": [
    {
     "ename": "SyntaxError",
     "evalue": "EOL while scanning string literal (<ipython-input-17-d2445c7a277d>, line 1)",
     "output_type": "error",
     "traceback": [
      "\u001b[1;36m  File \u001b[1;32m\"<ipython-input-17-d2445c7a277d>\"\u001b[1;36m, line \u001b[1;32m1\u001b[0m\n\u001b[1;33m    print('Estaba la pájara pinta sentada en el verde limón)\u001b[0m\n\u001b[1;37m                                                            ^\u001b[0m\n\u001b[1;31mSyntaxError\u001b[0m\u001b[1;31m:\u001b[0m EOL while scanning string literal\n"
     ]
    }
   ],
   "source": [
    "print('Estaba la pájara pinta sentada en el verde limón)"
   ]
  },
  {
   "cell_type": "markdown",
   "id": "e8cc662c",
   "metadata": {},
   "source": [
    "El error se produce por que falta la comilla simple al final del string. A continuacion dejo el codigo corregido"
   ]
  },
  {
   "cell_type": "code",
   "execution_count": 18,
   "id": "2160ffed",
   "metadata": {},
   "outputs": [
    {
     "name": "stdout",
     "output_type": "stream",
     "text": [
      "Estaba la pájara pinta sentada en el verde limón\n"
     ]
    }
   ],
   "source": [
    "print('Estaba la pájara pinta sentada en el verde limón')\n"
   ]
  },
  {
   "cell_type": "markdown",
   "id": "35e2a430",
   "metadata": {},
   "source": [
    "Codigo a corregir:"
   ]
  },
  {
   "cell_type": "code",
   "execution_count": 19,
   "id": "c1fbe60b",
   "metadata": {},
   "outputs": [
    {
     "ename": "SyntaxError",
     "evalue": "invalid syntax (<ipython-input-19-d4c6d8abefec>, line 1)",
     "output_type": "error",
     "traceback": [
      "\u001b[1;36m  File \u001b[1;32m\"<ipython-input-19-d4c6d8abefec>\"\u001b[1;36m, line \u001b[1;32m1\u001b[0m\n\u001b[1;33m    print('Mi nombre es' name 'y tengo' edad, 'años')\u001b[0m\n\u001b[1;37m                         ^\u001b[0m\n\u001b[1;31mSyntaxError\u001b[0m\u001b[1;31m:\u001b[0m invalid syntax\n"
     ]
    }
   ],
   "source": [
    "print('Mi nombre es' name 'y tengo' edad, 'años')\n"
   ]
  },
  {
   "cell_type": "markdown",
   "id": "530e2aed",
   "metadata": {},
   "source": [
    "El error se debe a que le faltan las comas ademas de que la variable name no esta definida."
   ]
  },
  {
   "cell_type": "markdown",
   "id": "b1553801",
   "metadata": {},
   "source": [
    "Para corregirlo agregare las comillas y le asignare un valor a la variable name."
   ]
  },
  {
   "cell_type": "code",
   "execution_count": 25,
   "id": "a64fd15e",
   "metadata": {
    "scrolled": true
   },
   "outputs": [
    {
     "name": "stdout",
     "output_type": "stream",
     "text": [
      "Mi nombre es Sebastian y tengo 26 años\n"
     ]
    }
   ],
   "source": [
    "name = \"Sebastian\"\n",
    "print('Mi nombre es', name, 'y tengo', edad, 'años')"
   ]
  },
  {
   "cell_type": "markdown",
   "id": "af497b2a",
   "metadata": {},
   "source": [
    "Codigo a corregir:"
   ]
  },
  {
   "cell_type": "code",
   "execution_count": 26,
   "id": "fa2f542e",
   "metadata": {},
   "outputs": [
    {
     "ename": "ModuleNotFoundError",
     "evalue": "No module named 'padnas'",
     "output_type": "error",
     "traceback": [
      "\u001b[1;31m---------------------------------------------------------------------------\u001b[0m",
      "\u001b[1;31mModuleNotFoundError\u001b[0m                       Traceback (most recent call last)",
      "\u001b[1;32m<ipython-input-26-a6f6df1c4c77>\u001b[0m in \u001b[0;36m<module>\u001b[1;34m\u001b[0m\n\u001b[1;32m----> 1\u001b[1;33m \u001b[1;32mimport\u001b[0m \u001b[0mpadnas\u001b[0m \u001b[1;32mas\u001b[0m \u001b[0mpd\u001b[0m\u001b[1;33m\u001b[0m\u001b[1;33m\u001b[0m\u001b[0m\n\u001b[0m\u001b[0;32m      2\u001b[0m \u001b[1;32mimport\u001b[0m \u001b[0mnunnpy\u001b[0m \u001b[1;32mas\u001b[0m \u001b[0mnp\u001b[0m\u001b[1;33m\u001b[0m\u001b[1;33m\u001b[0m\u001b[0m\n",
      "\u001b[1;31mModuleNotFoundError\u001b[0m: No module named 'padnas'"
     ]
    }
   ],
   "source": [
    "import padnas as pd\n",
    "import nunnpy as np\n"
   ]
  },
  {
   "cell_type": "markdown",
   "id": "b24b7ed8",
   "metadata": {},
   "source": [
    "El error se debe a que estan mal escritos los dos modulos, numpy y pandas. "
   ]
  },
  {
   "cell_type": "code",
   "execution_count": 27,
   "id": "3a71108c",
   "metadata": {},
   "outputs": [],
   "source": [
    "import pandas as pd\n",
    "import numpy as np"
   ]
  },
  {
   "cell_type": "markdown",
   "id": "eed7ce71",
   "metadata": {},
   "source": [
    "Codigo a corregir:"
   ]
  },
  {
   "cell_type": "code",
   "execution_count": 28,
   "id": "4c0fc658",
   "metadata": {},
   "outputs": [
    {
     "ename": "TypeError",
     "evalue": "can only concatenate str (not \"int\") to str",
     "output_type": "error",
     "traceback": [
      "\u001b[1;31m---------------------------------------------------------------------------\u001b[0m",
      "\u001b[1;31mTypeError\u001b[0m                                 Traceback (most recent call last)",
      "\u001b[1;32m<ipython-input-28-c5a9a83acb26>\u001b[0m in \u001b[0;36m<module>\u001b[1;34m\u001b[0m\n\u001b[1;32m----> 1\u001b[1;33m \u001b[1;34m\"Ornitorrinco\"\u001b[0m \u001b[1;33m+\u001b[0m \u001b[1;36m45\u001b[0m\u001b[1;33m\u001b[0m\u001b[1;33m\u001b[0m\u001b[0m\n\u001b[0m",
      "\u001b[1;31mTypeError\u001b[0m: can only concatenate str (not \"int\") to str"
     ]
    }
   ],
   "source": [
    "\"Ornitorrinco\" + 45"
   ]
  },
  {
   "cell_type": "markdown",
   "id": "4b4ddc76",
   "metadata": {},
   "source": [
    "No se pueden sumar string con enteros (int)"
   ]
  },
  {
   "cell_type": "markdown",
   "id": "d79d52eb",
   "metadata": {},
   "source": [
    "**Desafio 5**\n",
    "    "
   ]
  },
  {
   "cell_type": "code",
   "execution_count": 2,
   "id": "8bc27a91",
   "metadata": {},
   "outputs": [],
   "source": [
    "import pandas as pd\n",
    "import numpy as np"
   ]
  },
  {
   "cell_type": "code",
   "execution_count": 4,
   "id": "a48efd0d",
   "metadata": {},
   "outputs": [
    {
     "data": {
      "text/html": [
       "<div>\n",
       "<style scoped>\n",
       "    .dataframe tbody tr th:only-of-type {\n",
       "        vertical-align: middle;\n",
       "    }\n",
       "\n",
       "    .dataframe tbody tr th {\n",
       "        vertical-align: top;\n",
       "    }\n",
       "\n",
       "    .dataframe thead th {\n",
       "        text-align: right;\n",
       "    }\n",
       "</style>\n",
       "<table border=\"1\" class=\"dataframe\">\n",
       "  <thead>\n",
       "    <tr style=\"text-align: right;\">\n",
       "      <th></th>\n",
       "      <th>year</th>\n",
       "      <th>month</th>\n",
       "      <th>passengers</th>\n",
       "    </tr>\n",
       "  </thead>\n",
       "  <tbody>\n",
       "    <tr>\n",
       "      <th>0</th>\n",
       "      <td>1949</td>\n",
       "      <td>January</td>\n",
       "      <td>112</td>\n",
       "    </tr>\n",
       "    <tr>\n",
       "      <th>1</th>\n",
       "      <td>1949</td>\n",
       "      <td>February</td>\n",
       "      <td>118</td>\n",
       "    </tr>\n",
       "    <tr>\n",
       "      <th>2</th>\n",
       "      <td>1949</td>\n",
       "      <td>March</td>\n",
       "      <td>132</td>\n",
       "    </tr>\n",
       "    <tr>\n",
       "      <th>3</th>\n",
       "      <td>1949</td>\n",
       "      <td>April</td>\n",
       "      <td>129</td>\n",
       "    </tr>\n",
       "    <tr>\n",
       "      <th>4</th>\n",
       "      <td>1949</td>\n",
       "      <td>May</td>\n",
       "      <td>121</td>\n",
       "    </tr>\n",
       "    <tr>\n",
       "      <th>...</th>\n",
       "      <td>...</td>\n",
       "      <td>...</td>\n",
       "      <td>...</td>\n",
       "    </tr>\n",
       "    <tr>\n",
       "      <th>139</th>\n",
       "      <td>1960</td>\n",
       "      <td>August</td>\n",
       "      <td>606</td>\n",
       "    </tr>\n",
       "    <tr>\n",
       "      <th>140</th>\n",
       "      <td>1960</td>\n",
       "      <td>September</td>\n",
       "      <td>508</td>\n",
       "    </tr>\n",
       "    <tr>\n",
       "      <th>141</th>\n",
       "      <td>1960</td>\n",
       "      <td>October</td>\n",
       "      <td>461</td>\n",
       "    </tr>\n",
       "    <tr>\n",
       "      <th>142</th>\n",
       "      <td>1960</td>\n",
       "      <td>November</td>\n",
       "      <td>390</td>\n",
       "    </tr>\n",
       "    <tr>\n",
       "      <th>143</th>\n",
       "      <td>1960</td>\n",
       "      <td>December</td>\n",
       "      <td>432</td>\n",
       "    </tr>\n",
       "  </tbody>\n",
       "</table>\n",
       "<p>144 rows × 3 columns</p>\n",
       "</div>"
      ],
      "text/plain": [
       "     year      month  passengers\n",
       "0    1949    January         112\n",
       "1    1949   February         118\n",
       "2    1949      March         132\n",
       "3    1949      April         129\n",
       "4    1949        May         121\n",
       "..    ...        ...         ...\n",
       "139  1960     August         606\n",
       "140  1960  September         508\n",
       "141  1960    October         461\n",
       "142  1960   November         390\n",
       "143  1960   December         432\n",
       "\n",
       "[144 rows x 3 columns]"
      ]
     },
     "execution_count": 4,
     "metadata": {},
     "output_type": "execute_result"
    }
   ],
   "source": [
    "df = pd.read_csv(\"flights.csv\")\n",
    "df"
   ]
  },
  {
   "cell_type": "code",
   "execution_count": 5,
   "id": "17bfec1e",
   "metadata": {},
   "outputs": [
    {
     "data": {
      "text/html": [
       "<div>\n",
       "<style scoped>\n",
       "    .dataframe tbody tr th:only-of-type {\n",
       "        vertical-align: middle;\n",
       "    }\n",
       "\n",
       "    .dataframe tbody tr th {\n",
       "        vertical-align: top;\n",
       "    }\n",
       "\n",
       "    .dataframe thead th {\n",
       "        text-align: right;\n",
       "    }\n",
       "</style>\n",
       "<table border=\"1\" class=\"dataframe\">\n",
       "  <thead>\n",
       "    <tr style=\"text-align: right;\">\n",
       "      <th></th>\n",
       "      <th>year</th>\n",
       "      <th>month</th>\n",
       "      <th>passengers</th>\n",
       "    </tr>\n",
       "  </thead>\n",
       "  <tbody>\n",
       "    <tr>\n",
       "      <th>0</th>\n",
       "      <td>1949</td>\n",
       "      <td>January</td>\n",
       "      <td>112</td>\n",
       "    </tr>\n",
       "    <tr>\n",
       "      <th>1</th>\n",
       "      <td>1949</td>\n",
       "      <td>February</td>\n",
       "      <td>118</td>\n",
       "    </tr>\n",
       "    <tr>\n",
       "      <th>2</th>\n",
       "      <td>1949</td>\n",
       "      <td>March</td>\n",
       "      <td>132</td>\n",
       "    </tr>\n",
       "    <tr>\n",
       "      <th>3</th>\n",
       "      <td>1949</td>\n",
       "      <td>April</td>\n",
       "      <td>129</td>\n",
       "    </tr>\n",
       "    <tr>\n",
       "      <th>4</th>\n",
       "      <td>1949</td>\n",
       "      <td>May</td>\n",
       "      <td>121</td>\n",
       "    </tr>\n",
       "  </tbody>\n",
       "</table>\n",
       "</div>"
      ],
      "text/plain": [
       "   year     month  passengers\n",
       "0  1949   January         112\n",
       "1  1949  February         118\n",
       "2  1949     March         132\n",
       "3  1949     April         129\n",
       "4  1949       May         121"
      ]
     },
     "execution_count": 5,
     "metadata": {},
     "output_type": "execute_result"
    }
   ],
   "source": [
    "df.head()"
   ]
  },
  {
   "cell_type": "code",
   "execution_count": 6,
   "id": "d147cb06",
   "metadata": {},
   "outputs": [
    {
     "data": {
      "text/html": [
       "<div>\n",
       "<style scoped>\n",
       "    .dataframe tbody tr th:only-of-type {\n",
       "        vertical-align: middle;\n",
       "    }\n",
       "\n",
       "    .dataframe tbody tr th {\n",
       "        vertical-align: top;\n",
       "    }\n",
       "\n",
       "    .dataframe thead th {\n",
       "        text-align: right;\n",
       "    }\n",
       "</style>\n",
       "<table border=\"1\" class=\"dataframe\">\n",
       "  <thead>\n",
       "    <tr style=\"text-align: right;\">\n",
       "      <th></th>\n",
       "      <th>year</th>\n",
       "      <th>month</th>\n",
       "      <th>passengers</th>\n",
       "    </tr>\n",
       "  </thead>\n",
       "  <tbody>\n",
       "    <tr>\n",
       "      <th>139</th>\n",
       "      <td>1960</td>\n",
       "      <td>August</td>\n",
       "      <td>606</td>\n",
       "    </tr>\n",
       "    <tr>\n",
       "      <th>140</th>\n",
       "      <td>1960</td>\n",
       "      <td>September</td>\n",
       "      <td>508</td>\n",
       "    </tr>\n",
       "    <tr>\n",
       "      <th>141</th>\n",
       "      <td>1960</td>\n",
       "      <td>October</td>\n",
       "      <td>461</td>\n",
       "    </tr>\n",
       "    <tr>\n",
       "      <th>142</th>\n",
       "      <td>1960</td>\n",
       "      <td>November</td>\n",
       "      <td>390</td>\n",
       "    </tr>\n",
       "    <tr>\n",
       "      <th>143</th>\n",
       "      <td>1960</td>\n",
       "      <td>December</td>\n",
       "      <td>432</td>\n",
       "    </tr>\n",
       "  </tbody>\n",
       "</table>\n",
       "</div>"
      ],
      "text/plain": [
       "     year      month  passengers\n",
       "139  1960     August         606\n",
       "140  1960  September         508\n",
       "141  1960    October         461\n",
       "142  1960   November         390\n",
       "143  1960   December         432"
      ]
     },
     "execution_count": 6,
     "metadata": {},
     "output_type": "execute_result"
    }
   ],
   "source": [
    "df.tail()"
   ]
  },
  {
   "cell_type": "code",
   "execution_count": 8,
   "id": "fae36932",
   "metadata": {},
   "outputs": [],
   "source": [
    "medidas_univariadas = df[\"year\"].describe()"
   ]
  },
  {
   "cell_type": "code",
   "execution_count": 9,
   "id": "3aa15417",
   "metadata": {},
   "outputs": [
    {
     "data": {
      "text/plain": [
       "count     144.000000\n",
       "mean     1954.500000\n",
       "std         3.464102\n",
       "min      1949.000000\n",
       "25%      1951.750000\n",
       "50%      1954.500000\n",
       "75%      1957.250000\n",
       "max      1960.000000\n",
       "Name: year, dtype: float64"
      ]
     },
     "execution_count": 9,
     "metadata": {},
     "output_type": "execute_result"
    }
   ],
   "source": [
    "medidas_univariadas"
   ]
  },
  {
   "cell_type": "code",
   "execution_count": 25,
   "id": "5e729079",
   "metadata": {},
   "outputs": [
    {
     "data": {
      "text/plain": [
       "year  month      passengers\n",
       "1949  April      129           1\n",
       "      August     148           1\n",
       "1956  May        318           1\n",
       "      November   271           1\n",
       "      October    306           1\n",
       "                              ..\n",
       "1953  April      235           1\n",
       "      August     272           1\n",
       "      December   201           1\n",
       "      February   196           1\n",
       "1960  September  508           1\n",
       "Length: 144, dtype: int64"
      ]
     },
     "execution_count": 25,
     "metadata": {},
     "output_type": "execute_result"
    }
   ],
   "source": [
    "frecuencia = df.value_counts()\n",
    "frecuencia"
   ]
  },
  {
   "cell_type": "code",
   "execution_count": 33,
   "id": "1a411954",
   "metadata": {},
   "outputs": [],
   "source": [
    "primeras_15 = df.head(15)\n",
    "ultimos_15 = df.tail(15)\n"
   ]
  },
  {
   "cell_type": "markdown",
   "id": "33374ef9",
   "metadata": {},
   "source": [
    "Media, mediana y moda, para la columna passengers\n"
   ]
  },
  {
   "cell_type": "code",
   "execution_count": 20,
   "id": "85767e5b",
   "metadata": {},
   "outputs": [
    {
     "data": {
      "text/plain": [
       "280.2986111111111"
      ]
     },
     "execution_count": 20,
     "metadata": {},
     "output_type": "execute_result"
    }
   ],
   "source": [
    "media_pasajeros = np.mean(df[\"passengers\"])\n",
    "media_pasajeros"
   ]
  },
  {
   "cell_type": "code",
   "execution_count": 21,
   "id": "b04d6bff",
   "metadata": {},
   "outputs": [
    {
     "data": {
      "text/plain": [
       "265.5"
      ]
     },
     "execution_count": 21,
     "metadata": {},
     "output_type": "execute_result"
    }
   ],
   "source": [
    "mediana_pasajeros = np.median(df[\"passengers\"])\n",
    "mediana_pasajeros"
   ]
  },
  {
   "cell_type": "code",
   "execution_count": 26,
   "id": "e3c18cbc",
   "metadata": {},
   "outputs": [
    {
     "data": {
      "text/plain": [
       "119.54904153277148"
      ]
     },
     "execution_count": 26,
     "metadata": {},
     "output_type": "execute_result"
    }
   ],
   "source": [
    "desviacion_standar_pasajeros = np.std(df[\"passengers\"])\n",
    "desviacion_standar_pasajeros"
   ]
  },
  {
   "cell_type": "markdown",
   "id": "ec80449d",
   "metadata": {},
   "source": [
    "Media, mediana y moda, para los primeros y ultimos 15 elementos de la columna passenger\n",
    "    "
   ]
  },
  {
   "cell_type": "code",
   "execution_count": 28,
   "id": "38798ed7",
   "metadata": {},
   "outputs": [
    {
     "data": {
      "text/plain": [
       "126.8"
      ]
     },
     "execution_count": 28,
     "metadata": {},
     "output_type": "execute_result"
    }
   ],
   "source": [
    "media_primeros_15 = np.mean(primeras_15[\"passengers\"])\n",
    "media_primeros_15"
   ]
  },
  {
   "cell_type": "code",
   "execution_count": 30,
   "id": "d4cac844",
   "metadata": {},
   "outputs": [
    {
     "data": {
      "text/plain": [
       "126.0"
      ]
     },
     "execution_count": 30,
     "metadata": {},
     "output_type": "execute_result"
    }
   ],
   "source": [
    "mediana_primeros_15 = np.median(primeras_15[\"passengers\"])\n",
    "mediana_primeros_15"
   ]
  },
  {
   "cell_type": "code",
   "execution_count": 31,
   "id": "9daed864",
   "metadata": {},
   "outputs": [
    {
     "data": {
      "text/plain": [
       "12.681745410891462"
      ]
     },
     "execution_count": 31,
     "metadata": {},
     "output_type": "execute_result"
    }
   ],
   "source": [
    "std_primeros_15 = np.std(primeras_15[\"passengers\"])\n",
    "std_primeros_15"
   ]
  },
  {
   "cell_type": "code",
   "execution_count": 34,
   "id": "29fe8f07",
   "metadata": {},
   "outputs": [
    {
     "data": {
      "text/plain": [
       "459.2"
      ]
     },
     "execution_count": 34,
     "metadata": {},
     "output_type": "execute_result"
    }
   ],
   "source": [
    "media_ultimos_15 = np.mean(ultimos_15[\"passengers\"])\n",
    "media_ultimos_15"
   ]
  },
  {
   "cell_type": "code",
   "execution_count": 35,
   "id": "0e0e827b",
   "metadata": {},
   "outputs": [
    {
     "data": {
      "text/plain": [
       "432.0"
      ]
     },
     "execution_count": 35,
     "metadata": {},
     "output_type": "execute_result"
    }
   ],
   "source": [
    "mediana_ultimos_15 = np.median(ultimos_15[\"passengers\"])\n",
    "mediana_ultimos_15"
   ]
  },
  {
   "cell_type": "code",
   "execution_count": 37,
   "id": "3b56ba35",
   "metadata": {},
   "outputs": [
    {
     "data": {
      "text/plain": [
       "75.29426715671431"
      ]
     },
     "execution_count": 37,
     "metadata": {},
     "output_type": "execute_result"
    }
   ],
   "source": [
    "std_ultimos_15 = np.std(ultimos_15[\"passengers\"])\n",
    "std_ultimos_15"
   ]
  },
  {
   "cell_type": "markdown",
   "id": "bc97bc0c",
   "metadata": {},
   "source": [
    "Se puede apreciar el aumento de pasajeros viajando al comparar las medidas de tendencia central obtenidas en los primeros 15 datos con respecto  a los ultimos."
   ]
  }
 ],
 "metadata": {
  "kernelspec": {
   "display_name": "Python 3",
   "language": "python",
   "name": "python3"
  },
  "language_info": {
   "codemirror_mode": {
    "name": "ipython",
    "version": 3
   },
   "file_extension": ".py",
   "mimetype": "text/x-python",
   "name": "python",
   "nbconvert_exporter": "python",
   "pygments_lexer": "ipython3",
   "version": "3.8.8"
  }
 },
 "nbformat": 4,
 "nbformat_minor": 5
}
