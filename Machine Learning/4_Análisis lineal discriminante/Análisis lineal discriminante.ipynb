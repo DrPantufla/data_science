{
 "cells": [
  {
   "cell_type": "markdown",
   "id": "c619817d",
   "metadata": {},
   "source": [
    "# Desafío - Análisis lineal discriminante (Sebastián Rebolledo)"
   ]
  },
  {
   "cell_type": "markdown",
   "id": "9d7aba54",
   "metadata": {},
   "source": [
    "### Ejercicio 1: Preparación de ambiente de trabajo"
   ]
  },
  {
   "cell_type": "code",
   "execution_count": 1,
   "id": "7c1978fc",
   "metadata": {},
   "outputs": [],
   "source": [
    "import pandas as pd\n",
    "import numpy as np\n",
    "import matplotlib.pyplot as plt\n",
    "import seaborn as sns\n",
    "from sklearn.preprocessing import StandardScaler\n",
    "from sklearn.preprocessing import LabelEncoder\n",
    "from sklearn.preprocessing import LabelBinarizer\n",
    "from sklearn.model_selection import train_test_split\n",
    "from sklearn.metrics import classification_report\n",
    "from sklearn.discriminant_analysis import LinearDiscriminantAnalysis\n",
    "from sklearn.discriminant_analysis import QuadraticDiscriminantAnalysis\n",
    "from sklearn.metrics import confusion_matrix\n",
    "from imblearn.over_sampling import SMOTE"
   ]
  },
  {
   "cell_type": "code",
   "execution_count": 2,
   "id": "10e7010d",
   "metadata": {},
   "outputs": [],
   "source": [
    "df=pd.read_csv('default_credit.csv').drop(['index'], axis=1)"
   ]
  },
  {
   "cell_type": "code",
   "execution_count": 3,
   "id": "3d298c3b",
   "metadata": {},
   "outputs": [
    {
     "data": {
      "text/html": [
       "<div>\n",
       "<style scoped>\n",
       "    .dataframe tbody tr th:only-of-type {\n",
       "        vertical-align: middle;\n",
       "    }\n",
       "\n",
       "    .dataframe tbody tr th {\n",
       "        vertical-align: top;\n",
       "    }\n",
       "\n",
       "    .dataframe thead th {\n",
       "        text-align: right;\n",
       "    }\n",
       "</style>\n",
       "<table border=\"1\" class=\"dataframe\">\n",
       "  <thead>\n",
       "    <tr style=\"text-align: right;\">\n",
       "      <th></th>\n",
       "      <th>default</th>\n",
       "      <th>student</th>\n",
       "      <th>balance</th>\n",
       "      <th>income</th>\n",
       "    </tr>\n",
       "  </thead>\n",
       "  <tbody>\n",
       "    <tr>\n",
       "      <th>0</th>\n",
       "      <td>No</td>\n",
       "      <td>No</td>\n",
       "      <td>729.526495</td>\n",
       "      <td>44361.625074</td>\n",
       "    </tr>\n",
       "    <tr>\n",
       "      <th>1</th>\n",
       "      <td>No</td>\n",
       "      <td>Yes</td>\n",
       "      <td>817.180407</td>\n",
       "      <td>12106.134700</td>\n",
       "    </tr>\n",
       "    <tr>\n",
       "      <th>2</th>\n",
       "      <td>No</td>\n",
       "      <td>No</td>\n",
       "      <td>1073.549164</td>\n",
       "      <td>31767.138947</td>\n",
       "    </tr>\n",
       "    <tr>\n",
       "      <th>3</th>\n",
       "      <td>No</td>\n",
       "      <td>No</td>\n",
       "      <td>529.250605</td>\n",
       "      <td>35704.493935</td>\n",
       "    </tr>\n",
       "    <tr>\n",
       "      <th>4</th>\n",
       "      <td>No</td>\n",
       "      <td>No</td>\n",
       "      <td>785.655883</td>\n",
       "      <td>38463.495879</td>\n",
       "    </tr>\n",
       "    <tr>\n",
       "      <th>...</th>\n",
       "      <td>...</td>\n",
       "      <td>...</td>\n",
       "      <td>...</td>\n",
       "      <td>...</td>\n",
       "    </tr>\n",
       "    <tr>\n",
       "      <th>9995</th>\n",
       "      <td>No</td>\n",
       "      <td>No</td>\n",
       "      <td>711.555020</td>\n",
       "      <td>52992.378914</td>\n",
       "    </tr>\n",
       "    <tr>\n",
       "      <th>9996</th>\n",
       "      <td>No</td>\n",
       "      <td>No</td>\n",
       "      <td>757.962918</td>\n",
       "      <td>19660.721768</td>\n",
       "    </tr>\n",
       "    <tr>\n",
       "      <th>9997</th>\n",
       "      <td>No</td>\n",
       "      <td>No</td>\n",
       "      <td>845.411989</td>\n",
       "      <td>58636.156984</td>\n",
       "    </tr>\n",
       "    <tr>\n",
       "      <th>9998</th>\n",
       "      <td>No</td>\n",
       "      <td>No</td>\n",
       "      <td>1569.009053</td>\n",
       "      <td>36669.112365</td>\n",
       "    </tr>\n",
       "    <tr>\n",
       "      <th>9999</th>\n",
       "      <td>No</td>\n",
       "      <td>Yes</td>\n",
       "      <td>200.922183</td>\n",
       "      <td>16862.952321</td>\n",
       "    </tr>\n",
       "  </tbody>\n",
       "</table>\n",
       "<p>10000 rows × 4 columns</p>\n",
       "</div>"
      ],
      "text/plain": [
       "     default student      balance        income\n",
       "0         No      No   729.526495  44361.625074\n",
       "1         No     Yes   817.180407  12106.134700\n",
       "2         No      No  1073.549164  31767.138947\n",
       "3         No      No   529.250605  35704.493935\n",
       "4         No      No   785.655883  38463.495879\n",
       "...      ...     ...          ...           ...\n",
       "9995      No      No   711.555020  52992.378914\n",
       "9996      No      No   757.962918  19660.721768\n",
       "9997      No      No   845.411989  58636.156984\n",
       "9998      No      No  1569.009053  36669.112365\n",
       "9999      No     Yes   200.922183  16862.952321\n",
       "\n",
       "[10000 rows x 4 columns]"
      ]
     },
     "execution_count": 3,
     "metadata": {},
     "output_type": "execute_result"
    }
   ],
   "source": [
    "df"
   ]
  },
  {
   "cell_type": "code",
   "execution_count": 4,
   "id": "c6418d1a",
   "metadata": {},
   "outputs": [
    {
     "data": {
      "text/plain": [
       "<seaborn.axisgrid.FacetGrid at 0x7f6a6876b9d0>"
      ]
     },
     "execution_count": 4,
     "metadata": {},
     "output_type": "execute_result"
    },
    {
     "data": {
      "image/png": "[encoded data removed]",
      "text/plain": [
       "<Figure size 360x360 with 1 Axes>"
      ]
     },
     "metadata": {
      "needs_background": "light"
     },
     "output_type": "display_data"
    }
   ],
   "source": [
    "sns.displot(df['balance'], kde=True)"
   ]
  },
  {
   "cell_type": "code",
   "execution_count": 5,
   "id": "79f5e7db",
   "metadata": {},
   "outputs": [
    {
     "data": {
      "text/plain": [
       "<seaborn.axisgrid.FacetGrid at 0x7f6a6a011670>"
      ]
     },
     "execution_count": 5,
     "metadata": {},
     "output_type": "execute_result"
    },
    {
     "data": {
      "image/png": "[encoded data removed]",
      "text/plain": [
       "<Figure size 360x360 with 1 Axes>"
      ]
     },
     "metadata": {
      "needs_background": "light"
     },
     "output_type": "display_data"
    }
   ],
   "source": [
    "sns.displot(df['income'], kde=True)"
   ]
  },
  {
   "cell_type": "code",
   "execution_count": 6,
   "id": "545b8fd5",
   "metadata": {},
   "outputs": [
    {
     "data": {
      "text/plain": [
       "<seaborn.axisgrid.FacetGrid at 0x7f6a19328cd0>"
      ]
     },
     "execution_count": 6,
     "metadata": {},
     "output_type": "execute_result"
    },
    {
     "data": {
      "image/png": "[encoded data removed]",
      "text/plain": [
       "<Figure size 360x360 with 1 Axes>"
      ]
     },
     "metadata": {
      "needs_background": "light"
     },
     "output_type": "display_data"
    }
   ],
   "source": [
    "sns.displot(df['default'])"
   ]
  },
  {
   "cell_type": "code",
   "execution_count": 7,
   "id": "4beda64d",
   "metadata": {},
   "outputs": [
    {
     "data": {
      "text/plain": [
       "<seaborn.axisgrid.FacetGrid at 0x7f6a1927d040>"
      ]
     },
     "execution_count": 7,
     "metadata": {},
     "output_type": "execute_result"
    },
    {
     "data": {
      "image/png": "[encoded data removed]",
      "text/plain": [
       "<Figure size 360x360 with 1 Axes>"
      ]
     },
     "metadata": {
      "needs_background": "light"
     },
     "output_type": "display_data"
    }
   ],
   "source": [
    "sns.displot(df['student'])"
   ]
  },
  {
   "cell_type": "markdown",
   "id": "c2e66039",
   "metadata": {},
   "source": [
    "### Ejercicio 2: Modelo base"
   ]
  },
  {
   "cell_type": "code",
   "execution_count": 8,
   "id": "dc495a6b",
   "metadata": {},
   "outputs": [],
   "source": [
    "df['student']=LabelEncoder().fit_transform(df['student'])\n",
    "df['default']=LabelEncoder().fit_transform(df['default'])"
   ]
  },
  {
   "cell_type": "code",
   "execution_count": 9,
   "id": "e62db64c",
   "metadata": {},
   "outputs": [
    {
     "data": {
      "text/html": [
       "<div>\n",
       "<style scoped>\n",
       "    .dataframe tbody tr th:only-of-type {\n",
       "        vertical-align: middle;\n",
       "    }\n",
       "\n",
       "    .dataframe tbody tr th {\n",
       "        vertical-align: top;\n",
       "    }\n",
       "\n",
       "    .dataframe thead th {\n",
       "        text-align: right;\n",
       "    }\n",
       "</style>\n",
       "<table border=\"1\" class=\"dataframe\">\n",
       "  <thead>\n",
       "    <tr style=\"text-align: right;\">\n",
       "      <th></th>\n",
       "      <th>default</th>\n",
       "      <th>student</th>\n",
       "      <th>balance</th>\n",
       "      <th>income</th>\n",
       "    </tr>\n",
       "  </thead>\n",
       "  <tbody>\n",
       "    <tr>\n",
       "      <th>0</th>\n",
       "      <td>0</td>\n",
       "      <td>0</td>\n",
       "      <td>729.526495</td>\n",
       "      <td>44361.625074</td>\n",
       "    </tr>\n",
       "    <tr>\n",
       "      <th>1</th>\n",
       "      <td>0</td>\n",
       "      <td>1</td>\n",
       "      <td>817.180407</td>\n",
       "      <td>12106.134700</td>\n",
       "    </tr>\n",
       "    <tr>\n",
       "      <th>2</th>\n",
       "      <td>0</td>\n",
       "      <td>0</td>\n",
       "      <td>1073.549164</td>\n",
       "      <td>31767.138947</td>\n",
       "    </tr>\n",
       "    <tr>\n",
       "      <th>3</th>\n",
       "      <td>0</td>\n",
       "      <td>0</td>\n",
       "      <td>529.250605</td>\n",
       "      <td>35704.493935</td>\n",
       "    </tr>\n",
       "    <tr>\n",
       "      <th>4</th>\n",
       "      <td>0</td>\n",
       "      <td>0</td>\n",
       "      <td>785.655883</td>\n",
       "      <td>38463.495879</td>\n",
       "    </tr>\n",
       "    <tr>\n",
       "      <th>...</th>\n",
       "      <td>...</td>\n",
       "      <td>...</td>\n",
       "      <td>...</td>\n",
       "      <td>...</td>\n",
       "    </tr>\n",
       "    <tr>\n",
       "      <th>9995</th>\n",
       "      <td>0</td>\n",
       "      <td>0</td>\n",
       "      <td>711.555020</td>\n",
       "      <td>52992.378914</td>\n",
       "    </tr>\n",
       "    <tr>\n",
       "      <th>9996</th>\n",
       "      <td>0</td>\n",
       "      <td>0</td>\n",
       "      <td>757.962918</td>\n",
       "      <td>19660.721768</td>\n",
       "    </tr>\n",
       "    <tr>\n",
       "      <th>9997</th>\n",
       "      <td>0</td>\n",
       "      <td>0</td>\n",
       "      <td>845.411989</td>\n",
       "      <td>58636.156984</td>\n",
       "    </tr>\n",
       "    <tr>\n",
       "      <th>9998</th>\n",
       "      <td>0</td>\n",
       "      <td>0</td>\n",
       "      <td>1569.009053</td>\n",
       "      <td>36669.112365</td>\n",
       "    </tr>\n",
       "    <tr>\n",
       "      <th>9999</th>\n",
       "      <td>0</td>\n",
       "      <td>1</td>\n",
       "      <td>200.922183</td>\n",
       "      <td>16862.952321</td>\n",
       "    </tr>\n",
       "  </tbody>\n",
       "</table>\n",
       "<p>10000 rows × 4 columns</p>\n",
       "</div>"
      ],
      "text/plain": [
       "      default  student      balance        income\n",
       "0           0        0   729.526495  44361.625074\n",
       "1           0        1   817.180407  12106.134700\n",
       "2           0        0  1073.549164  31767.138947\n",
       "3           0        0   529.250605  35704.493935\n",
       "4           0        0   785.655883  38463.495879\n",
       "...       ...      ...          ...           ...\n",
       "9995        0        0   711.555020  52992.378914\n",
       "9996        0        0   757.962918  19660.721768\n",
       "9997        0        0   845.411989  58636.156984\n",
       "9998        0        0  1569.009053  36669.112365\n",
       "9999        0        1   200.922183  16862.952321\n",
       "\n",
       "[10000 rows x 4 columns]"
      ]
     },
     "execution_count": 9,
     "metadata": {},
     "output_type": "execute_result"
    }
   ],
   "source": [
    "df"
   ]
  },
  {
   "cell_type": "markdown",
   "id": "a649ef46",
   "metadata": {},
   "source": [
    "0 = No y 1=Yes"
   ]
  },
  {
   "cell_type": "code",
   "execution_count": 10,
   "id": "4a627496",
   "metadata": {},
   "outputs": [],
   "source": [
    "x=df.loc[:,['student', 'balance','income']]\n",
    "y=df['default']\n",
    "X_train_mat, X_test_mat, y_train_vec, y_test_vec = train_test_split(x,y,test_size=0.33, random_state=1534)"
   ]
  },
  {
   "cell_type": "code",
   "execution_count": 11,
   "id": "8f1380e4",
   "metadata": {},
   "outputs": [],
   "source": [
    "lda_model = LinearDiscriminantAnalysis()"
   ]
  },
  {
   "cell_type": "code",
   "execution_count": 12,
   "id": "96532fe9",
   "metadata": {},
   "outputs": [
    {
     "data": {
      "text/plain": [
       "LinearDiscriminantAnalysis()"
      ]
     },
     "execution_count": 12,
     "metadata": {},
     "output_type": "execute_result"
    }
   ],
   "source": [
    "lda_model.fit(X_train_mat, y_train_vec)"
   ]
  },
  {
   "cell_type": "code",
   "execution_count": 13,
   "id": "ed02ba95",
   "metadata": {},
   "outputs": [],
   "source": [
    "lda_model_pred= lda_model.predict(X_test_mat)"
   ]
  },
  {
   "cell_type": "code",
   "execution_count": 14,
   "id": "4206312f",
   "metadata": {},
   "outputs": [],
   "source": [
    "cf_matrix = confusion_matrix(y_test_vec, lda_model_pred)/len(y_test_vec)"
   ]
  },
  {
   "cell_type": "code",
   "execution_count": 15,
   "id": "021e60c8",
   "metadata": {},
   "outputs": [
    {
     "data": {
      "text/plain": [
       "array([[0.95787879, 0.00181818],\n",
       "       [0.03060606, 0.00969697]])"
      ]
     },
     "execution_count": 15,
     "metadata": {},
     "output_type": "execute_result"
    }
   ],
   "source": [
    "cf_matrix"
   ]
  },
  {
   "cell_type": "code",
   "execution_count": 16,
   "id": "04fe752e",
   "metadata": {},
   "outputs": [
    {
     "name": "stdout",
     "output_type": "stream",
     "text": [
      "              precision    recall  f1-score   support\n",
      "\n",
      "           0       0.97      1.00      0.98      3167\n",
      "           1       0.84      0.24      0.37       133\n",
      "\n",
      "    accuracy                           0.97      3300\n",
      "   macro avg       0.91      0.62      0.68      3300\n",
      "weighted avg       0.96      0.97      0.96      3300\n",
      "\n"
     ]
    }
   ],
   "source": [
    "print(classification_report(y_test_vec, lda_model_pred))"
   ]
  },
  {
   "cell_type": "markdown",
   "id": "0794a5c8",
   "metadata": {},
   "source": [
    "#### Se observa una gran diferencia entre las clases, la frecuencia de la clase 0 es casi 30 veces mayor que la de la clase 1. Por lo que el  modelo esta prediciendo solo la clase 0.\n",
    "#### Con respecto a la clase 1, el modelo solo logra identificar ciertos ejemplos con las caracteristicas bien marcadas. "
   ]
  },
  {
   "cell_type": "markdown",
   "id": "a8ffbee5",
   "metadata": {},
   "source": [
    "### Ejercicio 3: Refactorización 1 - información a priori"
   ]
  },
  {
   "cell_type": "code",
   "execution_count": 17,
   "id": "4b9c3541",
   "metadata": {},
   "outputs": [
    {
     "data": {
      "text/plain": [
       "array([0.97014925, 0.02985075])"
      ]
     },
     "execution_count": 17,
     "metadata": {},
     "output_type": "execute_result"
    }
   ],
   "source": [
    "lda_model.priors_"
   ]
  },
  {
   "cell_type": "markdown",
   "id": "58c611a6",
   "metadata": {},
   "source": [
    "#### Priori 50 y 50"
   ]
  },
  {
   "cell_type": "code",
   "execution_count": 18,
   "id": "8d1fe9a3",
   "metadata": {},
   "outputs": [],
   "source": [
    "lda_model_2 = LinearDiscriminantAnalysis(priors=[0.5,0.5])"
   ]
  },
  {
   "cell_type": "code",
   "execution_count": 19,
   "id": "2f6b936c",
   "metadata": {},
   "outputs": [
    {
     "data": {
      "text/plain": [
       "LinearDiscriminantAnalysis(priors=[0.5, 0.5])"
      ]
     },
     "execution_count": 19,
     "metadata": {},
     "output_type": "execute_result"
    }
   ],
   "source": [
    "lda_model_2.fit(X_train_mat, y_train_vec)"
   ]
  },
  {
   "cell_type": "code",
   "execution_count": 20,
   "id": "e44bdbf1",
   "metadata": {},
   "outputs": [],
   "source": [
    "y_hat_model_2 = lda_model_2.predict(X_test_mat)"
   ]
  },
  {
   "cell_type": "code",
   "execution_count": 21,
   "id": "7bf144e4",
   "metadata": {},
   "outputs": [
    {
     "data": {
      "text/plain": [
       "array([0, 0, 1, ..., 0, 0, 1])"
      ]
     },
     "execution_count": 21,
     "metadata": {},
     "output_type": "execute_result"
    }
   ],
   "source": [
    "y_hat_model_2"
   ]
  },
  {
   "cell_type": "code",
   "execution_count": 22,
   "id": "f0e5c79f",
   "metadata": {},
   "outputs": [
    {
     "name": "stdout",
     "output_type": "stream",
     "text": [
      "              precision    recall  f1-score   support\n",
      "\n",
      "           0       1.00      0.84      0.91      3167\n",
      "           1       0.19      0.90      0.31       133\n",
      "\n",
      "    accuracy                           0.84      3300\n",
      "   macro avg       0.59      0.87      0.61      3300\n",
      "weighted avg       0.96      0.84      0.89      3300\n",
      "\n"
     ]
    }
   ],
   "source": [
    "print(classification_report(y_test_vec, y_hat_model_2))"
   ]
  },
  {
   "cell_type": "markdown",
   "id": "6e04de87",
   "metadata": {},
   "source": [
    "#### En la clase 1 aumento el recall y disminuyo la precision, lo que significa que el algoritmo esta prediciendo solo una clase y no la otra, por lo que encuentra a la mayoria de los datos de la clase 1, pero no acierta en la predicción."
   ]
  },
  {
   "cell_type": "markdown",
   "id": "3f830fb6",
   "metadata": {},
   "source": [
    "#### Priori 60/40"
   ]
  },
  {
   "cell_type": "code",
   "execution_count": 23,
   "id": "a35a77f2",
   "metadata": {},
   "outputs": [],
   "source": [
    "lda_model_3 = LinearDiscriminantAnalysis(priors=[0.4,0.6])"
   ]
  },
  {
   "cell_type": "code",
   "execution_count": 24,
   "id": "fdcd03af",
   "metadata": {},
   "outputs": [
    {
     "data": {
      "text/plain": [
       "LinearDiscriminantAnalysis(priors=[0.4, 0.6])"
      ]
     },
     "execution_count": 24,
     "metadata": {},
     "output_type": "execute_result"
    }
   ],
   "source": [
    "lda_model_3.fit(X_train_mat, y_train_vec)"
   ]
  },
  {
   "cell_type": "code",
   "execution_count": 25,
   "id": "c1ff0b46",
   "metadata": {},
   "outputs": [],
   "source": [
    "y_hat_model_3 = lda_model_3.predict(X_test_mat)"
   ]
  },
  {
   "cell_type": "code",
   "execution_count": 26,
   "id": "c5ed3bc3",
   "metadata": {},
   "outputs": [
    {
     "name": "stdout",
     "output_type": "stream",
     "text": [
      "              precision    recall  f1-score   support\n",
      "\n",
      "           0       1.00      0.79      0.88      3167\n",
      "           1       0.15      0.92      0.26       133\n",
      "\n",
      "    accuracy                           0.79      3300\n",
      "   macro avg       0.57      0.85      0.57      3300\n",
      "weighted avg       0.96      0.79      0.85      3300\n",
      "\n"
     ]
    }
   ],
   "source": [
    "print(classification_report(y_test_vec, y_hat_model_3))"
   ]
  },
  {
   "cell_type": "markdown",
   "id": "86b52276",
   "metadata": {},
   "source": [
    "#### Se repite lo mismo que en el caso anterior, el modelo sigue prediciendo la clase 0."
   ]
  },
  {
   "cell_type": "markdown",
   "id": "a9d367f6",
   "metadata": {},
   "source": [
    "### Ejercicio 4: Refactorización 2 - oversampling"
   ]
  },
  {
   "cell_type": "code",
   "execution_count": 27,
   "id": "b63de108",
   "metadata": {},
   "outputs": [],
   "source": [
    "oversampler = SMOTE(random_state=13545, sampling_strategy='minority')\n",
    "X_train_oversamp, y_train_oversamp = oversampler.fit_resample(X_train_mat,y_train_vec)"
   ]
  },
  {
   "cell_type": "code",
   "execution_count": 28,
   "id": "6ef1575e",
   "metadata": {},
   "outputs": [],
   "source": [
    "lda_model_os =  LinearDiscriminantAnalysis()"
   ]
  },
  {
   "cell_type": "code",
   "execution_count": 29,
   "id": "3b1a23b4",
   "metadata": {},
   "outputs": [
    {
     "data": {
      "text/plain": [
       "LinearDiscriminantAnalysis()"
      ]
     },
     "execution_count": 29,
     "metadata": {},
     "output_type": "execute_result"
    }
   ],
   "source": [
    "lda_model_os.fit(X_train_oversamp, y_train_oversamp)"
   ]
  },
  {
   "cell_type": "code",
   "execution_count": 30,
   "id": "26749981",
   "metadata": {},
   "outputs": [],
   "source": [
    "y_hat_model_os = lda_model_os.predict(X_test_mat)"
   ]
  },
  {
   "cell_type": "code",
   "execution_count": 31,
   "id": "0adebcd7",
   "metadata": {},
   "outputs": [
    {
     "name": "stdout",
     "output_type": "stream",
     "text": [
      "              precision    recall  f1-score   support\n",
      "\n",
      "           0       0.99      0.84      0.91      3167\n",
      "           1       0.19      0.89      0.31       133\n",
      "\n",
      "    accuracy                           0.84      3300\n",
      "   macro avg       0.59      0.87      0.61      3300\n",
      "weighted avg       0.96      0.84      0.89      3300\n",
      "\n"
     ]
    }
   ],
   "source": [
    "print(classification_report(y_test_vec, y_hat_model_os))"
   ]
  },
  {
   "cell_type": "markdown",
   "id": "5923561b",
   "metadata": {},
   "source": [
    "#### No se observan mejoras comparado con los modelos anteriores."
   ]
  },
  {
   "cell_type": "code",
   "execution_count": 32,
   "id": "3bc282e1",
   "metadata": {},
   "outputs": [
    {
     "data": {
      "text/html": [
       "<div>\n",
       "<style scoped>\n",
       "    .dataframe tbody tr th:only-of-type {\n",
       "        vertical-align: middle;\n",
       "    }\n",
       "\n",
       "    .dataframe tbody tr th {\n",
       "        vertical-align: top;\n",
       "    }\n",
       "\n",
       "    .dataframe thead th {\n",
       "        text-align: right;\n",
       "    }\n",
       "</style>\n",
       "<table border=\"1\" class=\"dataframe\">\n",
       "  <thead>\n",
       "    <tr style=\"text-align: right;\">\n",
       "      <th></th>\n",
       "      <th>student</th>\n",
       "      <th>balance</th>\n",
       "      <th>income</th>\n",
       "    </tr>\n",
       "  </thead>\n",
       "  <tbody>\n",
       "    <tr>\n",
       "      <th>7543</th>\n",
       "      <td>1</td>\n",
       "      <td>753.383574</td>\n",
       "      <td>12258.604512</td>\n",
       "    </tr>\n",
       "    <tr>\n",
       "      <th>7216</th>\n",
       "      <td>1</td>\n",
       "      <td>649.530745</td>\n",
       "      <td>13408.662947</td>\n",
       "    </tr>\n",
       "    <tr>\n",
       "      <th>2714</th>\n",
       "      <td>0</td>\n",
       "      <td>0.000000</td>\n",
       "      <td>62886.709228</td>\n",
       "    </tr>\n",
       "    <tr>\n",
       "      <th>9575</th>\n",
       "      <td>0</td>\n",
       "      <td>808.494794</td>\n",
       "      <td>56204.663014</td>\n",
       "    </tr>\n",
       "    <tr>\n",
       "      <th>721</th>\n",
       "      <td>1</td>\n",
       "      <td>436.008314</td>\n",
       "      <td>17504.447773</td>\n",
       "    </tr>\n",
       "    <tr>\n",
       "      <th>...</th>\n",
       "      <td>...</td>\n",
       "      <td>...</td>\n",
       "      <td>...</td>\n",
       "    </tr>\n",
       "    <tr>\n",
       "      <th>8425</th>\n",
       "      <td>0</td>\n",
       "      <td>953.391789</td>\n",
       "      <td>20749.338159</td>\n",
       "    </tr>\n",
       "    <tr>\n",
       "      <th>6349</th>\n",
       "      <td>1</td>\n",
       "      <td>385.430994</td>\n",
       "      <td>21619.663412</td>\n",
       "    </tr>\n",
       "    <tr>\n",
       "      <th>4019</th>\n",
       "      <td>1</td>\n",
       "      <td>1215.383610</td>\n",
       "      <td>15994.041024</td>\n",
       "    </tr>\n",
       "    <tr>\n",
       "      <th>3405</th>\n",
       "      <td>0</td>\n",
       "      <td>696.510067</td>\n",
       "      <td>28610.194659</td>\n",
       "    </tr>\n",
       "    <tr>\n",
       "      <th>601</th>\n",
       "      <td>1</td>\n",
       "      <td>792.529238</td>\n",
       "      <td>14546.301768</td>\n",
       "    </tr>\n",
       "  </tbody>\n",
       "</table>\n",
       "<p>6700 rows × 3 columns</p>\n",
       "</div>"
      ],
      "text/plain": [
       "      student      balance        income\n",
       "7543        1   753.383574  12258.604512\n",
       "7216        1   649.530745  13408.662947\n",
       "2714        0     0.000000  62886.709228\n",
       "9575        0   808.494794  56204.663014\n",
       "721         1   436.008314  17504.447773\n",
       "...       ...          ...           ...\n",
       "8425        0   953.391789  20749.338159\n",
       "6349        1   385.430994  21619.663412\n",
       "4019        1  1215.383610  15994.041024\n",
       "3405        0   696.510067  28610.194659\n",
       "601         1   792.529238  14546.301768\n",
       "\n",
       "[6700 rows x 3 columns]"
      ]
     },
     "execution_count": 32,
     "metadata": {},
     "output_type": "execute_result"
    }
   ],
   "source": [
    "X_train_mat"
   ]
  },
  {
   "cell_type": "markdown",
   "id": "f507786b",
   "metadata": {},
   "source": [
    "### Ejercicio 5: Refactorización 3 - QDA"
   ]
  },
  {
   "cell_type": "code",
   "execution_count": 33,
   "id": "5e72f7f5",
   "metadata": {},
   "outputs": [],
   "source": [
    "qda_model = QuadraticDiscriminantAnalysis().fit(X_train_oversamp, y_train_oversamp)"
   ]
  },
  {
   "cell_type": "code",
   "execution_count": 34,
   "id": "b6fe9c56",
   "metadata": {},
   "outputs": [],
   "source": [
    "y_hat_qda = qda_model.predict(X_test_mat)"
   ]
  },
  {
   "cell_type": "code",
   "execution_count": 35,
   "id": "55ffef59",
   "metadata": {},
   "outputs": [
    {
     "name": "stdout",
     "output_type": "stream",
     "text": [
      "              precision    recall  f1-score   support\n",
      "\n",
      "           0       0.99      0.87      0.93      3167\n",
      "           1       0.22      0.87      0.35       133\n",
      "\n",
      "    accuracy                           0.87      3300\n",
      "   macro avg       0.61      0.87      0.64      3300\n",
      "weighted avg       0.96      0.87      0.90      3300\n",
      "\n"
     ]
    }
   ],
   "source": [
    "print(classification_report(y_test_vec, y_hat_qda))"
   ]
  },
  {
   "cell_type": "code",
   "execution_count": 36,
   "id": "87094873",
   "metadata": {},
   "outputs": [
    {
     "data": {
      "text/plain": [
       "array([[0.83515152, 0.12454545],\n",
       "       [0.00515152, 0.03515152]])"
      ]
     },
     "execution_count": 36,
     "metadata": {},
     "output_type": "execute_result"
    }
   ],
   "source": [
    "confusion_matrix(y_test_vec, y_hat_qda)/len(y_test_vec)"
   ]
  },
  {
   "cell_type": "markdown",
   "id": "0ef09b62",
   "metadata": {},
   "source": [
    "#### No se observan cambios con respecto a los modelos anteriores, el modelo sigue desvalanceado, pese a utilizar oversampling, el modelo continua prediciendo solo la clase con mayor frecuencia (Clase 0)."
   ]
  },
  {
   "cell_type": "markdown",
   "id": "9ca47211",
   "metadata": {},
   "source": [
    "#### Entre todos los modelos realizados, el que tiene un mejor desempeño es el ultimo, ya que se logra identificar a una gran parte de los atributos perteneciente a la clase 1(87%), y el modelo acierta en un 22% en su predicción. \n",
    "#### Con respecto a la clase 0 en este ultimo modelo, se aumento el valor de recall, lo que significa que el modelo es capaz de identificar más caracteristicas de esta clase. \n"
   ]
  },
  {
   "cell_type": "code",
   "execution_count": null,
   "id": "9c627347",
   "metadata": {},
   "outputs": [],
   "source": []
  }
 ],
 "metadata": {
  "kernelspec": {
   "display_name": "Python 3 (ipykernel)",
   "language": "python",
   "name": "python3"
  },
  "language_info": {
   "codemirror_mode": {
    "name": "ipython",
    "version": 3
   },
   "file_extension": ".py",
   "mimetype": "text/x-python",
   "name": "python",
   "nbconvert_exporter": "python",
   "pygments_lexer": "ipython3",
   "version": "3.8.8"
  }
 },
 "nbformat": 4,
 "nbformat_minor": 5
}
