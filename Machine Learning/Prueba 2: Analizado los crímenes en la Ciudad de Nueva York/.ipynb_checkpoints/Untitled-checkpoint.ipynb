{
 "cells": [
  {
   "cell_type": "code",
   "execution_count": 1,
   "id": "55cb01bf",
   "metadata": {},
   "outputs": [],
   "source": [
    "import warnings\n",
    "warnings.filterwarnings(\"ignore\")\n",
    "import pandas as pd\n",
    "import numpy as np\n",
    "import func as fn\n",
    "import matplotlib.pyplot as plt\n",
    "import seaborn as sns\n",
    "import missingno as msngo"
   ]
  },
  {
   "cell_type": "code",
   "execution_count": 2,
   "id": "e74b0e88",
   "metadata": {},
   "outputs": [],
   "source": [
    "df_test = pd.read_csv('2010_1perc.csv').drop('Unnamed: 0', axis=1)"
   ]
  },
  {
   "cell_type": "code",
   "execution_count": 3,
   "id": "3810196a",
   "metadata": {},
   "outputs": [],
   "source": [
    "df = pd.read_csv('2009_1perc.csv').drop('Unnamed: 0', axis=1)"
   ]
  },
  {
   "cell_type": "code",
   "execution_count": 4,
   "id": "8666103a",
   "metadata": {},
   "outputs": [],
   "source": [
    "def ver_datos_perdidos(df):\n",
    "    for cols in df.columns:\n",
    "        df[cols]=np.where(df[cols]==' ', np.nan, df[cols])\n",
    "    return df"
   ]
  },
  {
   "cell_type": "code",
   "execution_count": 5,
   "id": "d35ea7a2",
   "metadata": {},
   "outputs": [],
   "source": [
    "df = ver_datos_perdidos(df)"
   ]
  },
  {
   "cell_type": "code",
   "execution_count": 6,
   "id": "e6d696b3",
   "metadata": {},
   "outputs": [],
   "source": [
    "df=df.drop(['zip','state','city', 'crossst', 'premname','aptnum', 'rescode', 'build', 'premtype', 'othfeatr',\n",
    "           'officrid', 'sumoffen','post','beat', 'comppct'], axis=1)"
   ]
  },
  {
   "cell_type": "code",
   "execution_count": 7,
   "id": "ba87ab71",
   "metadata": {},
   "outputs": [],
   "source": [
    "df=df.drop(['offverb', 'offshld','addrnum', 'detailcm','frisked', 'searched', 'contrabn', 'adtlrept',\n",
    "           'pistol', 'riflshot', 'asltweap', 'knifcuti', 'machgun', 'othrweap', 'offshld','arstoffn','compyear',\n",
    "           'contrabn', 'year', 'linecm','addrtyp', 'crimsusp'], axis=1)"
   ]
  },
  {
   "cell_type": "code",
   "execution_count": 8,
   "id": "e926c4e9",
   "metadata": {},
   "outputs": [],
   "source": [
    "df['stname'] = np.where(df['stname'].isna(), 'no registration', df['stname'])"
   ]
  },
  {
   "cell_type": "code",
   "execution_count": 9,
   "id": "878a99f4",
   "metadata": {},
   "outputs": [],
   "source": [
    "df['xcoord'] = df['xcoord'].astype('float64')\n",
    "df['ycoord'] = df['ycoord'].astype('float64')"
   ]
  },
  {
   "cell_type": "code",
   "execution_count": 10,
   "id": "e172267f",
   "metadata": {},
   "outputs": [],
   "source": [
    "df=df.dropna()"
   ]
  },
  {
   "cell_type": "code",
   "execution_count": 11,
   "id": "9b32bde8",
   "metadata": {},
   "outputs": [],
   "source": [
    "df['arstmade'] = np.where(df['arstmade']=='Y', 1,0)"
   ]
  },
  {
   "cell_type": "code",
   "execution_count": 12,
   "id": "2628034d",
   "metadata": {},
   "outputs": [],
   "source": [
    "df_test = ver_datos_perdidos(df_test)"
   ]
  },
  {
   "cell_type": "code",
   "execution_count": 13,
   "id": "b8b75be8",
   "metadata": {},
   "outputs": [],
   "source": [
    "df_test=df_test.drop(['zip','state','city', 'crossst', 'premname','aptnum', 'rescode', 'build', 'premtype', 'othfeatr',\n",
    "           'officrid', 'sumoffen','post','beat', 'comppct','offverb', 'offshld','addrnum', 'detailcm','frisked', 'searched', 'contrabn', 'adtlrept',\n",
    "           'pistol', 'riflshot', 'asltweap', 'knifcuti', 'machgun', 'othrweap', 'offshld','arstoffn','compyear',\n",
    "           'contrabn', 'year', 'linecm', 'addrtyp', 'crimsusp'], axis=1)\n",
    "\n",
    "df_test['stname'] = np.where(df_test['stname'].isna(), 'no registration', df_test['stname'])\n",
    "df_test['xcoord'] = df_test['xcoord'].astype('float64')\n",
    "df_test['ycoord'] = df_test['ycoord'].astype('float64')\n",
    "df_test['addrpct'] = df_test['addrpct'].astype('float64')"
   ]
  },
  {
   "cell_type": "code",
   "execution_count": 14,
   "id": "7c39afd4",
   "metadata": {},
   "outputs": [],
   "source": [
    "df_test = df_test.dropna()"
   ]
  },
  {
   "cell_type": "code",
   "execution_count": 17,
   "id": "bfc8bd0c",
   "metadata": {},
   "outputs": [
    {
     "data": {
      "text/plain": [
       "(5697, 76)"
      ]
     },
     "execution_count": 17,
     "metadata": {},
     "output_type": "execute_result"
    }
   ],
   "source": [
    "df_test.shape"
   ]
  },
  {
   "cell_type": "code",
   "execution_count": 18,
   "id": "30a9ca98",
   "metadata": {},
   "outputs": [
    {
     "data": {
      "text/plain": [
       "(5393, 76)"
      ]
     },
     "execution_count": 18,
     "metadata": {},
     "output_type": "execute_result"
    }
   ],
   "source": [
    "df.shape"
   ]
  },
  {
   "cell_type": "code",
   "execution_count": 19,
   "id": "833f4ef1",
   "metadata": {},
   "outputs": [
    {
     "data": {
      "text/plain": [
       "0            WEST 14 STREET\n",
       "1        SOUTHERN BOULEVARD\n",
       "2                  BROADWAY\n",
       "3                 37 AVENUE\n",
       "4            WEST 34 STREET\n",
       "               ...         \n",
       "6008               AVENUE X\n",
       "6009    PENNSYLVANIA AVENUE\n",
       "6010           ARDEN AVENUE\n",
       "6011     NORTHERN BOULEVARD\n",
       "6012               8 AVENUE\n",
       "Name: stinter, Length: 5697, dtype: object"
      ]
     },
     "execution_count": 19,
     "metadata": {},
     "output_type": "execute_result"
    }
   ],
   "source": [
    "df_test['stinter']"
   ]
  },
  {
   "cell_type": "code",
   "execution_count": 20,
   "id": "d8f3d1dc",
   "metadata": {},
   "outputs": [
    {
     "data": {
      "text/plain": [
       "0       WESTCHESTER AVENUE\n",
       "1                63 STREET\n",
       "2            WATSON AVENUE\n",
       "3            LINCOLN PLACE\n",
       "4                53 AVENUE\n",
       "               ...        \n",
       "5807          HEATH AVENUE\n",
       "5808         VERNON AVENUE\n",
       "5809      FLATLANDS AVENUE\n",
       "5810       COLUMBIA STREET\n",
       "5811             10 AVENUE\n",
       "Name: stinter, Length: 5393, dtype: object"
      ]
     },
     "execution_count": 20,
     "metadata": {},
     "output_type": "execute_result"
    }
   ],
   "source": [
    "df['stinter'].value_counts()"
   ]
  },
  {
   "cell_type": "code",
   "execution_count": 22,
   "id": "ba752de6",
   "metadata": {},
   "outputs": [],
   "source": [
    "from sklearn.preprocessing import OneHotEncoder"
   ]
  },
  {
   "cell_type": "code",
   "execution_count": 23,
   "id": "19c9cf1b",
   "metadata": {},
   "outputs": [],
   "source": [
    "enc=preprocessing.OneHotEncoder()"
   ]
  },
  {
   "cell_type": "code",
   "execution_count": 24,
   "id": "38c64f62",
   "metadata": {},
   "outputs": [
    {
     "data": {
      "text/plain": [
       "OneHotEncoder()"
      ]
     },
     "execution_count": 24,
     "metadata": {},
     "output_type": "execute_result"
    }
   ],
   "source": [
    "enc.fit(df)"
   ]
  },
  {
   "cell_type": "code",
   "execution_count": 31,
   "id": "43305171",
   "metadata": {},
   "outputs": [],
   "source": [
    "onehot = enc.transform(df)"
   ]
  },
  {
   "cell_type": "code",
   "execution_count": 32,
   "id": "6e5a0365",
   "metadata": {},
   "outputs": [
    {
     "data": {
      "text/plain": [
       "<5393x21583 sparse matrix of type '<class 'numpy.float64'>'\n",
       "\twith 409868 stored elements in Compressed Sparse Row format>"
      ]
     },
     "execution_count": 32,
     "metadata": {},
     "output_type": "execute_result"
    }
   ],
   "source": [
    "onehot"
   ]
  },
  {
   "cell_type": "code",
   "execution_count": 33,
   "id": "43250616",
   "metadata": {},
   "outputs": [
    {
     "data": {
      "text/plain": [
       "OneHotEncoder()"
      ]
     },
     "execution_count": 33,
     "metadata": {},
     "output_type": "execute_result"
    }
   ],
   "source": [
    "enc"
   ]
  },
  {
   "cell_type": "code",
   "execution_count": null,
   "id": "9fbfd552",
   "metadata": {},
   "outputs": [],
   "source": []
  }
 ],
 "metadata": {
  "kernelspec": {
   "display_name": "Python 3 (ipykernel)",
   "language": "python",
   "name": "python3"
  },
  "language_info": {
   "codemirror_mode": {
    "name": "ipython",
    "version": 3
   },
   "file_extension": ".py",
   "mimetype": "text/x-python",
   "name": "python",
   "nbconvert_exporter": "python",
   "pygments_lexer": "ipython3",
   "version": "3.8.8"
  }
 },
 "nbformat": 4,
 "nbformat_minor": 5
}
