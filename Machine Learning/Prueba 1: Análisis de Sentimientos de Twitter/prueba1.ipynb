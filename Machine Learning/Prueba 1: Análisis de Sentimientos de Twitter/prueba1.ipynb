{
 "cells": [
  {
   "cell_type": "markdown",
   "id": "b084e0e6",
   "metadata": {},
   "source": [
    "# Prueba 1: Análisis de Sentimientos de Twitter (Sebastián Rebolledo)"
   ]
  },
  {
   "cell_type": "markdown",
   "id": "7cf657d5",
   "metadata": {},
   "source": [
    "## Hito 1: Aspectos Computacionales"
   ]
  },
  {
   "cell_type": "markdown",
   "id": "ad68e3cc",
   "metadata": {},
   "source": [
    "### Preliminares"
   ]
  },
  {
   "cell_type": "markdown",
   "id": "df12190b",
   "metadata": {},
   "source": [
    "#### En el siguiente ejercicio se realizará la clasificación de Tweet en positivos o negativos en funcion de los sentimientos que expresa. Para ello se implementarán distintos modelos de clasificación y se evaluara su desempeño."
   ]
  },
  {
   "cell_type": "markdown",
   "id": "8704c003",
   "metadata": {},
   "source": [
    "- Las metricas que se utilizarán para medir el desempeño de los modelos serán Accuracy, precision y Recall. \n",
    "- Se realizará primeramente el preprocesamiento de las variables del vector sentiment, quedando esta variable con 0 y 1, donde 0 serán tweets con sentimientos negativos y 1 tweets con sentimientos positivos.\n",
    "- Luego se realizará un preprocesamiento de palabras en el atributo 'content' utilizando CountVectorizarer."
   ]
  },
  {
   "cell_type": "markdown",
   "id": "8a57a035",
   "metadata": {},
   "source": [
    "### Modelos a implementar"
   ]
  },
  {
   "cell_type": "markdown",
   "id": "492da774",
   "metadata": {},
   "source": [
    "- Regresion logistica.\n",
    "\n",
    "- LinearDiscriminantAnalysis.\n",
    "\n",
    "- Árbol de clasificación, en donde se implementara una grilla para buscar los mejores hiperparametros. A continuacion grilla tentativa.\n",
    "    - params = {'max_depth':[10,30,50,70], }\n",
    "    \n",
    "- GradientBoostingClasifiers : Se implementara una grilla para buscar los mejores hiperparametros. A continuacion grilla tentativa.\n",
    "    - params = {'learning_rate': [0.01, 0.1, 0.5],'n_estimators': [50, 100, 500, 1000, 2000], 'subsample': [0.1,0.5,0.9]}.\n",
    "                   \n",
    "- AdaBoostClassifier: Se implementara una grilla para buscar los mejores hiperparametros. A continuacion grilla tentativa.\n",
    "     - params = {'learning_rate': [0.01, 0.1, 0.5], 'n_estimators': [50, 100, 500, 1000, 2000]}"
   ]
  },
  {
   "cell_type": "code",
   "execution_count": 1,
   "id": "4fdc81f7",
   "metadata": {},
   "outputs": [
    {
     "ename": "NameError",
     "evalue": "name 'nltk' is not defined",
     "output_type": "error",
     "traceback": [
      "\u001b[0;31m---------------------------------------------------------------------------\u001b[0m",
      "\u001b[0;31mNameError\u001b[0m                                 Traceback (most recent call last)",
      "Input \u001b[0;32mIn [1]\u001b[0m, in \u001b[0;36m<cell line: 5>\u001b[0;34m()\u001b[0m\n\u001b[1;32m      3\u001b[0m \u001b[38;5;28;01mimport\u001b[39;00m \u001b[38;5;21;01mmatplotlib\u001b[39;00m\u001b[38;5;21;01m.\u001b[39;00m\u001b[38;5;21;01mpyplot\u001b[39;00m \u001b[38;5;28;01mas\u001b[39;00m \u001b[38;5;21;01mplt\u001b[39;00m\n\u001b[1;32m      4\u001b[0m \u001b[38;5;28;01mimport\u001b[39;00m \u001b[38;5;21;01mseaborn\u001b[39;00m \u001b[38;5;28;01mas\u001b[39;00m \u001b[38;5;21;01msns\u001b[39;00m\n\u001b[0;32m----> 5\u001b[0m \u001b[38;5;28;01mimport\u001b[39;00m \u001b[38;5;21;01mmi_modulo\u001b[39;00m \u001b[38;5;28;01mas\u001b[39;00m \u001b[38;5;21;01mfn\u001b[39;00m\n\u001b[1;32m      6\u001b[0m \u001b[38;5;28;01mimport\u001b[39;00m \u001b[38;5;21;01mre\u001b[39;00m\n\u001b[1;32m      7\u001b[0m \u001b[38;5;28;01mfrom\u001b[39;00m \u001b[38;5;21;01msklearn\u001b[39;00m\u001b[38;5;21;01m.\u001b[39;00m\u001b[38;5;21;01mfeature_extraction\u001b[39;00m\u001b[38;5;21;01m.\u001b[39;00m\u001b[38;5;21;01mtext\u001b[39;00m \u001b[38;5;28;01mimport\u001b[39;00m CountVectorizer\n",
      "File \u001b[0;32m~/Documentos/Desafio latam/Machine Learning/Prueba 1: Análisis de Sentimientos de Twitter/mi_modulo.py:42\u001b[0m, in \u001b[0;36m<module>\u001b[0;34m\u001b[0m\n\u001b[1;32m     39\u001b[0m \u001b[38;5;28;01mdef\u001b[39;00m \u001b[38;5;21mconvertir_a_str\u001b[39m(lista_tokens):\n\u001b[1;32m     40\u001b[0m     \u001b[38;5;28;01mreturn\u001b[39;00m \u001b[38;5;124m'\u001b[39m\u001b[38;5;124m \u001b[39m\u001b[38;5;124m'\u001b[39m\u001b[38;5;241m.\u001b[39mjoin(lista_tokens)\n\u001b[0;32m---> 42\u001b[0m stop_words \u001b[38;5;241m=\u001b[39m \u001b[38;5;28mset\u001b[39m(\u001b[43mnltk\u001b[49m\u001b[38;5;241m.\u001b[39mcorpus\u001b[38;5;241m.\u001b[39mstopwords\u001b[38;5;241m.\u001b[39mwords(\u001b[38;5;124m'\u001b[39m\u001b[38;5;124menglish\u001b[39m\u001b[38;5;124m'\u001b[39m))\n\u001b[1;32m     43\u001b[0m \u001b[38;5;28;01mdef\u001b[39;00m \u001b[38;5;21mclean_stopwords\u001b[39m(token):\n\u001b[1;32m     44\u001b[0m     \u001b[38;5;28;01mreturn\u001b[39;00m [item \u001b[38;5;28;01mfor\u001b[39;00m item \u001b[38;5;129;01min\u001b[39;00m token \u001b[38;5;28;01mif\u001b[39;00m item \u001b[38;5;129;01mnot\u001b[39;00m \u001b[38;5;129;01min\u001b[39;00m stop_words]\n",
      "\u001b[0;31mNameError\u001b[0m: name 'nltk' is not defined"
     ]
    }
   ],
   "source": [
    "import pandas as pd\n",
    "import numpy as np\n",
    "import matplotlib.pyplot as plt\n",
    "import seaborn as sns\n",
    "import mi_modulo as fn\n",
    "import re\n",
    "from sklearn.feature_extraction.text import CountVectorizer\n",
    "from sklearn.linear_model import LogisticRegression\n",
    "from sklearn.tree import DecisionTreeRegressor\n",
    "from sklearn.tree import DecisionTreeClassifier\n",
    "from sklearn.ensemble import AdaBoostClassifier\n",
    "from sklearn.ensemble import GradientBoostingClassifier\n",
    "from sklearn.metrics import mean_squared_error, median_absolute_error, r2_score\n",
    "from sklearn.model_selection import train_test_split\n",
    "from sklearn.model_selection import GridSearchCV\n",
    "from sklearn.metrics import classification_report\n",
    "from sklearn.discriminant_analysis import QuadraticDiscriminantAnalysis\n",
    "import nltk\n",
    "from sklearn.feature_extraction.text import TfidfVectorizer\n"
   ]
  },
  {
   "cell_type": "code",
   "execution_count": null,
   "id": "8310b52b",
   "metadata": {},
   "outputs": [],
   "source": [
    "nltk.download('punkt')"
   ]
  },
  {
   "cell_type": "code",
   "execution_count": null,
   "id": "4dd3826b",
   "metadata": {},
   "outputs": [],
   "source": [
    "nltk.download('stopwords')"
   ]
  },
  {
   "cell_type": "code",
   "execution_count": null,
   "id": "62731de5",
   "metadata": {},
   "outputs": [],
   "source": [
    "nltk.download('wordnet')"
   ]
  },
  {
   "cell_type": "code",
   "execution_count": null,
   "id": "2c7a84a1",
   "metadata": {},
   "outputs": [],
   "source": [
    "df = pd.read_csv('training_tweets.csv').drop('Unnamed: 0', axis=1)"
   ]
  },
  {
   "cell_type": "code",
   "execution_count": null,
   "id": "f0a28773",
   "metadata": {},
   "outputs": [],
   "source": [
    "df.info()"
   ]
  },
  {
   "cell_type": "markdown",
   "id": "aed7e746",
   "metadata": {},
   "source": [
    "No se encuentran datos perdidos."
   ]
  },
  {
   "cell_type": "code",
   "execution_count": null,
   "id": "98a5bced",
   "metadata": {},
   "outputs": [],
   "source": [
    "df.sentiment.value_counts()"
   ]
  },
  {
   "cell_type": "markdown",
   "id": "279690fa",
   "metadata": {},
   "source": [
    "A continuacion se recodificara el vector sentiment con un 0 para las emociones negativas y con un 1 para las emociones positivas."
   ]
  },
  {
   "cell_type": "code",
   "execution_count": null,
   "id": "06833bf4",
   "metadata": {},
   "outputs": [],
   "source": [
    "fn.recod_sentiment(df,['worry', 'sadness', 'hate', 'empty', 'boredom', 'anger'], 0)"
   ]
  },
  {
   "cell_type": "code",
   "execution_count": null,
   "id": "ace97c59",
   "metadata": {},
   "outputs": [],
   "source": [
    "fn.recod_sentiment(df,['happiness', 'love', 'surprise', 'fun', 'relief', 'enthusiasm'], 1)"
   ]
  },
  {
   "cell_type": "markdown",
   "id": "46cb2eef",
   "metadata": {},
   "source": [
    "Dentro del atributo sentiment, se encuentran tweets con la denominacion de 'neutral', lo que significa que no esta claro si son atributos positivos o negativos, por cual serán repartidos al azar entre positivos y negativos."
   ]
  },
  {
   "cell_type": "code",
   "execution_count": null,
   "id": "b5747fc3",
   "metadata": {},
   "outputs": [],
   "source": [
    "for index, valor in df[df['sentiment']== 'neutral']['content'].iteritems():\n",
    "    #print(f'{index}-{valor}')\n",
    "    df['sentiment'][index]=len(valor)%2"
   ]
  },
  {
   "cell_type": "code",
   "execution_count": null,
   "id": "b5052c9c",
   "metadata": {},
   "outputs": [],
   "source": [
    "df.sentiment.value_counts()"
   ]
  },
  {
   "cell_type": "code",
   "execution_count": null,
   "id": "33a00858",
   "metadata": {},
   "outputs": [],
   "source": [
    "df['sentiment'] = df['sentiment'].astype('int')"
   ]
  },
  {
   "cell_type": "markdown",
   "id": "23bf4bfd",
   "metadata": {},
   "source": [
    "#### Distribucion del vector objetivo"
   ]
  },
  {
   "cell_type": "code",
   "execution_count": null,
   "id": "7f095e86",
   "metadata": {},
   "outputs": [],
   "source": [
    "sns.countplot(x='sentiment', data=df)\n",
    "plt.title('Comportamiento del atributo sentiment')\n",
    "plt.show()"
   ]
  },
  {
   "cell_type": "markdown",
   "id": "ed358271",
   "metadata": {},
   "source": [
    "Se observa que hay una distribución de valores similar entre ambas clases."
   ]
  },
  {
   "cell_type": "code",
   "execution_count": null,
   "id": "076a0762",
   "metadata": {},
   "outputs": [],
   "source": [
    "df"
   ]
  },
  {
   "cell_type": "markdown",
   "id": "049a2f7a",
   "metadata": {},
   "source": [
    "### Lowercase"
   ]
  },
  {
   "cell_type": "code",
   "execution_count": null,
   "id": "b22ae7af",
   "metadata": {},
   "outputs": [],
   "source": [
    "df.content = df.content.str.lower()"
   ]
  },
  {
   "cell_type": "code",
   "execution_count": null,
   "id": "7762d22c",
   "metadata": {},
   "outputs": [],
   "source": [
    "df.content "
   ]
  },
  {
   "cell_type": "markdown",
   "id": "a0e0d03e",
   "metadata": {},
   "source": [
    "### Removiendo caracteres"
   ]
  },
  {
   "cell_type": "code",
   "execution_count": null,
   "id": "2d30e42f",
   "metadata": {},
   "outputs": [],
   "source": [
    "for index, row in df.iterrows():\n",
    "    df['content'][index]= re.sub(r\"(@[A-Za-z0-9]+)\",\"\", row['content'])"
   ]
  },
  {
   "cell_type": "code",
   "execution_count": null,
   "id": "6f6f971c",
   "metadata": {},
   "outputs": [],
   "source": [
    "for index, row in df.iterrows():\n",
    "    df['content'][index]= re.sub(\"[^a-zA-Z]\",\" \", row['content'])"
   ]
  },
  {
   "cell_type": "code",
   "execution_count": null,
   "id": "18efb241",
   "metadata": {},
   "outputs": [],
   "source": [
    "df.content"
   ]
  },
  {
   "cell_type": "code",
   "execution_count": null,
   "id": "8c6d0fd2",
   "metadata": {},
   "outputs": [],
   "source": [
    "df.content[1]"
   ]
  },
  {
   "cell_type": "markdown",
   "id": "4aa19ea4",
   "metadata": {},
   "source": [
    "### Tokenización"
   ]
  },
  {
   "cell_type": "code",
   "execution_count": null,
   "id": "7e9c496b",
   "metadata": {},
   "outputs": [],
   "source": [
    "for index, row in df.iterrows():\n",
    "    df['content'][index]= nltk.tokenize.word_tokenize(df['content'][index])"
   ]
  },
  {
   "cell_type": "code",
   "execution_count": null,
   "id": "75d93f8c",
   "metadata": {},
   "outputs": [],
   "source": [
    "df.content"
   ]
  },
  {
   "cell_type": "markdown",
   "id": "d042138c",
   "metadata": {},
   "source": [
    "### Stopwords"
   ]
  },
  {
   "cell_type": "code",
   "execution_count": null,
   "id": "579568ef",
   "metadata": {},
   "outputs": [],
   "source": [
    "stop_words = set(nltk.corpus.stopwords.words('english'))\n",
    "def clean_stopwords(token):\n",
    "    return [item for item in token if item not in stop_words]"
   ]
  },
  {
   "cell_type": "code",
   "execution_count": null,
   "id": "81083dba",
   "metadata": {},
   "outputs": [],
   "source": [
    "df['content'] = df['content'].apply(clean_stopwords)"
   ]
  },
  {
   "cell_type": "code",
   "execution_count": null,
   "id": "a232fc1b",
   "metadata": {},
   "outputs": [],
   "source": [
    "df['content']"
   ]
  },
  {
   "cell_type": "markdown",
   "id": "2fc0790e",
   "metadata": {},
   "source": [
    "### Lemmatization"
   ]
  },
  {
   "cell_type": "code",
   "execution_count": null,
   "id": "50d90a94",
   "metadata": {},
   "outputs": [],
   "source": [
    "lemma = nltk.stem.WordNetLemmatizer()\n",
    "def clean_lemmatization(token):\n",
    "    return [lemma.lemmatize(word=w, pos='v') for w in token]"
   ]
  },
  {
   "cell_type": "code",
   "execution_count": null,
   "id": "27ce9b7f",
   "metadata": {},
   "outputs": [],
   "source": [
    "df['content'] = df['content'].apply(clean_lemmatization)"
   ]
  },
  {
   "cell_type": "code",
   "execution_count": null,
   "id": "880866f5",
   "metadata": {},
   "outputs": [],
   "source": [
    "df['content']"
   ]
  },
  {
   "cell_type": "code",
   "execution_count": null,
   "id": "97fcfbaf",
   "metadata": {},
   "outputs": [],
   "source": [
    "def convertir_a_str(lista_tokens):\n",
    "    return ' '.join(lista_tokens)"
   ]
  },
  {
   "cell_type": "code",
   "execution_count": null,
   "id": "699c6506",
   "metadata": {},
   "outputs": [],
   "source": [
    "df['content'] = df['content'].apply(convertir_a_str)"
   ]
  },
  {
   "cell_type": "code",
   "execution_count": null,
   "id": "16b776db",
   "metadata": {},
   "outputs": [],
   "source": [
    "df"
   ]
  },
  {
   "cell_type": "code",
   "execution_count": null,
   "id": "099bf734",
   "metadata": {},
   "outputs": [],
   "source": [
    "sentiment_1 = df[df['sentiment']==1]['content']"
   ]
  },
  {
   "cell_type": "code",
   "execution_count": null,
   "id": "5d671281",
   "metadata": {},
   "outputs": [],
   "source": [
    "sentiment_2 = df[df['sentiment']==2]['content']"
   ]
  },
  {
   "cell_type": "markdown",
   "id": "6a1d0e07",
   "metadata": {},
   "source": [
    "### Conjunto de prueba y validación"
   ]
  },
  {
   "cell_type": "code",
   "execution_count": null,
   "id": "596ddb82",
   "metadata": {},
   "outputs": [],
   "source": [
    "X=df['content']\n",
    "y=df['sentiment']\n",
    "X_train, X_test, y_train, y_test = train_test_split(X, y,test_size=.30, random_state=13213)"
   ]
  },
  {
   "cell_type": "markdown",
   "id": "0b44bf5c",
   "metadata": {},
   "source": [
    "### Vectorizar"
   ]
  },
  {
   "cell_type": "code",
   "execution_count": null,
   "id": "c8f35e91",
   "metadata": {},
   "outputs": [],
   "source": [
    "vectorizer = TfidfVectorizer()"
   ]
  },
  {
   "cell_type": "code",
   "execution_count": null,
   "id": "7d85eeab",
   "metadata": {},
   "outputs": [],
   "source": [
    "vectorizer.fit(X_train)"
   ]
  },
  {
   "cell_type": "code",
   "execution_count": null,
   "id": "762c4489",
   "metadata": {},
   "outputs": [],
   "source": [
    "tfi_train = vectorizer.transform(X_train)"
   ]
  },
  {
   "cell_type": "code",
   "execution_count": null,
   "id": "445fc99f",
   "metadata": {},
   "outputs": [],
   "source": [
    "tfi_test = vectorizer.transform(X_test)"
   ]
  },
  {
   "cell_type": "markdown",
   "id": "f4794e7c",
   "metadata": {},
   "source": [
    "#### Regresion Logistica"
   ]
  },
  {
   "cell_type": "code",
   "execution_count": null,
   "id": "5baa0e31",
   "metadata": {},
   "outputs": [],
   "source": [
    "lr = LogisticRegression()"
   ]
  },
  {
   "cell_type": "code",
   "execution_count": null,
   "id": "f20feee1",
   "metadata": {},
   "outputs": [],
   "source": [
    "lr.fit(tfi_train, y_train)"
   ]
  },
  {
   "cell_type": "code",
   "execution_count": null,
   "id": "2527afc2",
   "metadata": {},
   "outputs": [],
   "source": [
    "y_hat_lr = lr.predict(tfi_test)"
   ]
  },
  {
   "cell_type": "code",
   "execution_count": null,
   "id": "064e1527",
   "metadata": {},
   "outputs": [],
   "source": [
    "print(classification_report(y_test, y_hat_lr))"
   ]
  },
  {
   "cell_type": "markdown",
   "id": "96660107",
   "metadata": {},
   "source": [
    "Se observa que las clases estan bien distribuidas, que el valor de precision de ambas clases es el mismo, variando solamente en el recall, donde es mayor para la clase 0."
   ]
  },
  {
   "cell_type": "markdown",
   "id": "4625c904",
   "metadata": {},
   "source": [
    "### Análisis Cuadrático Discriminante"
   ]
  },
  {
   "cell_type": "code",
   "execution_count": null,
   "id": "048deb66",
   "metadata": {},
   "outputs": [],
   "source": [
    "qda_model = QuadraticDiscriminantAnalysis().fit(tfi_train, y_train)"
   ]
  },
  {
   "cell_type": "code",
   "execution_count": null,
   "id": "cdddd0db",
   "metadata": {},
   "outputs": [],
   "source": [
    "y_hat_lda = qda_model.predict(tfi_test)"
   ]
  },
  {
   "cell_type": "code",
   "execution_count": null,
   "id": "eb6a150f",
   "metadata": {},
   "outputs": [],
   "source": [
    "print(classification_report(y_test, y_hat_qda))"
   ]
  },
  {
   "cell_type": "markdown",
   "id": "d6d15067",
   "metadata": {},
   "source": [
    "#### Arbol de Clasificacion"
   ]
  },
  {
   "cell_type": "code",
   "execution_count": null,
   "id": "e5b5d9cf",
   "metadata": {},
   "outputs": [],
   "source": [
    "tree_para = {'max_depth':[50,100,200,250], 'max_features' : [None, 'log2', 'sqrt']}\n",
    "tree_model_grid = GridSearchCV(DecisionTreeClassifier(), tree_para, cv=5, n_jobs=-1).fit(tfi_train, y_train)"
   ]
  },
  {
   "cell_type": "code",
   "execution_count": null,
   "id": "18a99f09",
   "metadata": {},
   "outputs": [],
   "source": [
    "tree_model_grid.best_params_"
   ]
  },
  {
   "cell_type": "code",
   "execution_count": null,
   "id": "1fbead43",
   "metadata": {},
   "outputs": [],
   "source": [
    "y_hat_tree_model = tree_model_grid.best_estimator_.predict(tfi_test)"
   ]
  },
  {
   "cell_type": "code",
   "execution_count": null,
   "id": "11473fc0",
   "metadata": {},
   "outputs": [],
   "source": [
    "y_hat_tree_model"
   ]
  },
  {
   "cell_type": "code",
   "execution_count": null,
   "id": "a573a7e7",
   "metadata": {},
   "outputs": [],
   "source": [
    "print(classification_report(y_test, y_hat_tree_model))"
   ]
  },
  {
   "cell_type": "markdown",
   "id": "b2126b69",
   "metadata": {},
   "source": [
    "***Se genera un error por que el modelo devuelve valores continuos.Aun no entiendo por que sucede. Se corregirá para la proxima semana.***"
   ]
  },
  {
   "cell_type": "markdown",
   "id": "c3ba0327",
   "metadata": {},
   "source": [
    "#### AdaBoostClassifier"
   ]
  },
  {
   "cell_type": "code",
   "execution_count": null,
   "id": "19ce49ec",
   "metadata": {},
   "outputs": [],
   "source": [
    "params_ada={'learning_rate': [0.01, 0.1, 0.5], 'n_estimators': [50,100, 500, 1000, 2000]}\n",
    "ada_grid_cv = GridSearchCV(AdaBoostClassifier(), params_ada, n_jobs = -1).fit(tfi_train, y_train)"
   ]
  },
  {
   "cell_type": "code",
   "execution_count": null,
   "id": "ce1dc4ad",
   "metadata": {},
   "outputs": [],
   "source": [
    "ada_grid_cv.best_params_"
   ]
  },
  {
   "cell_type": "code",
   "execution_count": null,
   "id": "af267661",
   "metadata": {},
   "outputs": [],
   "source": [
    "y_hat_ada = ada_grid_cv.best_estimator_.predict(tfi_test)"
   ]
  },
  {
   "cell_type": "code",
   "execution_count": null,
   "id": "8aa39dc3",
   "metadata": {},
   "outputs": [],
   "source": [
    "print(classification_report(y_test, y_hat_ada))"
   ]
  },
  {
   "cell_type": "markdown",
   "id": "33e1d388",
   "metadata": {},
   "source": [
    "Se observa que para la clase 1 la precision es del 70% y el recall de 57%, lo que indica que el modelo es capaz de identificar las caracteristicas más marcadas de la clase, pero no todas sus caracteristicas."
   ]
  },
  {
   "cell_type": "markdown",
   "id": "ebdbbdd3",
   "metadata": {},
   "source": [
    "#### GradientBoostingClassifier"
   ]
  },
  {
   "cell_type": "code",
   "execution_count": null,
   "id": "a57e9ae8",
   "metadata": {},
   "outputs": [],
   "source": [
    "param_gradient = {'learning_rate': [0.01, 0.1, 0.5],'n_estimators': [50, 100, 500, 1000, 2000], \n",
    "                   'subsample': [0.1,0.5,0.9]}\n",
    "gradient_grid_cv = GridSearchCV(GradientBoostingClassifier(), param_gradient, n_jobs=-1, \n",
    "                                cv=5).fit(tfi_train, y_train)"
   ]
  },
  {
   "cell_type": "code",
   "execution_count": null,
   "id": "589b0284",
   "metadata": {},
   "outputs": [],
   "source": [
    "gradient_grid_cv.best_params_"
   ]
  },
  {
   "cell_type": "code",
   "execution_count": null,
   "id": "13985905",
   "metadata": {},
   "outputs": [],
   "source": [
    "y_hat_gradient_boost=gradient_grid_cv.best_estimator_.predict(tfi_test)"
   ]
  },
  {
   "cell_type": "code",
   "execution_count": null,
   "id": "d4236566",
   "metadata": {},
   "outputs": [],
   "source": [
    "print(classification_report(y_test, y_hat_gradient_boost))"
   ]
  },
  {
   "cell_type": "markdown",
   "id": "c6f7de5d",
   "metadata": {},
   "source": [
    "Se observa un modelo con resultados similares al modelo realizado con AdaBoost"
   ]
  },
  {
   "cell_type": "code",
   "execution_count": null,
   "id": "c1755e40",
   "metadata": {},
   "outputs": [],
   "source": []
  }
 ],
 "metadata": {
  "kernelspec": {
   "display_name": "Python 3 (ipykernel)",
   "language": "python",
   "name": "python3"
  },
  "language_info": {
   "codemirror_mode": {
    "name": "ipython",
    "version": 3
   },
   "file_extension": ".py",
   "mimetype": "text/x-python",
   "name": "python",
   "nbconvert_exporter": "python",
   "pygments_lexer": "ipython3",
   "version": "3.8.8"
  }
 },
 "nbformat": 4,
 "nbformat_minor": 5
}
