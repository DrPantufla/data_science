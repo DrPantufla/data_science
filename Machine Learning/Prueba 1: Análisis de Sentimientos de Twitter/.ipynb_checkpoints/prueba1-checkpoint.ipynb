{
 "cells": [
  {
   "cell_type": "markdown",
   "id": "b084e0e6",
   "metadata": {},
   "source": [
    "# Prueba 1: Análisis de Sentimientos de Twitter (Sebastián Rebolledo)"
   ]
  },
  {
   "cell_type": "markdown",
   "id": "7cf657d5",
   "metadata": {},
   "source": [
    "## Hito 1: Aspectos Computacionales"
   ]
  },
  {
   "cell_type": "markdown",
   "id": "ad68e3cc",
   "metadata": {},
   "source": [
    "### Preliminares"
   ]
  },
  {
   "cell_type": "markdown",
   "id": "df12190b",
   "metadata": {},
   "source": [
    "#### En el siguiente ejercicio se realizará la clasificación de Tweet en positivos o negativos en funcion de los sentimientos que expresa. Para ello se implementarán distintos modelos de clasificación y se evaluara su desempeño."
   ]
  },
  {
   "cell_type": "markdown",
   "id": "8704c003",
   "metadata": {},
   "source": [
    "- Las metricas que se utilizarán para medir el desempeño de los modelos serán Accuracy, precision y Recall. \n",
    "- Se realizará primeramente el preprocesamiento de las variables del vector sentiment, quedando esta variable con 0 y 1, donde 0 serán tweets con sentimientos negativos y 1 tweets con sentimientos positivos.\n",
    "- Luego se realizará un preprocesamiento de palabras en el atributo 'content' utilizando CountVectorizarer."
   ]
  },
  {
   "cell_type": "markdown",
   "id": "8a57a035",
   "metadata": {},
   "source": [
    "### Modelos a implementar"
   ]
  },
  {
   "cell_type": "markdown",
   "id": "492da774",
   "metadata": {},
   "source": [
    "- Regresion logistica.\n",
    "\n",
    "- LinearDiscriminantAnalysis.\n",
    "\n",
    "- Árbol de clasificación, en donde se implementara una grilla para buscar los mejores hiperparametros. A continuacion grilla tentativa.\n",
    "    - params = {'max_depth':[10,30,50,70], }\n",
    "    \n",
    "- GradientBoostingClasifiers : Se implementara una grilla para buscar los mejores hiperparametros. A continuacion grilla tentativa.\n",
    "    - params = {'learning_rate': [0.01, 0.1, 0.5],'n_estimators': [50, 100, 500, 1000, 2000], 'subsample': [0.1,0.5,0.9]}.\n",
    "                   \n",
    "- AdaBoostClassifier: Se implementara una grilla para buscar los mejores hiperparametros. A continuacion grilla tentativa.\n",
    "     - params = {'learning_rate': [0.01, 0.1, 0.5], 'n_estimators': [50, 100, 500, 1000, 2000]}"
   ]
  },
  {
   "cell_type": "code",
   "execution_count": 24,
   "id": "4fdc81f7",
   "metadata": {},
   "outputs": [],
   "source": [
    "import pandas as pd\n",
    "import numpy as np\n",
    "import matplotlib.pyplot as plt\n",
    "import seaborn as sns\n",
    "import func as fn\n",
    "import re\n",
    "from sklearn.feature_extraction.text import CountVectorizer\n",
    "from sklearn.linear_model import LogisticRegression\n",
    "from sklearn.tree import DecisionTreeRegressor\n",
    "from sklearn.tree import DecisionTreeClassifier\n",
    "from sklearn.ensemble import AdaBoostClassifier\n",
    "from sklearn.ensemble import GradientBoostingClassifier\n",
    "from sklearn.metrics import mean_squared_error, median_absolute_error, r2_score\n",
    "from sklearn.model_selection import train_test_split\n",
    "from sklearn.model_selection import GridSearchCV\n",
    "from sklearn.metrics import classification_report"
   ]
  },
  {
   "cell_type": "code",
   "execution_count": 2,
   "id": "2c7a84a1",
   "metadata": {},
   "outputs": [],
   "source": [
    "df = pd.read_csv('training_tweets.csv').drop('Unnamed: 0', axis=1)"
   ]
  },
  {
   "cell_type": "code",
   "execution_count": 3,
   "id": "f0a28773",
   "metadata": {},
   "outputs": [
    {
     "name": "stdout",
     "output_type": "stream",
     "text": [
      "<class 'pandas.core.frame.DataFrame'>\n",
      "RangeIndex: 30000 entries, 0 to 29999\n",
      "Data columns (total 2 columns):\n",
      " #   Column     Non-Null Count  Dtype \n",
      "---  ------     --------------  ----- \n",
      " 0   content    30000 non-null  object\n",
      " 1   sentiment  30000 non-null  object\n",
      "dtypes: object(2)\n",
      "memory usage: 468.9+ KB\n"
     ]
    }
   ],
   "source": [
    "df.info()"
   ]
  },
  {
   "cell_type": "markdown",
   "id": "aed7e746",
   "metadata": {},
   "source": [
    "No se encuentran datos perdidos."
   ]
  },
  {
   "cell_type": "code",
   "execution_count": 4,
   "id": "98a5bced",
   "metadata": {},
   "outputs": [
    {
     "data": {
      "text/plain": [
       "neutral       6451\n",
       "worry         6337\n",
       "happiness     3952\n",
       "sadness       3869\n",
       "love          2908\n",
       "surprise      1619\n",
       "fun           1331\n",
       "relief        1158\n",
       "hate           975\n",
       "empty          617\n",
       "enthusiasm     559\n",
       "boredom        135\n",
       "anger           89\n",
       "Name: sentiment, dtype: int64"
      ]
     },
     "execution_count": 4,
     "metadata": {},
     "output_type": "execute_result"
    }
   ],
   "source": [
    "df.sentiment.value_counts()"
   ]
  },
  {
   "cell_type": "markdown",
   "id": "279690fa",
   "metadata": {},
   "source": [
    "A continuacion se recodificara el vector sentiment con un 0 para las emociones negativas y con un 1 para las emociones positivas."
   ]
  },
  {
   "cell_type": "code",
   "execution_count": 5,
   "id": "06833bf4",
   "metadata": {},
   "outputs": [],
   "source": [
    "fn.recod_sentiment(df,['worry', 'sadness', 'hate', 'empty', 'boredom', 'anger'], 0)"
   ]
  },
  {
   "cell_type": "code",
   "execution_count": 6,
   "id": "ace97c59",
   "metadata": {},
   "outputs": [],
   "source": [
    "fn.recod_sentiment(df,['happiness', 'love', 'surprise', 'fun', 'relief', 'enthusiasm'], 1)"
   ]
  },
  {
   "cell_type": "markdown",
   "id": "46cb2eef",
   "metadata": {},
   "source": [
    "Dentro del atributo sentiment, se encuentran tweets con la denominacion de 'neutral', lo que significa que no esta claro si son atributos positivos o negativos, por cual serán repartidos al azar entre positivos y negativos."
   ]
  },
  {
   "cell_type": "code",
   "execution_count": 7,
   "id": "b5747fc3",
   "metadata": {},
   "outputs": [],
   "source": [
    "for index, valor in df[df['sentiment']== 'neutral']['content'].iteritems():\n",
    "    #print(f'{index}-{valor}')\n",
    "    df['sentiment'][index]=len(valor)%2"
   ]
  },
  {
   "cell_type": "code",
   "execution_count": 8,
   "id": "b5052c9c",
   "metadata": {},
   "outputs": [
    {
     "data": {
      "text/plain": [
       "0    15230\n",
       "1    14770\n",
       "Name: sentiment, dtype: int64"
      ]
     },
     "execution_count": 8,
     "metadata": {},
     "output_type": "execute_result"
    }
   ],
   "source": [
    "df.sentiment.value_counts()"
   ]
  },
  {
   "cell_type": "code",
   "execution_count": 9,
   "id": "a69af1da",
   "metadata": {},
   "outputs": [],
   "source": [
    "df['sentiment'] = df['sentiment'].astype('int')"
   ]
  },
  {
   "cell_type": "markdown",
   "id": "23bf4bfd",
   "metadata": {},
   "source": [
    "#### Distribucion del vector objetivo"
   ]
  },
  {
   "cell_type": "code",
   "execution_count": 10,
   "id": "7f095e86",
   "metadata": {},
   "outputs": [
    {
     "data": {
      "image/png": "[encoded data removed]",
      "text/plain": [
       "<Figure size 432x288 with 1 Axes>"
      ]
     },
     "metadata": {
      "needs_background": "light"
     },
     "output_type": "display_data"
    }
   ],
   "source": [
    "sns.countplot(x='sentiment', data=df)\n",
    "plt.title('Comportamiento del atributo sentiment')\n",
    "plt.show()"
   ]
  },
  {
   "cell_type": "markdown",
   "id": "ed358271",
   "metadata": {},
   "source": [
    "Se observa que hay una distribución de valores similar entre ambas clases."
   ]
  },
  {
   "cell_type": "code",
   "execution_count": 11,
   "id": "076a0762",
   "metadata": {},
   "outputs": [
    {
     "data": {
      "text/html": [
       "<div>\n",
       "<style scoped>\n",
       "    .dataframe tbody tr th:only-of-type {\n",
       "        vertical-align: middle;\n",
       "    }\n",
       "\n",
       "    .dataframe tbody tr th {\n",
       "        vertical-align: top;\n",
       "    }\n",
       "\n",
       "    .dataframe thead th {\n",
       "        text-align: right;\n",
       "    }\n",
       "</style>\n",
       "<table border=\"1\" class=\"dataframe\">\n",
       "  <thead>\n",
       "    <tr style=\"text-align: right;\">\n",
       "      <th></th>\n",
       "      <th>content</th>\n",
       "      <th>sentiment</th>\n",
       "    </tr>\n",
       "  </thead>\n",
       "  <tbody>\n",
       "    <tr>\n",
       "      <th>0</th>\n",
       "      <td>Happy Mama's day to all mothers</td>\n",
       "      <td>1</td>\n",
       "    </tr>\n",
       "    <tr>\n",
       "      <th>1</th>\n",
       "      <td>@LysdelTellez I am lost. Please help me find a...</td>\n",
       "      <td>0</td>\n",
       "    </tr>\n",
       "    <tr>\n",
       "      <th>2</th>\n",
       "      <td>@BoomKatt yes yes I AM, networking whore to th...</td>\n",
       "      <td>1</td>\n",
       "    </tr>\n",
       "    <tr>\n",
       "      <th>3</th>\n",
       "      <td>you@snapplynn Wish that would have been your t...</td>\n",
       "      <td>1</td>\n",
       "    </tr>\n",
       "    <tr>\n",
       "      <th>4</th>\n",
       "      <td>now i am doing the MicroEconomics project  iha...</td>\n",
       "      <td>0</td>\n",
       "    </tr>\n",
       "    <tr>\n",
       "      <th>...</th>\n",
       "      <td>...</td>\n",
       "      <td>...</td>\n",
       "    </tr>\n",
       "    <tr>\n",
       "      <th>29995</th>\n",
       "      <td>I  do not want to work tomorrow!</td>\n",
       "      <td>0</td>\n",
       "    </tr>\n",
       "    <tr>\n",
       "      <th>29996</th>\n",
       "      <td>@KandyBee we shuld do  a dance like that its s...</td>\n",
       "      <td>1</td>\n",
       "    </tr>\n",
       "    <tr>\n",
       "      <th>29997</th>\n",
       "      <td>Photo: Got my prints a few days ago, ready for...</td>\n",
       "      <td>1</td>\n",
       "    </tr>\n",
       "    <tr>\n",
       "      <th>29998</th>\n",
       "      <td>@tove_liden Thanks for the follow Tove!</td>\n",
       "      <td>1</td>\n",
       "    </tr>\n",
       "    <tr>\n",
       "      <th>29999</th>\n",
       "      <td>@esmeeworld thanks</td>\n",
       "      <td>0</td>\n",
       "    </tr>\n",
       "  </tbody>\n",
       "</table>\n",
       "<p>30000 rows × 2 columns</p>\n",
       "</div>"
      ],
      "text/plain": [
       "                                                 content  sentiment\n",
       "0                        Happy Mama's day to all mothers          1\n",
       "1      @LysdelTellez I am lost. Please help me find a...          0\n",
       "2      @BoomKatt yes yes I AM, networking whore to th...          1\n",
       "3      you@snapplynn Wish that would have been your t...          1\n",
       "4      now i am doing the MicroEconomics project  iha...          0\n",
       "...                                                  ...        ...\n",
       "29995                   I  do not want to work tomorrow!          0\n",
       "29996  @KandyBee we shuld do  a dance like that its s...          1\n",
       "29997  Photo: Got my prints a few days ago, ready for...          1\n",
       "29998            @tove_liden Thanks for the follow Tove!          1\n",
       "29999                                 @esmeeworld thanks          0\n",
       "\n",
       "[30000 rows x 2 columns]"
      ]
     },
     "execution_count": 11,
     "metadata": {},
     "output_type": "execute_result"
    }
   ],
   "source": [
    "df"
   ]
  },
  {
   "cell_type": "code",
   "execution_count": 12,
   "id": "b22ae7af",
   "metadata": {},
   "outputs": [],
   "source": [
    "df.content = df.content.str.lower()"
   ]
  },
  {
   "cell_type": "code",
   "execution_count": 13,
   "id": "7762d22c",
   "metadata": {},
   "outputs": [
    {
     "data": {
      "text/plain": [
       "0                          happy mama's day to all mothers\n",
       "1        @lysdeltellez i am lost. please help me find a...\n",
       "2        @boomkatt yes yes i am, networking whore to th...\n",
       "3        you@snapplynn wish that would have been your t...\n",
       "4        now i am doing the microeconomics project  iha...\n",
       "                               ...                        \n",
       "29995                     i  do not want to work tomorrow!\n",
       "29996    @kandybee we shuld do  a dance like that its s...\n",
       "29997    photo: got my prints a few days ago, ready for...\n",
       "29998              @tove_liden thanks for the follow tove!\n",
       "29999                                   @esmeeworld thanks\n",
       "Name: content, Length: 30000, dtype: object"
      ]
     },
     "execution_count": 13,
     "metadata": {},
     "output_type": "execute_result"
    }
   ],
   "source": [
    "df.content "
   ]
  },
  {
   "cell_type": "code",
   "execution_count": 14,
   "id": "70701318",
   "metadata": {},
   "outputs": [
    {
     "name": "stderr",
     "output_type": "stream",
     "text": [
      "/tmp/ipykernel_30564/3452770977.py:2: SettingWithCopyWarning: \n",
      "A value is trying to be set on a copy of a slice from a DataFrame\n",
      "\n",
      "See the caveats in the documentation: https://pandas.pydata.org/pandas-docs/stable/user_guide/indexing.html#returning-a-view-versus-a-copy\n",
      "  df['content'][index]= re.sub(r\"(@[A-Za-z0-9]+)\",\"\", row['content'])\n"
     ]
    }
   ],
   "source": [
    "for index, row in df.iterrows():\n",
    "    df['content'][index]= re.sub(r\"(@[A-Za-z0-9]+)\",\"\", row['content'])"
   ]
  },
  {
   "cell_type": "code",
   "execution_count": 15,
   "id": "18efb241",
   "metadata": {},
   "outputs": [
    {
     "data": {
      "text/plain": [
       "0                          happy mama's day to all mothers\n",
       "1              i am lost. please help me find a good home.\n",
       "2         yes yes i am, networking whore to the fullest...\n",
       "3        you wish that would have been your tweet after...\n",
       "4        now i am doing the microeconomics project  iha...\n",
       "                               ...                        \n",
       "29995                     i  do not want to work tomorrow!\n",
       "29996     we shuld do  a dance like that its seriously ...\n",
       "29997    photo: got my prints a few days ago, ready for...\n",
       "29998                   _liden thanks for the follow tove!\n",
       "29999                                               thanks\n",
       "Name: content, Length: 30000, dtype: object"
      ]
     },
     "execution_count": 15,
     "metadata": {},
     "output_type": "execute_result"
    }
   ],
   "source": [
    "df.content"
   ]
  },
  {
   "cell_type": "code",
   "execution_count": 16,
   "id": "73d3c0ca",
   "metadata": {},
   "outputs": [],
   "source": [
    "cv = CountVectorizer(max_features=5000, stop_words='english')"
   ]
  },
  {
   "cell_type": "code",
   "execution_count": 17,
   "id": "01c94152",
   "metadata": {},
   "outputs": [],
   "source": [
    "cv_fit = cv.fit_transform(df['content'])"
   ]
  },
  {
   "cell_type": "code",
   "execution_count": 18,
   "id": "916c0a6a",
   "metadata": {},
   "outputs": [],
   "source": [
    "X=cv_fit\n",
    "y=df['sentiment']\n",
    "X_train, X_test, y_train, y_test = train_test_split(X, y,test_size=.30, random_state=13213)"
   ]
  },
  {
   "cell_type": "markdown",
   "id": "06289508",
   "metadata": {},
   "source": [
    "#### Regresion Logistica"
   ]
  },
  {
   "cell_type": "code",
   "execution_count": 19,
   "id": "5148abc6",
   "metadata": {},
   "outputs": [],
   "source": [
    "lr = LogisticRegression()"
   ]
  },
  {
   "cell_type": "code",
   "execution_count": 20,
   "id": "cf9bd74e",
   "metadata": {},
   "outputs": [
    {
     "name": "stderr",
     "output_type": "stream",
     "text": [
      "/home/seba/anaconda3/lib/python3.8/site-packages/sklearn/linear_model/_logistic.py:763: ConvergenceWarning: lbfgs failed to converge (status=1):\n",
      "STOP: TOTAL NO. of ITERATIONS REACHED LIMIT.\n",
      "\n",
      "Increase the number of iterations (max_iter) or scale the data as shown in:\n",
      "    https://scikit-learn.org/stable/modules/preprocessing.html\n",
      "Please also refer to the documentation for alternative solver options:\n",
      "    https://scikit-learn.org/stable/modules/linear_model.html#logistic-regression\n",
      "  n_iter_i = _check_optimize_result(\n"
     ]
    },
    {
     "data": {
      "text/plain": [
       "LogisticRegression()"
      ]
     },
     "execution_count": 20,
     "metadata": {},
     "output_type": "execute_result"
    }
   ],
   "source": [
    "lr.fit(X_train, y_train)"
   ]
  },
  {
   "cell_type": "code",
   "execution_count": 23,
   "id": "49a0e0bc",
   "metadata": {},
   "outputs": [],
   "source": [
    "y_hat_lr = lr.predict(X_test)"
   ]
  },
  {
   "cell_type": "code",
   "execution_count": 25,
   "id": "3d9b7c5b",
   "metadata": {},
   "outputs": [
    {
     "name": "stdout",
     "output_type": "stream",
     "text": [
      "              precision    recall  f1-score   support\n",
      "\n",
      "           0       0.67      0.69      0.68      4577\n",
      "           1       0.67      0.65      0.66      4423\n",
      "\n",
      "    accuracy                           0.67      9000\n",
      "   macro avg       0.67      0.67      0.67      9000\n",
      "weighted avg       0.67      0.67      0.67      9000\n",
      "\n"
     ]
    }
   ],
   "source": [
    "print(classification_report(y_test, y_hat_lr))"
   ]
  },
  {
   "cell_type": "markdown",
   "id": "2ec9a32e",
   "metadata": {},
   "source": [
    "Se observa que las clases estan bien distribuidas, que el valor de precision de ambas clases es el mismo, variando solamente en el recall, donde es mayor para la clase 0."
   ]
  },
  {
   "cell_type": "markdown",
   "id": "cbb92606",
   "metadata": {},
   "source": [
    "#### Arbol de Clasificacion"
   ]
  },
  {
   "cell_type": "code",
   "execution_count": 32,
   "id": "99db24cb",
   "metadata": {},
   "outputs": [],
   "source": [
    "tree_para = {'max_depth':[50,100,200,250] 'max_features' : [None, 'log2', 'sqrt']}\n",
    "tree_model_grid = GridSearchCV(DecisionTreeRegressor(), tree_para, cv=5, n_jobs=-1).fit(X_train, y_train)"
   ]
  },
  {
   "cell_type": "code",
   "execution_count": 33,
   "id": "760f575e",
   "metadata": {},
   "outputs": [
    {
     "data": {
      "text/plain": [
       "{'max_depth': 50}"
      ]
     },
     "execution_count": 33,
     "metadata": {},
     "output_type": "execute_result"
    }
   ],
   "source": [
    "tree_model_grid.best_params_"
   ]
  },
  {
   "cell_type": "code",
   "execution_count": 34,
   "id": "b1d55640",
   "metadata": {},
   "outputs": [],
   "source": [
    "y_hat_tree_model = tree_model_grid.best_estimator_.predict(X_test)"
   ]
  },
  {
   "cell_type": "code",
   "execution_count": 36,
   "id": "af47e3aa",
   "metadata": {},
   "outputs": [
    {
     "data": {
      "text/plain": [
       "array([0.44605127, 0.27083333, 0.        , ..., 0.        , 0.44605127,\n",
       "       0.44605127])"
      ]
     },
     "execution_count": 36,
     "metadata": {},
     "output_type": "execute_result"
    }
   ],
   "source": [
    "y_hat_tree_model"
   ]
  },
  {
   "cell_type": "code",
   "execution_count": 35,
   "id": "4a433019",
   "metadata": {},
   "outputs": [
    {
     "ename": "ValueError",
     "evalue": "Classification metrics can't handle a mix of binary and continuous targets",
     "output_type": "error",
     "traceback": [
      "\u001b[0;31m---------------------------------------------------------------------------\u001b[0m",
      "\u001b[0;31mValueError\u001b[0m                                Traceback (most recent call last)",
      "Input \u001b[0;32mIn [35]\u001b[0m, in \u001b[0;36m<cell line: 1>\u001b[0;34m()\u001b[0m\n\u001b[0;32m----> 1\u001b[0m \u001b[38;5;28mprint\u001b[39m(\u001b[43mclassification_report\u001b[49m\u001b[43m(\u001b[49m\u001b[43my_test\u001b[49m\u001b[43m,\u001b[49m\u001b[43m \u001b[49m\u001b[43my_hat_tree_model\u001b[49m\u001b[43m)\u001b[49m)\n",
      "File \u001b[0;32m~/anaconda3/lib/python3.8/site-packages/sklearn/utils/validation.py:63\u001b[0m, in \u001b[0;36m_deprecate_positional_args.<locals>._inner_deprecate_positional_args.<locals>.inner_f\u001b[0;34m(*args, **kwargs)\u001b[0m\n\u001b[1;32m     61\u001b[0m extra_args \u001b[38;5;241m=\u001b[39m \u001b[38;5;28mlen\u001b[39m(args) \u001b[38;5;241m-\u001b[39m \u001b[38;5;28mlen\u001b[39m(all_args)\n\u001b[1;32m     62\u001b[0m \u001b[38;5;28;01mif\u001b[39;00m extra_args \u001b[38;5;241m<\u001b[39m\u001b[38;5;241m=\u001b[39m \u001b[38;5;241m0\u001b[39m:\n\u001b[0;32m---> 63\u001b[0m     \u001b[38;5;28;01mreturn\u001b[39;00m \u001b[43mf\u001b[49m\u001b[43m(\u001b[49m\u001b[38;5;241;43m*\u001b[39;49m\u001b[43margs\u001b[49m\u001b[43m,\u001b[49m\u001b[43m \u001b[49m\u001b[38;5;241;43m*\u001b[39;49m\u001b[38;5;241;43m*\u001b[39;49m\u001b[43mkwargs\u001b[49m\u001b[43m)\u001b[49m\n\u001b[1;32m     65\u001b[0m \u001b[38;5;66;03m# extra_args > 0\u001b[39;00m\n\u001b[1;32m     66\u001b[0m args_msg \u001b[38;5;241m=\u001b[39m [\u001b[38;5;124m'\u001b[39m\u001b[38;5;132;01m{}\u001b[39;00m\u001b[38;5;124m=\u001b[39m\u001b[38;5;132;01m{}\u001b[39;00m\u001b[38;5;124m'\u001b[39m\u001b[38;5;241m.\u001b[39mformat(name, arg)\n\u001b[1;32m     67\u001b[0m             \u001b[38;5;28;01mfor\u001b[39;00m name, arg \u001b[38;5;129;01min\u001b[39;00m \u001b[38;5;28mzip\u001b[39m(kwonly_args[:extra_args],\n\u001b[1;32m     68\u001b[0m                                  args[\u001b[38;5;241m-\u001b[39mextra_args:])]\n",
      "File \u001b[0;32m~/anaconda3/lib/python3.8/site-packages/sklearn/metrics/_classification.py:1966\u001b[0m, in \u001b[0;36mclassification_report\u001b[0;34m(y_true, y_pred, labels, target_names, sample_weight, digits, output_dict, zero_division)\u001b[0m\n\u001b[1;32m   1861\u001b[0m \u001b[38;5;129m@_deprecate_positional_args\u001b[39m\n\u001b[1;32m   1862\u001b[0m \u001b[38;5;28;01mdef\u001b[39;00m \u001b[38;5;21mclassification_report\u001b[39m(y_true, y_pred, \u001b[38;5;241m*\u001b[39m, labels\u001b[38;5;241m=\u001b[39m\u001b[38;5;28;01mNone\u001b[39;00m, target_names\u001b[38;5;241m=\u001b[39m\u001b[38;5;28;01mNone\u001b[39;00m,\n\u001b[1;32m   1863\u001b[0m                           sample_weight\u001b[38;5;241m=\u001b[39m\u001b[38;5;28;01mNone\u001b[39;00m, digits\u001b[38;5;241m=\u001b[39m\u001b[38;5;241m2\u001b[39m, output_dict\u001b[38;5;241m=\u001b[39m\u001b[38;5;28;01mFalse\u001b[39;00m,\n\u001b[1;32m   1864\u001b[0m                           zero_division\u001b[38;5;241m=\u001b[39m\u001b[38;5;124m\"\u001b[39m\u001b[38;5;124mwarn\u001b[39m\u001b[38;5;124m\"\u001b[39m):\n\u001b[1;32m   1865\u001b[0m     \u001b[38;5;124;03m\"\"\"Build a text report showing the main classification metrics.\u001b[39;00m\n\u001b[1;32m   1866\u001b[0m \n\u001b[1;32m   1867\u001b[0m \u001b[38;5;124;03m    Read more in the :ref:`User Guide <classification_report>`.\u001b[39;00m\n\u001b[0;32m   (...)\u001b[0m\n\u001b[1;32m   1963\u001b[0m \u001b[38;5;124;03m    <BLANKLINE>\u001b[39;00m\n\u001b[1;32m   1964\u001b[0m \u001b[38;5;124;03m    \"\"\"\u001b[39;00m\n\u001b[0;32m-> 1966\u001b[0m     y_type, y_true, y_pred \u001b[38;5;241m=\u001b[39m \u001b[43m_check_targets\u001b[49m\u001b[43m(\u001b[49m\u001b[43my_true\u001b[49m\u001b[43m,\u001b[49m\u001b[43m \u001b[49m\u001b[43my_pred\u001b[49m\u001b[43m)\u001b[49m\n\u001b[1;32m   1968\u001b[0m     \u001b[38;5;28;01mif\u001b[39;00m labels \u001b[38;5;129;01mis\u001b[39;00m \u001b[38;5;28;01mNone\u001b[39;00m:\n\u001b[1;32m   1969\u001b[0m         labels \u001b[38;5;241m=\u001b[39m unique_labels(y_true, y_pred)\n",
      "File \u001b[0;32m~/anaconda3/lib/python3.8/site-packages/sklearn/metrics/_classification.py:92\u001b[0m, in \u001b[0;36m_check_targets\u001b[0;34m(y_true, y_pred)\u001b[0m\n\u001b[1;32m     89\u001b[0m     y_type \u001b[38;5;241m=\u001b[39m {\u001b[38;5;124m\"\u001b[39m\u001b[38;5;124mmulticlass\u001b[39m\u001b[38;5;124m\"\u001b[39m}\n\u001b[1;32m     91\u001b[0m \u001b[38;5;28;01mif\u001b[39;00m \u001b[38;5;28mlen\u001b[39m(y_type) \u001b[38;5;241m>\u001b[39m \u001b[38;5;241m1\u001b[39m:\n\u001b[0;32m---> 92\u001b[0m     \u001b[38;5;28;01mraise\u001b[39;00m \u001b[38;5;167;01mValueError\u001b[39;00m(\u001b[38;5;124m\"\u001b[39m\u001b[38;5;124mClassification metrics can\u001b[39m\u001b[38;5;124m'\u001b[39m\u001b[38;5;124mt handle a mix of \u001b[39m\u001b[38;5;132;01m{0}\u001b[39;00m\u001b[38;5;124m \u001b[39m\u001b[38;5;124m\"\u001b[39m\n\u001b[1;32m     93\u001b[0m                      \u001b[38;5;124m\"\u001b[39m\u001b[38;5;124mand \u001b[39m\u001b[38;5;132;01m{1}\u001b[39;00m\u001b[38;5;124m targets\u001b[39m\u001b[38;5;124m\"\u001b[39m\u001b[38;5;241m.\u001b[39mformat(type_true, type_pred))\n\u001b[1;32m     95\u001b[0m \u001b[38;5;66;03m# We can't have more than one value on y_type => The set is no more needed\u001b[39;00m\n\u001b[1;32m     96\u001b[0m y_type \u001b[38;5;241m=\u001b[39m y_type\u001b[38;5;241m.\u001b[39mpop()\n",
      "\u001b[0;31mValueError\u001b[0m: Classification metrics can't handle a mix of binary and continuous targets"
     ]
    }
   ],
   "source": [
    "print(classification_report(y_test, y_hat_tree_model))"
   ]
  },
  {
   "cell_type": "markdown",
   "id": "c68de8c1",
   "metadata": {},
   "source": [
    "***Se genera un error por que el modelo devuelve valores continuos.Aun no entiendo por que sucede. Se corregirá para la proxima semana.***"
   ]
  },
  {
   "cell_type": "markdown",
   "id": "7dc8de15",
   "metadata": {},
   "source": [
    "#### AdaBoostClassifier"
   ]
  },
  {
   "cell_type": "code",
   "execution_count": 37,
   "id": "1308da02",
   "metadata": {},
   "outputs": [],
   "source": [
    "params_ada={'learning_rate': [0.01, 0.1, 0.5], 'n_estimators': [50,100, 500, 1000, 2000]}\n",
    "ada_grid_cv = GridSearchCV(AdaBoostClassifier(), params_ada, n_jobs = -1).fit(X_train, y_train)"
   ]
  },
  {
   "cell_type": "code",
   "execution_count": 38,
   "id": "2c5d6ef5",
   "metadata": {},
   "outputs": [
    {
     "data": {
      "text/plain": [
       "{'learning_rate': 0.5, 'n_estimators': 500}"
      ]
     },
     "execution_count": 38,
     "metadata": {},
     "output_type": "execute_result"
    }
   ],
   "source": [
    "ada_grid_cv.best_params_"
   ]
  },
  {
   "cell_type": "code",
   "execution_count": 42,
   "id": "6258b7e0",
   "metadata": {},
   "outputs": [],
   "source": [
    "y_hat_ada = ada_grid_cv.best_estimator_.predict(X_test)"
   ]
  },
  {
   "cell_type": "code",
   "execution_count": 43,
   "id": "91d71c1d",
   "metadata": {},
   "outputs": [
    {
     "name": "stdout",
     "output_type": "stream",
     "text": [
      "              precision    recall  f1-score   support\n",
      "\n",
      "           0       0.65      0.76      0.70      4577\n",
      "           1       0.70      0.57      0.63      4423\n",
      "\n",
      "    accuracy                           0.67      9000\n",
      "   macro avg       0.67      0.67      0.67      9000\n",
      "weighted avg       0.67      0.67      0.67      9000\n",
      "\n"
     ]
    }
   ],
   "source": [
    "print(classification_report(y_test, y_hat_ada))"
   ]
  },
  {
   "cell_type": "markdown",
   "id": "f51759e1",
   "metadata": {},
   "source": [
    "Se observa que para la clase 1 la precision es del 70% y el recall de 57%, lo que indica que el modelo es capaz de identificar las caracteristicas más marcadas de la clase, pero no todas sus caracteristicas."
   ]
  },
  {
   "cell_type": "markdown",
   "id": "69bd03de",
   "metadata": {},
   "source": [
    "#### GradientBoostingClassifier"
   ]
  },
  {
   "cell_type": "code",
   "execution_count": 44,
   "id": "95173c88",
   "metadata": {},
   "outputs": [],
   "source": [
    "param_gradient = {'learning_rate': [0.01, 0.1, 0.5],'n_estimators': [50, 100, 500, 1000, 2000], \n",
    "                   'subsample': [0.1,0.5,0.9]}\n",
    "gradient_grid_cv = GridSearchCV(GradientBoostingClassifier(), param_gradient, n_jobs=-1, \n",
    "                                cv=5).fit(X_train, y_train)"
   ]
  },
  {
   "cell_type": "code",
   "execution_count": 45,
   "id": "61830a08",
   "metadata": {},
   "outputs": [
    {
     "data": {
      "text/plain": [
       "{'learning_rate': 0.1, 'n_estimators': 1000, 'subsample': 0.9}"
      ]
     },
     "execution_count": 45,
     "metadata": {},
     "output_type": "execute_result"
    }
   ],
   "source": [
    "gradient_grid_cv.best_params_"
   ]
  },
  {
   "cell_type": "code",
   "execution_count": 46,
   "id": "620e1b99",
   "metadata": {},
   "outputs": [],
   "source": [
    "y_hat_gradient_boost=gradient_grid_cv.best_estimator_.predict(X_test)"
   ]
  },
  {
   "cell_type": "code",
   "execution_count": 48,
   "id": "aad877bb",
   "metadata": {},
   "outputs": [
    {
     "name": "stdout",
     "output_type": "stream",
     "text": [
      "              precision    recall  f1-score   support\n",
      "\n",
      "           0       0.66      0.75      0.70      4577\n",
      "           1       0.70      0.60      0.65      4423\n",
      "\n",
      "    accuracy                           0.68      9000\n",
      "   macro avg       0.68      0.68      0.67      9000\n",
      "weighted avg       0.68      0.68      0.68      9000\n",
      "\n"
     ]
    }
   ],
   "source": [
    "print(classification_report(y_test, y_hat_gradient_boost))"
   ]
  },
  {
   "cell_type": "markdown",
   "id": "00a7a811",
   "metadata": {},
   "source": [
    "Se observa un modelo con resultados similares al modelo realizado con AdaBoost"
   ]
  },
  {
   "cell_type": "code",
   "execution_count": null,
   "id": "879f591a",
   "metadata": {},
   "outputs": [],
   "source": []
  }
 ],
 "metadata": {
  "kernelspec": {
   "display_name": "Python 3 (ipykernel)",
   "language": "python",
   "name": "python3"
  },
  "language_info": {
   "codemirror_mode": {
    "name": "ipython",
    "version": 3
   },
   "file_extension": ".py",
   "mimetype": "text/x-python",
   "name": "python",
   "nbconvert_exporter": "python",
   "pygments_lexer": "ipython3",
   "version": "3.8.8"
  }
 },
 "nbformat": 4,
 "nbformat_minor": 5
}
