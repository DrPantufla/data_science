{
 "cells": [
  {
   "cell_type": "markdown",
   "id": "ab700fdb",
   "metadata": {},
   "source": [
    "# Desafío - Inferencia de tópicos con EM (Sebastian Rebolledo)"
   ]
  },
  {
   "cell_type": "markdown",
   "id": "391edee8",
   "metadata": {},
   "source": [
    " ### Ejercicio 1: Preparar el ambiente de trabajo"
   ]
  },
  {
   "cell_type": "code",
   "execution_count": 1,
   "id": "d74bf73f",
   "metadata": {},
   "outputs": [],
   "source": [
    "import pandas as pd\n",
    "import numpy as np\n",
    "import matplotlib.pyplot as plt\n",
    "import seaborn as sns\n",
    "import glob\n",
    "import os\n",
    "from sklearn.feature_extraction.text import CountVectorizer\n",
    "from sklearn.decomposition import LatentDirichletAllocation\n",
    "from sklearn.model_selection import GridSearchCV"
   ]
  },
  {
   "cell_type": "code",
   "execution_count": 2,
   "id": "094735b9",
   "metadata": {},
   "outputs": [],
   "source": [
    "files = glob.glob(os.getcwd()+\"/dump/*.csv\")"
   ]
  },
  {
   "cell_type": "code",
   "execution_count": 3,
   "id": "71bb2cfa",
   "metadata": {},
   "outputs": [],
   "source": [
    "df = pd.concat(map(pd.read_csv, files), ignore_index=True).drop(['Unnamed: 0'], axis=1)"
   ]
  },
  {
   "cell_type": "code",
   "execution_count": 4,
   "id": "ca7e14b9",
   "metadata": {},
   "outputs": [],
   "source": [
    "df=df.rename(columns={'0':'artist', '1':'style', '2':'song', '3':'letter'})"
   ]
  },
  {
   "cell_type": "code",
   "execution_count": 5,
   "id": "eea9d0ba",
   "metadata": {
    "scrolled": false
   },
   "outputs": [
    {
     "data": {
      "text/html": [
       "<div>\n",
       "<style scoped>\n",
       "    .dataframe tbody tr th:only-of-type {\n",
       "        vertical-align: middle;\n",
       "    }\n",
       "\n",
       "    .dataframe tbody tr th {\n",
       "        vertical-align: top;\n",
       "    }\n",
       "\n",
       "    .dataframe thead th {\n",
       "        text-align: right;\n",
       "    }\n",
       "</style>\n",
       "<table border=\"1\" class=\"dataframe\">\n",
       "  <thead>\n",
       "    <tr style=\"text-align: right;\">\n",
       "      <th></th>\n",
       "      <th>artist</th>\n",
       "      <th>style</th>\n",
       "      <th>song</th>\n",
       "      <th>letter</th>\n",
       "    </tr>\n",
       "  </thead>\n",
       "  <tbody>\n",
       "    <tr>\n",
       "      <th>0</th>\n",
       "      <td>De La Soul</td>\n",
       "      <td>hiphop</td>\n",
       "      <td>Jenifa Taught Me (Derwin's Revenge)</td>\n",
       "      <td>DOVE: \\n Access to her code \\n Lovestruck was ...</td>\n",
       "    </tr>\n",
       "    <tr>\n",
       "      <th>1</th>\n",
       "      <td>De La Soul</td>\n",
       "      <td>hiphop</td>\n",
       "      <td>Potholes In My Lawn</td>\n",
       "      <td>(Yo, something's wrong here. No, not again!) \\...</td>\n",
       "    </tr>\n",
       "    <tr>\n",
       "      <th>2</th>\n",
       "      <td>De La Soul</td>\n",
       "      <td>hiphop</td>\n",
       "      <td>The Magic Number</td>\n",
       "      <td>POS \\n 3 \\n That's the Magic Number \\n Yes it ...</td>\n",
       "    </tr>\n",
       "    <tr>\n",
       "      <th>3</th>\n",
       "      <td>De La Soul</td>\n",
       "      <td>hiphop</td>\n",
       "      <td>Change In Speak</td>\n",
       "      <td>POS: \\n Once again it's time to bite more soul...</td>\n",
       "    </tr>\n",
       "    <tr>\n",
       "      <th>4</th>\n",
       "      <td>De La Soul</td>\n",
       "      <td>hiphop</td>\n",
       "      <td>Cool Breeze On The Rocks</td>\n",
       "      <td>Cool breeze \\n Rock that shit homie \\n Rock \\n...</td>\n",
       "    </tr>\n",
       "    <tr>\n",
       "      <th>...</th>\n",
       "      <td>...</td>\n",
       "      <td>...</td>\n",
       "      <td>...</td>\n",
       "      <td>...</td>\n",
       "    </tr>\n",
       "    <tr>\n",
       "      <th>9484</th>\n",
       "      <td>Nickelback</td>\n",
       "      <td>rock</td>\n",
       "      <td>Never Too Late</td>\n",
       "      <td>This world will never be what I expected \\n An...</td>\n",
       "    </tr>\n",
       "    <tr>\n",
       "      <th>9485</th>\n",
       "      <td>Nickelback</td>\n",
       "      <td>rock</td>\n",
       "      <td>Remind Me</td>\n",
       "      <td>Never made it as a wise man \\n I couldn't cut ...</td>\n",
       "    </tr>\n",
       "    <tr>\n",
       "      <th>9486</th>\n",
       "      <td>Nickelback</td>\n",
       "      <td>rock</td>\n",
       "      <td>Sick And Tired</td>\n",
       "      <td>I'm Feeling \\n This tension inside of me \\n Pr...</td>\n",
       "    </tr>\n",
       "    <tr>\n",
       "      <th>9487</th>\n",
       "      <td>Nickelback</td>\n",
       "      <td>rock</td>\n",
       "      <td>Take It All</td>\n",
       "      <td>Are you serious do you believe in this? Destro...</td>\n",
       "    </tr>\n",
       "    <tr>\n",
       "      <th>9488</th>\n",
       "      <td>Nickelback</td>\n",
       "      <td>rock</td>\n",
       "      <td>Track-3</td>\n",
       "      <td>I paid my last respects this morning on an ear...</td>\n",
       "    </tr>\n",
       "  </tbody>\n",
       "</table>\n",
       "<p>9489 rows × 4 columns</p>\n",
       "</div>"
      ],
      "text/plain": [
       "          artist   style                                 song  \\\n",
       "0     De La Soul  hiphop  Jenifa Taught Me (Derwin's Revenge)   \n",
       "1     De La Soul  hiphop                  Potholes In My Lawn   \n",
       "2     De La Soul  hiphop                     The Magic Number   \n",
       "3     De La Soul  hiphop                      Change In Speak   \n",
       "4     De La Soul  hiphop             Cool Breeze On The Rocks   \n",
       "...          ...     ...                                  ...   \n",
       "9484  Nickelback    rock                       Never Too Late   \n",
       "9485  Nickelback    rock                            Remind Me   \n",
       "9486  Nickelback    rock                       Sick And Tired   \n",
       "9487  Nickelback    rock                          Take It All   \n",
       "9488  Nickelback    rock                              Track-3   \n",
       "\n",
       "                                                 letter  \n",
       "0     DOVE: \\n Access to her code \\n Lovestruck was ...  \n",
       "1     (Yo, something's wrong here. No, not again!) \\...  \n",
       "2     POS \\n 3 \\n That's the Magic Number \\n Yes it ...  \n",
       "3     POS: \\n Once again it's time to bite more soul...  \n",
       "4     Cool breeze \\n Rock that shit homie \\n Rock \\n...  \n",
       "...                                                 ...  \n",
       "9484  This world will never be what I expected \\n An...  \n",
       "9485  Never made it as a wise man \\n I couldn't cut ...  \n",
       "9486  I'm Feeling \\n This tension inside of me \\n Pr...  \n",
       "9487  Are you serious do you believe in this? Destro...  \n",
       "9488  I paid my last respects this morning on an ear...  \n",
       "\n",
       "[9489 rows x 4 columns]"
      ]
     },
     "execution_count": 5,
     "metadata": {},
     "output_type": "execute_result"
    }
   ],
   "source": [
    "df"
   ]
  },
  {
   "cell_type": "markdown",
   "id": "c38a1ffc",
   "metadata": {},
   "source": [
    "### Ejercicio 2: Matriz de ocurrencias"
   ]
  },
  {
   "cell_type": "code",
   "execution_count": 6,
   "id": "13a8a84c",
   "metadata": {},
   "outputs": [],
   "source": [
    "count_vector = CountVectorizer(max_features=5000, stop_words='english')"
   ]
  },
  {
   "cell_type": "code",
   "execution_count": 7,
   "id": "eb631614",
   "metadata": {},
   "outputs": [],
   "source": [
    "count_vector_fit = count_vector.fit_transform(df['letter'])"
   ]
  },
  {
   "cell_type": "code",
   "execution_count": 8,
   "id": "53c0e8bb",
   "metadata": {},
   "outputs": [
    {
     "data": {
      "text/plain": [
       "<9489x5000 sparse matrix of type '<class 'numpy.int64'>'\n",
       "\twith 701351 stored elements in Compressed Sparse Row format>"
      ]
     },
     "execution_count": 8,
     "metadata": {},
     "output_type": "execute_result"
    }
   ],
   "source": [
    "count_vector_fit"
   ]
  },
  {
   "cell_type": "markdown",
   "id": "2e9975cc",
   "metadata": {},
   "source": [
    " ### Ejercicio 3: Entrenamiento del Modelo "
   ]
  },
  {
   "cell_type": "code",
   "execution_count": 9,
   "id": "968edf51",
   "metadata": {},
   "outputs": [],
   "source": [
    "search_params = {'n_components':[5, 10, 15], 'learning_decay':[0.7, 0.5]}"
   ]
  },
  {
   "cell_type": "code",
   "execution_count": 10,
   "id": "708fb6db",
   "metadata": {},
   "outputs": [],
   "source": [
    "lda = LatentDirichletAllocation()"
   ]
  },
  {
   "cell_type": "code",
   "execution_count": 11,
   "id": "ee6071bc",
   "metadata": {},
   "outputs": [],
   "source": [
    "model = GridSearchCV(lda, param_grid=search_params, n_jobs = -1).fit(count_vector_fit)"
   ]
  },
  {
   "cell_type": "markdown",
   "id": "eb8b3743",
   "metadata": {},
   "source": [
    "model.fit(count_vector_fit)"
   ]
  },
  {
   "cell_type": "code",
   "execution_count": 12,
   "id": "49b3e619",
   "metadata": {},
   "outputs": [
    {
     "data": {
      "text/plain": [
       "{'learning_decay': 0.7, 'n_components': 5}"
      ]
     },
     "execution_count": 12,
     "metadata": {},
     "output_type": "execute_result"
    }
   ],
   "source": [
    "model.best_params_"
   ]
  },
  {
   "cell_type": "code",
   "execution_count": 13,
   "id": "9468f6aa",
   "metadata": {},
   "outputs": [
    {
     "data": {
      "text/plain": [
       "CountVectorizer(max_features=5000, stop_words='english')"
      ]
     },
     "execution_count": 13,
     "metadata": {},
     "output_type": "execute_result"
    }
   ],
   "source": [
    "count_vector"
   ]
  },
  {
   "cell_type": "code",
   "execution_count": 14,
   "id": "1bf2b03f",
   "metadata": {},
   "outputs": [
    {
     "data": {
      "text/plain": [
       "<9489x5000 sparse matrix of type '<class 'numpy.int64'>'\n",
       "\twith 701351 stored elements in Compressed Sparse Row format>"
      ]
     },
     "execution_count": 14,
     "metadata": {},
     "output_type": "execute_result"
    }
   ],
   "source": [
    "count_vector_fit"
   ]
  },
  {
   "cell_type": "markdown",
   "id": "8db26d4b",
   "metadata": {},
   "source": [
    "Los mejores parametros segun lo entregado por la funcion best_params_ es 0.5 para learning_decay y 5 para n_components."
   ]
  },
  {
   "cell_type": "markdown",
   "id": "3c23ed86",
   "metadata": {},
   "source": [
    "### Ejercicio 4 : Inferencia e Identificación de Tópicos "
   ]
  },
  {
   "cell_type": "code",
   "execution_count": 15,
   "id": "1eef9060",
   "metadata": {},
   "outputs": [],
   "source": [
    "lda_final = model.best_estimator_"
   ]
  },
  {
   "cell_type": "code",
   "execution_count": 16,
   "id": "214eac30",
   "metadata": {},
   "outputs": [
    {
     "data": {
      "text/plain": [
       "array([[  0.9310295 ,   0.20208087,   0.2088632 , ...,   0.2030844 ,\n",
       "          3.5533939 ,   0.20512669],\n",
       "       [ 20.89853627,   0.20328656,   5.44603062, ...,   0.21011122,\n",
       "          0.20035015,   0.20174982],\n",
       "       [  9.73170326,  26.71595099,  29.590815  , ...,   5.16740884,\n",
       "          5.37170143,   0.20283167],\n",
       "       [ 11.22865858, 125.67734518,  47.52689503, ...,  35.0822108 ,\n",
       "         27.67350417,  39.18924405],\n",
       "       [  0.2100724 ,   0.20133641,   0.22739616, ...,   9.33718474,\n",
       "          0.20105035,   0.20104777]])"
      ]
     },
     "execution_count": 16,
     "metadata": {},
     "output_type": "execute_result"
    }
   ],
   "source": [
    "lda_final.components_"
   ]
  },
  {
   "cell_type": "code",
   "execution_count": 17,
   "id": "108ca2f2",
   "metadata": {},
   "outputs": [
    {
     "name": "stdout",
     "output_type": "stream",
     "text": [
      "tópico: 1\n",
      "don love ll just know like let say ve time make feel away way want\n",
      "tópico: 2\n",
      "life world god man time death night light blood dead eyes die black soul like\n",
      "tópico: 3\n",
      "like just la cause don fuck em got shit ain know eminem man ll bitch\n",
      "tópico: 4\n",
      "like got shit don know yo ain nigga man ya niggas fuck cause yeah just\n",
      "tópico: 5\n",
      "oh yeah baby got know come don hey gonna love ooh girl just want ah\n"
     ]
    }
   ],
   "source": [
    "for topic_id, topic_name in enumerate(lda_final.components_):\n",
    "# para cada tópico\n",
    "    print(\"tópico: {}\".format(topic_id + 1))\n",
    "# mediante argsort logramos ordenar los elementos por magnitud\n",
    "# para los elementos más relevantes ordenados por argsort, buscamos su correlativo\n",
    "# en la matriz dispersa y devolvemos el nombre.\n",
    "# finalmente concatenamos las palabras\n",
    "    print(\" \".join([count_vector.get_feature_names()[i] for i in\n",
    "topic_name.argsort()[:-15 - 1: -1]]))\n",
    "    "
   ]
  },
  {
   "cell_type": "markdown",
   "id": "2890338a",
   "metadata": {},
   "source": [
    "- El tópico 1 creo pertenece al genero metal, ya que habla de vida, muerte, sangre.\n",
    "- El tópico 2 y 3 creo que pertenecen al genero pop.\n",
    "- El tópico 4 creo pertenece al genero hip hop, ya que mencionan bastante la palabra nigga.\n",
    "- El tópico 5 creo pertenece al genero rock, por la cantidad dde monosilabos que expresan euforia."
   ]
  },
  {
   "cell_type": "code",
   "execution_count": 18,
   "id": "a7944f7e",
   "metadata": {},
   "outputs": [
    {
     "data": {
      "text/plain": [
       "['oh',\n",
       " 'yeah',\n",
       " 'baby',\n",
       " 'got',\n",
       " 'know',\n",
       " 'come',\n",
       " 'don',\n",
       " 'hey',\n",
       " 'gonna',\n",
       " 'love',\n",
       " 'ooh',\n",
       " 'girl',\n",
       " 'just',\n",
       " 'want',\n",
       " 'ah']"
      ]
     },
     "execution_count": 18,
     "metadata": {},
     "output_type": "execute_result"
    }
   ],
   "source": [
    "([count_vector.get_feature_names()[i] for i in topic_name.argsort()[:-15 - 1: -1]])"
   ]
  },
  {
   "cell_type": "code",
   "execution_count": 19,
   "id": "0da5e86d",
   "metadata": {},
   "outputs": [
    {
     "data": {
      "text/plain": [
       "array([[0.00143763, 0.12849393, 0.71853994, 0.0014041 , 0.15012439],\n",
       "       [0.04976597, 0.05384372, 0.49880294, 0.06168546, 0.33590191],\n",
       "       [0.00098436, 0.20829472, 0.73877581, 0.00098673, 0.05095838],\n",
       "       ...,\n",
       "       [0.93028959, 0.06277593, 0.0023241 , 0.00230254, 0.00230784],\n",
       "       [0.68525379, 0.29875884, 0.00530948, 0.00531157, 0.00536632],\n",
       "       [0.80658363, 0.0320281 , 0.00218778, 0.10456144, 0.05463905]])"
      ]
     },
     "execution_count": 19,
     "metadata": {},
     "output_type": "execute_result"
    }
   ],
   "source": [
    "lda_final.transform(count_vector_fit)"
   ]
  },
  {
   "cell_type": "markdown",
   "id": "6984547d",
   "metadata": {},
   "source": [
    "### Ejercicio 5: Identificación de probabilidades"
   ]
  },
  {
   "cell_type": "code",
   "execution_count": 20,
   "id": "f2f2fb23",
   "metadata": {},
   "outputs": [],
   "source": [
    "# generamos una transformación de los datos a distribución de tópico por palabra en el documento\n",
    "fit_best_lda = lda_final.transform(count_vector_fit)\n",
    "# estra transformación la podemos coercionar a un dataframe de la siguiente manera\n",
    "topics_for_each_doc = pd.DataFrame(\n",
    "# pasamos esta matriz y la redondeamos en 3 decimales\n",
    "np.round(fit_best_lda, 3),\n",
    "# agregamos un índice\n",
    "index=df.index\n",
    ")\n",
    "#agregamos identificadores de columna\n",
    "topics_for_each_doc.columns = list(map(lambda x: \"T: {}\".format(x),\n",
    "range(1, lda_final.n_components + 1)))\n",
    "# concatenamos las probabilidades de tópico por documento a nuestra matriz original\n",
    "concatenated_df = pd.concat([df, topics_for_each_doc], axis=1)\n",
    "# argmax en la matriz de tópicos\n",
    "concatenated_df['highest_topic'] = np.argmax(topics_for_each_doc.values, axis=1) +1"
   ]
  },
  {
   "cell_type": "code",
   "execution_count": 21,
   "id": "4a8cf815",
   "metadata": {},
   "outputs": [
    {
     "data": {
      "text/html": [
       "<div>\n",
       "<style scoped>\n",
       "    .dataframe tbody tr th:only-of-type {\n",
       "        vertical-align: middle;\n",
       "    }\n",
       "\n",
       "    .dataframe tbody tr th {\n",
       "        vertical-align: top;\n",
       "    }\n",
       "\n",
       "    .dataframe thead th {\n",
       "        text-align: right;\n",
       "    }\n",
       "</style>\n",
       "<table border=\"1\" class=\"dataframe\">\n",
       "  <thead>\n",
       "    <tr style=\"text-align: right;\">\n",
       "      <th></th>\n",
       "      <th>artist</th>\n",
       "      <th>style</th>\n",
       "      <th>song</th>\n",
       "      <th>letter</th>\n",
       "      <th>T: 1</th>\n",
       "      <th>T: 2</th>\n",
       "      <th>T: 3</th>\n",
       "      <th>T: 4</th>\n",
       "      <th>T: 5</th>\n",
       "      <th>highest_topic</th>\n",
       "    </tr>\n",
       "  </thead>\n",
       "  <tbody>\n",
       "    <tr>\n",
       "      <th>0</th>\n",
       "      <td>De La Soul</td>\n",
       "      <td>hiphop</td>\n",
       "      <td>Jenifa Taught Me (Derwin's Revenge)</td>\n",
       "      <td>DOVE: \\n Access to her code \\n Lovestruck was ...</td>\n",
       "      <td>0.001</td>\n",
       "      <td>0.128</td>\n",
       "      <td>0.719</td>\n",
       "      <td>0.001</td>\n",
       "      <td>0.150</td>\n",
       "      <td>3</td>\n",
       "    </tr>\n",
       "    <tr>\n",
       "      <th>1</th>\n",
       "      <td>De La Soul</td>\n",
       "      <td>hiphop</td>\n",
       "      <td>Potholes In My Lawn</td>\n",
       "      <td>(Yo, something's wrong here. No, not again!) \\...</td>\n",
       "      <td>0.050</td>\n",
       "      <td>0.054</td>\n",
       "      <td>0.499</td>\n",
       "      <td>0.062</td>\n",
       "      <td>0.336</td>\n",
       "      <td>3</td>\n",
       "    </tr>\n",
       "    <tr>\n",
       "      <th>2</th>\n",
       "      <td>De La Soul</td>\n",
       "      <td>hiphop</td>\n",
       "      <td>The Magic Number</td>\n",
       "      <td>POS \\n 3 \\n That's the Magic Number \\n Yes it ...</td>\n",
       "      <td>0.001</td>\n",
       "      <td>0.208</td>\n",
       "      <td>0.739</td>\n",
       "      <td>0.001</td>\n",
       "      <td>0.051</td>\n",
       "      <td>3</td>\n",
       "    </tr>\n",
       "    <tr>\n",
       "      <th>3</th>\n",
       "      <td>De La Soul</td>\n",
       "      <td>hiphop</td>\n",
       "      <td>Change In Speak</td>\n",
       "      <td>POS: \\n Once again it's time to bite more soul...</td>\n",
       "      <td>0.104</td>\n",
       "      <td>0.261</td>\n",
       "      <td>0.360</td>\n",
       "      <td>0.260</td>\n",
       "      <td>0.016</td>\n",
       "      <td>3</td>\n",
       "    </tr>\n",
       "    <tr>\n",
       "      <th>4</th>\n",
       "      <td>De La Soul</td>\n",
       "      <td>hiphop</td>\n",
       "      <td>Cool Breeze On The Rocks</td>\n",
       "      <td>Cool breeze \\n Rock that shit homie \\n Rock \\n...</td>\n",
       "      <td>0.004</td>\n",
       "      <td>0.004</td>\n",
       "      <td>0.004</td>\n",
       "      <td>0.558</td>\n",
       "      <td>0.429</td>\n",
       "      <td>4</td>\n",
       "    </tr>\n",
       "    <tr>\n",
       "      <th>...</th>\n",
       "      <td>...</td>\n",
       "      <td>...</td>\n",
       "      <td>...</td>\n",
       "      <td>...</td>\n",
       "      <td>...</td>\n",
       "      <td>...</td>\n",
       "      <td>...</td>\n",
       "      <td>...</td>\n",
       "      <td>...</td>\n",
       "      <td>...</td>\n",
       "    </tr>\n",
       "    <tr>\n",
       "      <th>9484</th>\n",
       "      <td>Nickelback</td>\n",
       "      <td>rock</td>\n",
       "      <td>Never Too Late</td>\n",
       "      <td>This world will never be what I expected \\n An...</td>\n",
       "      <td>0.991</td>\n",
       "      <td>0.002</td>\n",
       "      <td>0.002</td>\n",
       "      <td>0.002</td>\n",
       "      <td>0.002</td>\n",
       "      <td>1</td>\n",
       "    </tr>\n",
       "    <tr>\n",
       "      <th>9485</th>\n",
       "      <td>Nickelback</td>\n",
       "      <td>rock</td>\n",
       "      <td>Remind Me</td>\n",
       "      <td>Never made it as a wise man \\n I couldn't cut ...</td>\n",
       "      <td>0.789</td>\n",
       "      <td>0.002</td>\n",
       "      <td>0.183</td>\n",
       "      <td>0.002</td>\n",
       "      <td>0.024</td>\n",
       "      <td>1</td>\n",
       "    </tr>\n",
       "    <tr>\n",
       "      <th>9486</th>\n",
       "      <td>Nickelback</td>\n",
       "      <td>rock</td>\n",
       "      <td>Sick And Tired</td>\n",
       "      <td>I'm Feeling \\n This tension inside of me \\n Pr...</td>\n",
       "      <td>0.930</td>\n",
       "      <td>0.063</td>\n",
       "      <td>0.002</td>\n",
       "      <td>0.002</td>\n",
       "      <td>0.002</td>\n",
       "      <td>1</td>\n",
       "    </tr>\n",
       "    <tr>\n",
       "      <th>9487</th>\n",
       "      <td>Nickelback</td>\n",
       "      <td>rock</td>\n",
       "      <td>Take It All</td>\n",
       "      <td>Are you serious do you believe in this? Destro...</td>\n",
       "      <td>0.685</td>\n",
       "      <td>0.299</td>\n",
       "      <td>0.005</td>\n",
       "      <td>0.005</td>\n",
       "      <td>0.005</td>\n",
       "      <td>1</td>\n",
       "    </tr>\n",
       "    <tr>\n",
       "      <th>9488</th>\n",
       "      <td>Nickelback</td>\n",
       "      <td>rock</td>\n",
       "      <td>Track-3</td>\n",
       "      <td>I paid my last respects this morning on an ear...</td>\n",
       "      <td>0.807</td>\n",
       "      <td>0.032</td>\n",
       "      <td>0.002</td>\n",
       "      <td>0.105</td>\n",
       "      <td>0.055</td>\n",
       "      <td>1</td>\n",
       "    </tr>\n",
       "  </tbody>\n",
       "</table>\n",
       "<p>9489 rows × 10 columns</p>\n",
       "</div>"
      ],
      "text/plain": [
       "          artist   style                                 song  \\\n",
       "0     De La Soul  hiphop  Jenifa Taught Me (Derwin's Revenge)   \n",
       "1     De La Soul  hiphop                  Potholes In My Lawn   \n",
       "2     De La Soul  hiphop                     The Magic Number   \n",
       "3     De La Soul  hiphop                      Change In Speak   \n",
       "4     De La Soul  hiphop             Cool Breeze On The Rocks   \n",
       "...          ...     ...                                  ...   \n",
       "9484  Nickelback    rock                       Never Too Late   \n",
       "9485  Nickelback    rock                            Remind Me   \n",
       "9486  Nickelback    rock                       Sick And Tired   \n",
       "9487  Nickelback    rock                          Take It All   \n",
       "9488  Nickelback    rock                              Track-3   \n",
       "\n",
       "                                                 letter   T: 1   T: 2   T: 3  \\\n",
       "0     DOVE: \\n Access to her code \\n Lovestruck was ...  0.001  0.128  0.719   \n",
       "1     (Yo, something's wrong here. No, not again!) \\...  0.050  0.054  0.499   \n",
       "2     POS \\n 3 \\n That's the Magic Number \\n Yes it ...  0.001  0.208  0.739   \n",
       "3     POS: \\n Once again it's time to bite more soul...  0.104  0.261  0.360   \n",
       "4     Cool breeze \\n Rock that shit homie \\n Rock \\n...  0.004  0.004  0.004   \n",
       "...                                                 ...    ...    ...    ...   \n",
       "9484  This world will never be what I expected \\n An...  0.991  0.002  0.002   \n",
       "9485  Never made it as a wise man \\n I couldn't cut ...  0.789  0.002  0.183   \n",
       "9486  I'm Feeling \\n This tension inside of me \\n Pr...  0.930  0.063  0.002   \n",
       "9487  Are you serious do you believe in this? Destro...  0.685  0.299  0.005   \n",
       "9488  I paid my last respects this morning on an ear...  0.807  0.032  0.002   \n",
       "\n",
       "       T: 4   T: 5  highest_topic  \n",
       "0     0.001  0.150              3  \n",
       "1     0.062  0.336              3  \n",
       "2     0.001  0.051              3  \n",
       "3     0.260  0.016              3  \n",
       "4     0.558  0.429              4  \n",
       "...     ...    ...            ...  \n",
       "9484  0.002  0.002              1  \n",
       "9485  0.002  0.024              1  \n",
       "9486  0.002  0.002              1  \n",
       "9487  0.005  0.005              1  \n",
       "9488  0.105  0.055              1  \n",
       "\n",
       "[9489 rows x 10 columns]"
      ]
     },
     "execution_count": 21,
     "metadata": {},
     "output_type": "execute_result"
    }
   ],
   "source": [
    "concatenated_df"
   ]
  },
  {
   "cell_type": "code",
   "execution_count": 22,
   "id": "43ce07d4",
   "metadata": {},
   "outputs": [
    {
     "data": {
      "text/plain": [
       "Index(['artist', 'style', 'song', 'letter', 'T: 1', 'T: 2', 'T: 3', 'T: 4',\n",
       "       'T: 5', 'highest_topic'],\n",
       "      dtype='object')"
      ]
     },
     "execution_count": 22,
     "metadata": {},
     "output_type": "execute_result"
    }
   ],
   "source": [
    "concatenated_df.columns"
   ]
  },
  {
   "cell_type": "code",
   "execution_count": 23,
   "id": "686fc2fc",
   "metadata": {},
   "outputs": [],
   "source": [
    "df_corr=concatenated_df.loc[:,['T: 1', 'T: 2', 'T: 3', 'T: 4','T: 5']].corr(method='pearson')"
   ]
  },
  {
   "cell_type": "code",
   "execution_count": 24,
   "id": "d46adea8",
   "metadata": {},
   "outputs": [
    {
     "data": {
      "image/png": "[encoded data removed]",
      "text/plain": [
       "<Figure size 576x432 with 2 Axes>"
      ]
     },
     "metadata": {
      "needs_background": "light"
     },
     "output_type": "display_data"
    }
   ],
   "source": [
    "plt.figure(figsize=(8, 6))\n",
    "sns.heatmap(df_corr, annot=True)\n",
    "plt.title('Grafico de correlaciones entre los topicos')\n",
    "plt.show()"
   ]
  },
  {
   "cell_type": "markdown",
   "id": "8aaf6022",
   "metadata": {},
   "source": [
    "#### Las principales correlaciones que muestra el grafico son entre T4 y T1 con un 39% y T3 y T1 con un 36%."
   ]
  },
  {
   "cell_type": "code",
   "execution_count": 25,
   "id": "04a5326d",
   "metadata": {},
   "outputs": [],
   "source": [
    "dela_soul = concatenated_df[concatenated_df['artist']=='De La Soul']"
   ]
  },
  {
   "cell_type": "code",
   "execution_count": 26,
   "id": "aebc31da",
   "metadata": {},
   "outputs": [
    {
     "data": {
      "text/html": [
       "<div>\n",
       "<style scoped>\n",
       "    .dataframe tbody tr th:only-of-type {\n",
       "        vertical-align: middle;\n",
       "    }\n",
       "\n",
       "    .dataframe tbody tr th {\n",
       "        vertical-align: top;\n",
       "    }\n",
       "\n",
       "    .dataframe thead th {\n",
       "        text-align: right;\n",
       "    }\n",
       "</style>\n",
       "<table border=\"1\" class=\"dataframe\">\n",
       "  <thead>\n",
       "    <tr style=\"text-align: right;\">\n",
       "      <th></th>\n",
       "      <th>artist</th>\n",
       "      <th>style</th>\n",
       "      <th>song</th>\n",
       "      <th>letter</th>\n",
       "      <th>T: 1</th>\n",
       "      <th>T: 2</th>\n",
       "      <th>T: 3</th>\n",
       "      <th>T: 4</th>\n",
       "      <th>T: 5</th>\n",
       "      <th>highest_topic</th>\n",
       "    </tr>\n",
       "  </thead>\n",
       "  <tbody>\n",
       "    <tr>\n",
       "      <th>0</th>\n",
       "      <td>De La Soul</td>\n",
       "      <td>hiphop</td>\n",
       "      <td>Jenifa Taught Me (Derwin's Revenge)</td>\n",
       "      <td>DOVE: \\n Access to her code \\n Lovestruck was ...</td>\n",
       "      <td>0.001</td>\n",
       "      <td>0.128</td>\n",
       "      <td>0.719</td>\n",
       "      <td>0.001</td>\n",
       "      <td>0.150</td>\n",
       "      <td>3</td>\n",
       "    </tr>\n",
       "    <tr>\n",
       "      <th>1</th>\n",
       "      <td>De La Soul</td>\n",
       "      <td>hiphop</td>\n",
       "      <td>Potholes In My Lawn</td>\n",
       "      <td>(Yo, something's wrong here. No, not again!) \\...</td>\n",
       "      <td>0.050</td>\n",
       "      <td>0.054</td>\n",
       "      <td>0.499</td>\n",
       "      <td>0.062</td>\n",
       "      <td>0.336</td>\n",
       "      <td>3</td>\n",
       "    </tr>\n",
       "    <tr>\n",
       "      <th>2</th>\n",
       "      <td>De La Soul</td>\n",
       "      <td>hiphop</td>\n",
       "      <td>The Magic Number</td>\n",
       "      <td>POS \\n 3 \\n That's the Magic Number \\n Yes it ...</td>\n",
       "      <td>0.001</td>\n",
       "      <td>0.208</td>\n",
       "      <td>0.739</td>\n",
       "      <td>0.001</td>\n",
       "      <td>0.051</td>\n",
       "      <td>3</td>\n",
       "    </tr>\n",
       "    <tr>\n",
       "      <th>3</th>\n",
       "      <td>De La Soul</td>\n",
       "      <td>hiphop</td>\n",
       "      <td>Change In Speak</td>\n",
       "      <td>POS: \\n Once again it's time to bite more soul...</td>\n",
       "      <td>0.104</td>\n",
       "      <td>0.261</td>\n",
       "      <td>0.360</td>\n",
       "      <td>0.260</td>\n",
       "      <td>0.016</td>\n",
       "      <td>3</td>\n",
       "    </tr>\n",
       "    <tr>\n",
       "      <th>4</th>\n",
       "      <td>De La Soul</td>\n",
       "      <td>hiphop</td>\n",
       "      <td>Cool Breeze On The Rocks</td>\n",
       "      <td>Cool breeze \\n Rock that shit homie \\n Rock \\n...</td>\n",
       "      <td>0.004</td>\n",
       "      <td>0.004</td>\n",
       "      <td>0.004</td>\n",
       "      <td>0.558</td>\n",
       "      <td>0.429</td>\n",
       "      <td>4</td>\n",
       "    </tr>\n",
       "    <tr>\n",
       "      <th>...</th>\n",
       "      <td>...</td>\n",
       "      <td>...</td>\n",
       "      <td>...</td>\n",
       "      <td>...</td>\n",
       "      <td>...</td>\n",
       "      <td>...</td>\n",
       "      <td>...</td>\n",
       "      <td>...</td>\n",
       "      <td>...</td>\n",
       "      <td>...</td>\n",
       "    </tr>\n",
       "    <tr>\n",
       "      <th>169</th>\n",
       "      <td>De La Soul</td>\n",
       "      <td>hiphop</td>\n",
       "      <td>Stakes Is High (Remix)</td>\n",
       "      <td>*Trugoy:* \\n (Vibes... Vibrations...) \\n Yeah....</td>\n",
       "      <td>0.056</td>\n",
       "      <td>0.186</td>\n",
       "      <td>0.076</td>\n",
       "      <td>0.682</td>\n",
       "      <td>0.000</td>\n",
       "      <td>4</td>\n",
       "    </tr>\n",
       "    <tr>\n",
       "      <th>170</th>\n",
       "      <td>De La Soul</td>\n",
       "      <td>hiphop</td>\n",
       "      <td>Stix Stonz</td>\n",
       "      <td>Chorus: all \\n If you can dig it, deal with it...</td>\n",
       "      <td>0.042</td>\n",
       "      <td>0.091</td>\n",
       "      <td>0.333</td>\n",
       "      <td>0.534</td>\n",
       "      <td>0.000</td>\n",
       "      <td>4</td>\n",
       "    </tr>\n",
       "    <tr>\n",
       "      <th>171</th>\n",
       "      <td>De La Soul</td>\n",
       "      <td>hiphop</td>\n",
       "      <td>Weed #1 - Pharoahe Monch</td>\n",
       "      <td>(Announcer) \\n Hey hip-hoppers, tired of that ...</td>\n",
       "      <td>0.001</td>\n",
       "      <td>0.001</td>\n",
       "      <td>0.219</td>\n",
       "      <td>0.694</td>\n",
       "      <td>0.084</td>\n",
       "      <td>4</td>\n",
       "    </tr>\n",
       "    <tr>\n",
       "      <th>172</th>\n",
       "      <td>De La Soul</td>\n",
       "      <td>hiphop</td>\n",
       "      <td>Weed #2 - Phife Dawg</td>\n",
       "      <td>(Announcer) \\n Still not convinced about Ghost...</td>\n",
       "      <td>0.002</td>\n",
       "      <td>0.002</td>\n",
       "      <td>0.042</td>\n",
       "      <td>0.952</td>\n",
       "      <td>0.002</td>\n",
       "      <td>4</td>\n",
       "    </tr>\n",
       "    <tr>\n",
       "      <th>173</th>\n",
       "      <td>De La Soul</td>\n",
       "      <td>hiphop</td>\n",
       "      <td>Weed #3 - Black Thought</td>\n",
       "      <td>(Announcer) \\n And you thought ghost weed was ...</td>\n",
       "      <td>0.002</td>\n",
       "      <td>0.065</td>\n",
       "      <td>0.002</td>\n",
       "      <td>0.877</td>\n",
       "      <td>0.056</td>\n",
       "      <td>4</td>\n",
       "    </tr>\n",
       "  </tbody>\n",
       "</table>\n",
       "<p>174 rows × 10 columns</p>\n",
       "</div>"
      ],
      "text/plain": [
       "         artist   style                                 song  \\\n",
       "0    De La Soul  hiphop  Jenifa Taught Me (Derwin's Revenge)   \n",
       "1    De La Soul  hiphop                  Potholes In My Lawn   \n",
       "2    De La Soul  hiphop                     The Magic Number   \n",
       "3    De La Soul  hiphop                      Change In Speak   \n",
       "4    De La Soul  hiphop             Cool Breeze On The Rocks   \n",
       "..          ...     ...                                  ...   \n",
       "169  De La Soul  hiphop               Stakes Is High (Remix)   \n",
       "170  De La Soul  hiphop                           Stix Stonz   \n",
       "171  De La Soul  hiphop             Weed #1 - Pharoahe Monch   \n",
       "172  De La Soul  hiphop                 Weed #2 - Phife Dawg   \n",
       "173  De La Soul  hiphop              Weed #3 - Black Thought   \n",
       "\n",
       "                                                letter   T: 1   T: 2   T: 3  \\\n",
       "0    DOVE: \\n Access to her code \\n Lovestruck was ...  0.001  0.128  0.719   \n",
       "1    (Yo, something's wrong here. No, not again!) \\...  0.050  0.054  0.499   \n",
       "2    POS \\n 3 \\n That's the Magic Number \\n Yes it ...  0.001  0.208  0.739   \n",
       "3    POS: \\n Once again it's time to bite more soul...  0.104  0.261  0.360   \n",
       "4    Cool breeze \\n Rock that shit homie \\n Rock \\n...  0.004  0.004  0.004   \n",
       "..                                                 ...    ...    ...    ...   \n",
       "169  *Trugoy:* \\n (Vibes... Vibrations...) \\n Yeah....  0.056  0.186  0.076   \n",
       "170  Chorus: all \\n If you can dig it, deal with it...  0.042  0.091  0.333   \n",
       "171  (Announcer) \\n Hey hip-hoppers, tired of that ...  0.001  0.001  0.219   \n",
       "172  (Announcer) \\n Still not convinced about Ghost...  0.002  0.002  0.042   \n",
       "173  (Announcer) \\n And you thought ghost weed was ...  0.002  0.065  0.002   \n",
       "\n",
       "      T: 4   T: 5  highest_topic  \n",
       "0    0.001  0.150              3  \n",
       "1    0.062  0.336              3  \n",
       "2    0.001  0.051              3  \n",
       "3    0.260  0.016              3  \n",
       "4    0.558  0.429              4  \n",
       "..     ...    ...            ...  \n",
       "169  0.682  0.000              4  \n",
       "170  0.534  0.000              4  \n",
       "171  0.694  0.084              4  \n",
       "172  0.952  0.002              4  \n",
       "173  0.877  0.056              4  \n",
       "\n",
       "[174 rows x 10 columns]"
      ]
     },
     "execution_count": 26,
     "metadata": {},
     "output_type": "execute_result"
    }
   ],
   "source": [
    "dela_soul"
   ]
  },
  {
   "cell_type": "code",
   "execution_count": 27,
   "id": "062816de",
   "metadata": {},
   "outputs": [
    {
     "data": {
      "text/html": [
       "<div>\n",
       "<style scoped>\n",
       "    .dataframe tbody tr th:only-of-type {\n",
       "        vertical-align: middle;\n",
       "    }\n",
       "\n",
       "    .dataframe tbody tr th {\n",
       "        vertical-align: top;\n",
       "    }\n",
       "\n",
       "    .dataframe thead th {\n",
       "        text-align: right;\n",
       "    }\n",
       "</style>\n",
       "<table border=\"1\" class=\"dataframe\">\n",
       "  <thead>\n",
       "    <tr style=\"text-align: right;\">\n",
       "      <th></th>\n",
       "      <th>T: 1</th>\n",
       "      <th>T: 2</th>\n",
       "      <th>T: 3</th>\n",
       "      <th>T: 4</th>\n",
       "      <th>T: 5</th>\n",
       "      <th>highest_topic</th>\n",
       "    </tr>\n",
       "  </thead>\n",
       "  <tbody>\n",
       "    <tr>\n",
       "      <th>count</th>\n",
       "      <td>174.000000</td>\n",
       "      <td>174.000000</td>\n",
       "      <td>174.000000</td>\n",
       "      <td>174.000000</td>\n",
       "      <td>174.000000</td>\n",
       "      <td>174.000000</td>\n",
       "    </tr>\n",
       "    <tr>\n",
       "      <th>mean</th>\n",
       "      <td>0.088236</td>\n",
       "      <td>0.078477</td>\n",
       "      <td>0.317299</td>\n",
       "      <td>0.393776</td>\n",
       "      <td>0.122305</td>\n",
       "      <td>3.609195</td>\n",
       "    </tr>\n",
       "    <tr>\n",
       "      <th>std</th>\n",
       "      <td>0.138302</td>\n",
       "      <td>0.102389</td>\n",
       "      <td>0.261788</td>\n",
       "      <td>0.281349</td>\n",
       "      <td>0.181672</td>\n",
       "      <td>0.837783</td>\n",
       "    </tr>\n",
       "    <tr>\n",
       "      <th>min</th>\n",
       "      <td>0.001000</td>\n",
       "      <td>0.000000</td>\n",
       "      <td>0.001000</td>\n",
       "      <td>0.001000</td>\n",
       "      <td>0.000000</td>\n",
       "      <td>1.000000</td>\n",
       "    </tr>\n",
       "    <tr>\n",
       "      <th>25%</th>\n",
       "      <td>0.001000</td>\n",
       "      <td>0.002000</td>\n",
       "      <td>0.109000</td>\n",
       "      <td>0.094750</td>\n",
       "      <td>0.001000</td>\n",
       "      <td>3.000000</td>\n",
       "    </tr>\n",
       "    <tr>\n",
       "      <th>50%</th>\n",
       "      <td>0.017000</td>\n",
       "      <td>0.049000</td>\n",
       "      <td>0.250500</td>\n",
       "      <td>0.428000</td>\n",
       "      <td>0.048000</td>\n",
       "      <td>4.000000</td>\n",
       "    </tr>\n",
       "    <tr>\n",
       "      <th>75%</th>\n",
       "      <td>0.131000</td>\n",
       "      <td>0.115250</td>\n",
       "      <td>0.457750</td>\n",
       "      <td>0.632500</td>\n",
       "      <td>0.166750</td>\n",
       "      <td>4.000000</td>\n",
       "    </tr>\n",
       "    <tr>\n",
       "      <th>max</th>\n",
       "      <td>0.953000</td>\n",
       "      <td>0.794000</td>\n",
       "      <td>0.933000</td>\n",
       "      <td>0.957000</td>\n",
       "      <td>0.987000</td>\n",
       "      <td>5.000000</td>\n",
       "    </tr>\n",
       "  </tbody>\n",
       "</table>\n",
       "</div>"
      ],
      "text/plain": [
       "             T: 1        T: 2        T: 3        T: 4        T: 5  \\\n",
       "count  174.000000  174.000000  174.000000  174.000000  174.000000   \n",
       "mean     0.088236    0.078477    0.317299    0.393776    0.122305   \n",
       "std      0.138302    0.102389    0.261788    0.281349    0.181672   \n",
       "min      0.001000    0.000000    0.001000    0.001000    0.000000   \n",
       "25%      0.001000    0.002000    0.109000    0.094750    0.001000   \n",
       "50%      0.017000    0.049000    0.250500    0.428000    0.048000   \n",
       "75%      0.131000    0.115250    0.457750    0.632500    0.166750   \n",
       "max      0.953000    0.794000    0.933000    0.957000    0.987000   \n",
       "\n",
       "       highest_topic  \n",
       "count     174.000000  \n",
       "mean        3.609195  \n",
       "std         0.837783  \n",
       "min         1.000000  \n",
       "25%         3.000000  \n",
       "50%         4.000000  \n",
       "75%         4.000000  \n",
       "max         5.000000  "
      ]
     },
     "execution_count": 27,
     "metadata": {},
     "output_type": "execute_result"
    }
   ],
   "source": [
    "dela_soul.describe()"
   ]
  },
  {
   "cell_type": "markdown",
   "id": "ce0c0f07",
   "metadata": {},
   "source": [
    "#### Se observa que el promedio de la probabilidad de los topicos de la agrupacion De La Soul los situa mayoriatariamente ,con un 58% de probabilidades, de pertenecer al topico 4."
   ]
  },
  {
   "cell_type": "code",
   "execution_count": 40,
   "id": "bf34df97",
   "metadata": {},
   "outputs": [
    {
     "data": {
      "image/png": "[encoded data removed]",
      "text/plain": [
       "<Figure size 413.625x360 with 1 Axes>"
      ]
     },
     "metadata": {
      "needs_background": "light"
     },
     "output_type": "display_data"
    }
   ],
   "source": [
    "sns.displot(data=dela_soul.drop('highest_topic', axis=1))\n",
    "plt.title('Distribución de Probabilidades')\n",
    "plt.xlabel('Probabilidades')\n",
    "plt.show()"
   ]
  },
  {
   "cell_type": "markdown",
   "id": "1e1caa9b",
   "metadata": {},
   "source": [
    "#### Se observa que la probabilidad del Topico 1 esta mayoritariamente entre 0 y 0.2. Y los Topicos que presentan las mayores probabilidades son el Topico 4 y luego el Topico 3."
   ]
  },
  {
   "cell_type": "code",
   "execution_count": null,
   "id": "6d42f34e",
   "metadata": {},
   "outputs": [],
   "source": []
  }
 ],
 "metadata": {
  "kernelspec": {
   "display_name": "Python 3 (ipykernel)",
   "language": "python",
   "name": "python3"
  },
  "language_info": {
   "codemirror_mode": {
    "name": "ipython",
    "version": 3
   },
   "file_extension": ".py",
   "mimetype": "text/x-python",
   "name": "python",
   "nbconvert_exporter": "python",
   "pygments_lexer": "ipython3",
   "version": "3.8.8"
  }
 },
 "nbformat": 4,
 "nbformat_minor": 5
}
