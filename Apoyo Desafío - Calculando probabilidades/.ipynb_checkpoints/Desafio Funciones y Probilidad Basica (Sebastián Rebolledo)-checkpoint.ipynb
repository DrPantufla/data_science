{
 "cells": [
  {
   "cell_type": "markdown",
   "id": "aaa67747",
   "metadata": {},
   "source": [
    "**Desafio 1**"
   ]
  },
  {
   "cell_type": "code",
   "execution_count": 1,
   "id": "5423f07a",
   "metadata": {},
   "outputs": [],
   "source": [
    "import pandas as pd\n",
    "import numpy as np"
   ]
  },
  {
   "cell_type": "code",
   "execution_count": 2,
   "id": "759bea2f",
   "metadata": {},
   "outputs": [],
   "source": [
    "df = pd.read_csv(\"worldcup2014.csv\")"
   ]
  },
  {
   "cell_type": "code",
   "execution_count": 3,
   "id": "19672d33",
   "metadata": {},
   "outputs": [],
   "source": [
    "def media(x):\n",
    "    '''\n",
    "    Esta funcion calcula la media aritmetica de una serie de pandas.\n",
    "    Entra: una serie de pandas\n",
    "    Sale: un numero que representa la media de la serie.\n",
    "    '''\n",
    "    promedio = x.sum()/len(x)\n",
    "    return promedio"
   ]
  },
  {
   "cell_type": "code",
   "execution_count": 4,
   "id": "e0d82486",
   "metadata": {},
   "outputs": [
    {
     "data": {
      "text/html": [
       "<div>\n",
       "<style scoped>\n",
       "    .dataframe tbody tr th:only-of-type {\n",
       "        vertical-align: middle;\n",
       "    }\n",
       "\n",
       "    .dataframe tbody tr th {\n",
       "        vertical-align: top;\n",
       "    }\n",
       "\n",
       "    .dataframe thead th {\n",
       "        text-align: right;\n",
       "    }\n",
       "</style>\n",
       "<table border=\"1\" class=\"dataframe\">\n",
       "  <thead>\n",
       "    <tr style=\"text-align: right;\">\n",
       "      <th></th>\n",
       "      <th>team</th>\n",
       "      <th>continent</th>\n",
       "      <th>group</th>\n",
       "      <th>group_pos</th>\n",
       "      <th>cantidad_juegos</th>\n",
       "      <th>juegos_ganados</th>\n",
       "      <th>juegos_empatados</th>\n",
       "      <th>juegos_perdidos</th>\n",
       "      <th>goles_favor</th>\n",
       "      <th>goles_contra</th>\n",
       "      <th>goles_diferencia</th>\n",
       "      <th>puntos</th>\n",
       "      <th>clasificado</th>\n",
       "    </tr>\n",
       "  </thead>\n",
       "  <tbody>\n",
       "    <tr>\n",
       "      <th>0</th>\n",
       "      <td>Brazil</td>\n",
       "      <td>southamerica</td>\n",
       "      <td>A</td>\n",
       "      <td>1</td>\n",
       "      <td>3</td>\n",
       "      <td>2</td>\n",
       "      <td>1</td>\n",
       "      <td>0</td>\n",
       "      <td>7</td>\n",
       "      <td>2</td>\n",
       "      <td>5</td>\n",
       "      <td>7</td>\n",
       "      <td>1</td>\n",
       "    </tr>\n",
       "    <tr>\n",
       "      <th>1</th>\n",
       "      <td>Mexico</td>\n",
       "      <td>northamerica</td>\n",
       "      <td>A</td>\n",
       "      <td>2</td>\n",
       "      <td>3</td>\n",
       "      <td>2</td>\n",
       "      <td>1</td>\n",
       "      <td>0</td>\n",
       "      <td>4</td>\n",
       "      <td>1</td>\n",
       "      <td>3</td>\n",
       "      <td>7</td>\n",
       "      <td>1</td>\n",
       "    </tr>\n",
       "    <tr>\n",
       "      <th>2</th>\n",
       "      <td>Croatia</td>\n",
       "      <td>europe</td>\n",
       "      <td>A</td>\n",
       "      <td>3</td>\n",
       "      <td>3</td>\n",
       "      <td>1</td>\n",
       "      <td>0</td>\n",
       "      <td>2</td>\n",
       "      <td>6</td>\n",
       "      <td>6</td>\n",
       "      <td>0</td>\n",
       "      <td>3</td>\n",
       "      <td>0</td>\n",
       "    </tr>\n",
       "    <tr>\n",
       "      <th>3</th>\n",
       "      <td>Cameroon</td>\n",
       "      <td>africa</td>\n",
       "      <td>A</td>\n",
       "      <td>4</td>\n",
       "      <td>3</td>\n",
       "      <td>0</td>\n",
       "      <td>0</td>\n",
       "      <td>3</td>\n",
       "      <td>1</td>\n",
       "      <td>9</td>\n",
       "      <td>−8</td>\n",
       "      <td>0</td>\n",
       "      <td>0</td>\n",
       "    </tr>\n",
       "    <tr>\n",
       "      <th>4</th>\n",
       "      <td>Netherlands</td>\n",
       "      <td>europe</td>\n",
       "      <td>B</td>\n",
       "      <td>1</td>\n",
       "      <td>3</td>\n",
       "      <td>3</td>\n",
       "      <td>0</td>\n",
       "      <td>0</td>\n",
       "      <td>10</td>\n",
       "      <td>3</td>\n",
       "      <td>7</td>\n",
       "      <td>9</td>\n",
       "      <td>1</td>\n",
       "    </tr>\n",
       "  </tbody>\n",
       "</table>\n",
       "</div>"
      ],
      "text/plain": [
       "          team     continent group  group_pos  cantidad_juegos  \\\n",
       "0       Brazil  southamerica     A          1                3   \n",
       "1       Mexico  northamerica     A          2                3   \n",
       "2      Croatia        europe     A          3                3   \n",
       "3     Cameroon        africa     A          4                3   \n",
       "4  Netherlands        europe     B          1                3   \n",
       "\n",
       "   juegos_ganados  juegos_empatados  juegos_perdidos  goles_favor  \\\n",
       "0               2                 1                0            7   \n",
       "1               2                 1                0            4   \n",
       "2               1                 0                2            6   \n",
       "3               0                 0                3            1   \n",
       "4               3                 0                0           10   \n",
       "\n",
       "   goles_contra goles_diferencia  puntos  clasificado  \n",
       "0             2                5       7            1  \n",
       "1             1                3       7            1  \n",
       "2             6                0       3            0  \n",
       "3             9               −8       0            0  \n",
       "4             3                7       9            1  "
      ]
     },
     "execution_count": 4,
     "metadata": {},
     "output_type": "execute_result"
    }
   ],
   "source": [
    "df.head()"
   ]
  },
  {
   "cell_type": "code",
   "execution_count": 5,
   "id": "cf84a725",
   "metadata": {},
   "outputs": [
    {
     "data": {
      "text/plain": [
       "1.21875"
      ]
     },
     "execution_count": 5,
     "metadata": {},
     "output_type": "execute_result"
    }
   ],
   "source": [
    "media(df['juegos_ganados'])"
   ]
  },
  {
   "cell_type": "code",
   "execution_count": 6,
   "id": "b6ca0647",
   "metadata": {},
   "outputs": [
    {
     "data": {
      "text/plain": [
       "1.21875"
      ]
     },
     "execution_count": 6,
     "metadata": {},
     "output_type": "execute_result"
    }
   ],
   "source": [
    "df['juegos_ganados'].mean()"
   ]
  },
  {
   "cell_type": "code",
   "execution_count": 7,
   "id": "22c362b6",
   "metadata": {},
   "outputs": [
    {
     "data": {
      "text/plain": [
       "1.0075321174741456"
      ]
     },
     "execution_count": 7,
     "metadata": {},
     "output_type": "execute_result"
    }
   ],
   "source": [
    "def desviacion_standar(x):\n",
    "    '''\n",
    "    Esta funcion calcula la desviacion estandar de una serie de numeros y para eso ocupa tambien la funcion media.\n",
    "    Entra una serie de pandas numerica\n",
    "    Sale un solo valor numerico que corresponde a la varianza de la serie\n",
    "    '''\n",
    "    \n",
    "    sumatoria = (x-media(x))**2\n",
    "    desviacion = ((sumatoria.sum())/(len(x)-1))**(1/2)\n",
    "    return desviacion \n",
    "desviacion_standar(df['juegos_ganados'])\n"
   ]
  },
  {
   "cell_type": "code",
   "execution_count": 8,
   "id": "84fef757",
   "metadata": {},
   "outputs": [
    {
     "data": {
      "text/plain": [
       "1.0075321174741456"
      ]
     },
     "execution_count": 8,
     "metadata": {},
     "output_type": "execute_result"
    }
   ],
   "source": [
    "df['juegos_ganados'].std()"
   ]
  },
  {
   "cell_type": "markdown",
   "id": "77bdbf6f",
   "metadata": {},
   "source": [
    "Utilizando las funciones creadas."
   ]
  },
  {
   "cell_type": "code",
   "execution_count": 9,
   "id": "17847843",
   "metadata": {},
   "outputs": [
    {
     "name": "stdout",
     "output_type": "stream",
     "text": [
      "4.25\n",
      "4.25\n",
      "4.21875\n"
     ]
    }
   ],
   "source": [
    "print(media(df['goles_favor']))\n",
    "print(media(df['goles_contra']))\n",
    "print(media(df['puntos']))"
   ]
  },
  {
   "cell_type": "code",
   "execution_count": 10,
   "id": "3d1e11e0",
   "metadata": {},
   "outputs": [
    {
     "name": "stdout",
     "output_type": "stream",
     "text": [
      "2.314052443156252\n",
      "2.2288431832418967\n",
      "2.881916644940845\n"
     ]
    }
   ],
   "source": [
    "print(desviacion_standar(df['goles_favor']))\n",
    "print(desviacion_standar(df['goles_contra']))\n",
    "print(desviacion_standar(df['puntos']))"
   ]
  },
  {
   "cell_type": "markdown",
   "id": "7f05c774",
   "metadata": {},
   "source": [
    "**Desafio 2**"
   ]
  },
  {
   "cell_type": "code",
   "execution_count": 15,
   "id": "78b327c0",
   "metadata": {},
   "outputs": [
    {
     "data": {
      "text/html": [
       "<div>\n",
       "<style scoped>\n",
       "    .dataframe tbody tr th:only-of-type {\n",
       "        vertical-align: middle;\n",
       "    }\n",
       "\n",
       "    .dataframe tbody tr th {\n",
       "        vertical-align: top;\n",
       "    }\n",
       "\n",
       "    .dataframe thead tr th {\n",
       "        text-align: left;\n",
       "    }\n",
       "\n",
       "    .dataframe thead tr:last-of-type th {\n",
       "        text-align: right;\n",
       "    }\n",
       "</style>\n",
       "<table border=\"1\" class=\"dataframe\">\n",
       "  <thead>\n",
       "    <tr>\n",
       "      <th></th>\n",
       "      <th colspan=\"3\" halign=\"left\">goles_favor</th>\n",
       "      <th colspan=\"3\" halign=\"left\">goles_contra</th>\n",
       "      <th colspan=\"3\" halign=\"left\">puntos</th>\n",
       "    </tr>\n",
       "    <tr>\n",
       "      <th></th>\n",
       "      <th>mean</th>\n",
       "      <th>var</th>\n",
       "      <th>std</th>\n",
       "      <th>mean</th>\n",
       "      <th>var</th>\n",
       "      <th>std</th>\n",
       "      <th>mean</th>\n",
       "      <th>var</th>\n",
       "      <th>std</th>\n",
       "    </tr>\n",
       "    <tr>\n",
       "      <th>continent</th>\n",
       "      <th></th>\n",
       "      <th></th>\n",
       "      <th></th>\n",
       "      <th></th>\n",
       "      <th></th>\n",
       "      <th></th>\n",
       "      <th></th>\n",
       "      <th></th>\n",
       "      <th></th>\n",
       "    </tr>\n",
       "  </thead>\n",
       "  <tbody>\n",
       "    <tr>\n",
       "      <th>africa</th>\n",
       "      <td>3.600000</td>\n",
       "      <td>3.300000</td>\n",
       "      <td>1.816590</td>\n",
       "      <td>5.600000</td>\n",
       "      <td>4.800000</td>\n",
       "      <td>2.190890</td>\n",
       "      <td>2.400000</td>\n",
       "      <td>3.300000</td>\n",
       "      <td>1.816590</td>\n",
       "    </tr>\n",
       "    <tr>\n",
       "      <th>asia</th>\n",
       "      <td>2.250000</td>\n",
       "      <td>0.916667</td>\n",
       "      <td>0.957427</td>\n",
       "      <td>6.250000</td>\n",
       "      <td>4.250000</td>\n",
       "      <td>2.061553</td>\n",
       "      <td>0.750000</td>\n",
       "      <td>0.250000</td>\n",
       "      <td>0.500000</td>\n",
       "    </tr>\n",
       "    <tr>\n",
       "      <th>europe</th>\n",
       "      <td>4.769231</td>\n",
       "      <td>6.858974</td>\n",
       "      <td>2.618964</td>\n",
       "      <td>4.000000</td>\n",
       "      <td>3.833333</td>\n",
       "      <td>1.957890</td>\n",
       "      <td>4.692308</td>\n",
       "      <td>6.897436</td>\n",
       "      <td>2.626297</td>\n",
       "    </tr>\n",
       "    <tr>\n",
       "      <th>northamerica</th>\n",
       "      <td>3.250000</td>\n",
       "      <td>2.250000</td>\n",
       "      <td>1.500000</td>\n",
       "      <td>3.500000</td>\n",
       "      <td>11.000000</td>\n",
       "      <td>3.316625</td>\n",
       "      <td>4.500000</td>\n",
       "      <td>11.000000</td>\n",
       "      <td>3.316625</td>\n",
       "    </tr>\n",
       "    <tr>\n",
       "      <th>southamerica</th>\n",
       "      <td>5.666667</td>\n",
       "      <td>4.666667</td>\n",
       "      <td>2.160247</td>\n",
       "      <td>2.833333</td>\n",
       "      <td>0.566667</td>\n",
       "      <td>0.752773</td>\n",
       "      <td>6.833333</td>\n",
       "      <td>3.766667</td>\n",
       "      <td>1.940790</td>\n",
       "    </tr>\n",
       "  </tbody>\n",
       "</table>\n",
       "</div>"
      ],
      "text/plain": [
       "             goles_favor                     goles_contra             \\\n",
       "                    mean       var       std         mean        var   \n",
       "continent                                                              \n",
       "africa          3.600000  3.300000  1.816590     5.600000   4.800000   \n",
       "asia            2.250000  0.916667  0.957427     6.250000   4.250000   \n",
       "europe          4.769231  6.858974  2.618964     4.000000   3.833333   \n",
       "northamerica    3.250000  2.250000  1.500000     3.500000  11.000000   \n",
       "southamerica    5.666667  4.666667  2.160247     2.833333   0.566667   \n",
       "\n",
       "                          puntos                       \n",
       "                   std      mean        var       std  \n",
       "continent                                              \n",
       "africa        2.190890  2.400000   3.300000  1.816590  \n",
       "asia          2.061553  0.750000   0.250000  0.500000  \n",
       "europe        1.957890  4.692308   6.897436  2.626297  \n",
       "northamerica  3.316625  4.500000  11.000000  3.316625  \n",
       "southamerica  0.752773  6.833333   3.766667  1.940790  "
      ]
     },
     "execution_count": 15,
     "metadata": {},
     "output_type": "execute_result"
    }
   ],
   "source": [
    "df.groupby(['continent']).agg({'goles_favor':['mean','var','std'], 'goles_contra':['mean','var','std'], 'puntos':['mean','var','std']})"
   ]
  },
  {
   "cell_type": "markdown",
   "id": "7e664978",
   "metadata": {},
   "source": [
    "***¿En qué continente se observa una mayor cantidad de goles a favor?***"
   ]
  },
  {
   "cell_type": "markdown",
   "id": "fe4d619b",
   "metadata": {},
   "source": [
    "Sudamerica tiene una mayor cantidad de goles a favor"
   ]
  },
  {
   "cell_type": "markdown",
   "id": "b1820f19",
   "metadata": {},
   "source": [
    "***¿En qué continente se observa una mayor cantidad de goles en contra?***"
   ]
  },
  {
   "cell_type": "markdown",
   "id": "6bc53ef9",
   "metadata": {},
   "source": [
    "Asia es el continente que tiene mayor cantidad de goles en contra"
   ]
  },
  {
   "cell_type": "markdown",
   "id": "58caa02e",
   "metadata": {},
   "source": [
    "***¿En qué continente se observa una mayor cantidad de puntos en promedio?***"
   ]
  },
  {
   "cell_type": "markdown",
   "id": "31a72035",
   "metadata": {},
   "source": [
    "Sudamerica es el continente que tiene una mayor cantidad de puntos en promedio\n"
   ]
  },
  {
   "cell_type": "markdown",
   "id": "fc1067f2",
   "metadata": {},
   "source": [
    "**Desafio 3**\n"
   ]
  },
  {
   "cell_type": "code",
   "execution_count": 17,
   "id": "dcc6f48d",
   "metadata": {},
   "outputs": [],
   "source": [
    "def generate_pet(n):\n",
    "    animals = ['perro', 'gato']\n",
    "    return np.random.choice(animals, n)"
   ]
  },
  {
   "cell_type": "code",
   "execution_count": 18,
   "id": "926ab8ba",
   "metadata": {},
   "outputs": [
    {
     "data": {
      "text/plain": [
       "array(['gato', 'perro', 'gato', 'perro'], dtype='<U5')"
      ]
     },
     "execution_count": 18,
     "metadata": {},
     "output_type": "execute_result"
    }
   ],
   "source": [
    "generate_pet(4)"
   ]
  },
  {
   "cell_type": "code",
   "execution_count": 19,
   "id": "e5e82d11",
   "metadata": {},
   "outputs": [
    {
     "data": {
      "text/plain": [
       "array(['gato', 'gato', 'gato', 'perro', 'gato', 'perro', 'gato', 'gato',\n",
       "       'gato', 'gato', 'perro', 'perro', 'perro', 'gato', 'gato'],\n",
       "      dtype='<U5')"
      ]
     },
     "execution_count": 19,
     "metadata": {},
     "output_type": "execute_result"
    }
   ],
   "source": [
    "generate_pet(15)"
   ]
  },
  {
   "cell_type": "code",
   "execution_count": 66,
   "id": "3deba8d0",
   "metadata": {},
   "outputs": [],
   "source": [
    "dfpets = pd.DataFrame(generate_pet(20))"
   ]
  },
  {
   "cell_type": "code",
   "execution_count": 67,
   "id": "7db6ea67",
   "metadata": {},
   "outputs": [
    {
     "data": {
      "text/plain": [
       "gato     11\n",
       "perro     9\n",
       "dtype: int64"
      ]
     },
     "execution_count": 67,
     "metadata": {},
     "output_type": "execute_result"
    }
   ],
   "source": [
    "dfpets.value_counts()"
   ]
  },
  {
   "cell_type": "markdown",
   "id": "49654775",
   "metadata": {},
   "source": [
    "***¿Cuál es la probabilidad de elegir un perro al azar?*** "
   ]
  },
  {
   "cell_type": "code",
   "execution_count": 68,
   "id": "4f39640e",
   "metadata": {},
   "outputs": [
    {
     "data": {
      "text/plain": [
       "45.0"
      ]
     },
     "execution_count": 68,
     "metadata": {},
     "output_type": "execute_result"
    }
   ],
   "source": [
    "p_perro = dfpets.value_counts()['perro']/dfpets.value_counts().sum()*100\n",
    "p_perro"
   ]
  },
  {
   "cell_type": "markdown",
   "id": "c983e1a0",
   "metadata": {},
   "source": [
    "La probabilidad de elegir un perro al azar es de 45%"
   ]
  },
  {
   "cell_type": "markdown",
   "id": "bd07e534",
   "metadata": {},
   "source": [
    "***¿Y un gato?***"
   ]
  },
  {
   "cell_type": "code",
   "execution_count": 71,
   "id": "3136d522",
   "metadata": {},
   "outputs": [
    {
     "data": {
      "text/plain": [
       "55.00000000000001"
      ]
     },
     "execution_count": 71,
     "metadata": {},
     "output_type": "execute_result"
    }
   ],
   "source": [
    "p_gato = dfpets.value_counts()['gato']/dfpets.value_counts().sum()*100\n",
    "p_gato"
   ]
  },
  {
   "cell_type": "markdown",
   "id": "63e5e072",
   "metadata": {},
   "source": [
    "La probabilidad de elegir un gato al azar es de 55%"
   ]
  },
  {
   "cell_type": "markdown",
   "id": "20066dc2",
   "metadata": {},
   "source": [
    "***Agregue np.random.seed(2) al inicio del chunk. ¿Qué diferencia hay cuando se                     \n",
    "ejecuta la función varias veces luego de fijar la semilla?***"
   ]
  },
  {
   "cell_type": "code",
   "execution_count": 90,
   "id": "aeff4ffa",
   "metadata": {},
   "outputs": [
    {
     "data": {
      "text/plain": [
       "array(['perro', 'gato', 'gato', 'perro', 'perro'], dtype='<U5')"
      ]
     },
     "execution_count": 90,
     "metadata": {},
     "output_type": "execute_result"
    }
   ],
   "source": [
    "np.random.seed(2)\n",
    "def generate_pet(n):\n",
    "    animals = ['perro', 'gato']\n",
    "    return np.random.choice(animals, n)\n",
    "generate_pet(5)"
   ]
  },
  {
   "cell_type": "markdown",
   "id": "af200300",
   "metadata": {},
   "source": [
    "No cambia el array generado, antes cambiaba cada vez que ejecutaba la funcion."
   ]
  },
  {
   "cell_type": "markdown",
   "id": "263773a6",
   "metadata": {},
   "source": [
    "**Desafio 4**"
   ]
  },
  {
   "cell_type": "code",
   "execution_count": 135,
   "id": "f3c4cef4",
   "metadata": {},
   "outputs": [],
   "source": [
    "np.random.seed(1)\n",
    "def simulate_pets_prob(n):\n",
    "    young_pet = generate_pet(n)\n",
    "    old_pet = generate_pet(n)\n",
    "    df_old_young = pd.DataFrame({\n",
    "        'young_pet': young_pet,\n",
    "        'old_pet': old_pet,\n",
    "    })\n",
    "    df_old_young['perro_en_uno']=np.logical_or(df_old_young['young_pet']=='perro', df_old_young['old_pet']=='perro')\n",
    "    perro_en_uno = df_old_young['perro_en_uno'].value_counts('%').get(True)\n",
    "    \n",
    "    perro_old_pet = df_old_young['old_pet'].value_counts('%').get('perro')\n",
    "    \n",
    "    df_old_young['perro_ambos']=np.logical_and(df_old_young['young_pet']=='perro', df_old_young['young_pet']=='perro')\n",
    "    perro_ambos = df_old_young['perro_ambos'].value_counts('%').get(True)\n",
    "    \n",
    "    return [perro_en_uno, perro_old_pet, perro_ambos]"
   ]
  },
  {
   "cell_type": "code",
   "execution_count": 136,
   "id": "982e6c56",
   "metadata": {},
   "outputs": [
    {
     "data": {
      "text/plain": [
       "[0.75, 0.6, 0.45]"
      ]
     },
     "execution_count": 136,
     "metadata": {},
     "output_type": "execute_result"
    }
   ],
   "source": [
    "valores = simulate_pets_prob(20)\n",
    "valores"
   ]
  },
  {
   "cell_type": "markdown",
   "id": "8f02c3ba",
   "metadata": {},
   "source": [
    "De los 3 escenarios el menos probable es que se de perro en los 2 arrays."
   ]
  },
  {
   "cell_type": "markdown",
   "id": "f8dc0b42",
   "metadata": {},
   "source": [
    "El mas probable es que al menos uno de los 2 arrays tenga perro"
   ]
  },
  {
   "cell_type": "markdown",
   "id": "5c624ec2",
   "metadata": {},
   "source": [
    "Esto se debe a que al ser valores random es mas dificil que coincidan, y es mas probable que al menos uno sea perro de los 2 sea perro. "
   ]
  }
 ],
 "metadata": {
  "kernelspec": {
   "display_name": "Python 3",
   "language": "python",
   "name": "python3"
  },
  "language_info": {
   "codemirror_mode": {
    "name": "ipython",
    "version": 3
   },
   "file_extension": ".py",
   "mimetype": "text/x-python",
   "name": "python",
   "nbconvert_exporter": "python",
   "pygments_lexer": "ipython3",
   "version": "3.8.8"
  }
 },
 "nbformat": 4,
 "nbformat_minor": 5
}
